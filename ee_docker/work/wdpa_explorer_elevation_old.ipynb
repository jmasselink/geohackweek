{
 "cells": [
  {
   "cell_type": "markdown",
   "metadata": {},
   "source": [
    "### From JavaScript here: https://code.earthengine.google.com/5806d067c03a964285f573ad61f07639"
   ]
  },
  {
   "cell_type": "markdown",
   "metadata": {},
   "source": [
    "Import libraries"
   ]
  },
  {
   "cell_type": "code",
   "execution_count": 1,
   "metadata": {
    "collapsed": true
   },
   "outputs": [],
   "source": [
    "import ee, pandas as pd, numpy as np #geopandas,shapely not in current environment - docker container\n",
    "from IPython import display ##used to display images\n",
    "from matplotlib import pyplot\n",
    "from IPython.display import Image "
   ]
  },
  {
   "cell_type": "markdown",
   "metadata": {},
   "source": [
    "Initialize Earth Engine"
   ]
  },
  {
   "cell_type": "code",
   "execution_count": 2,
   "metadata": {
    "collapsed": true
   },
   "outputs": [],
   "source": [
    "ee.Initialize()"
   ]
  },
  {
   "cell_type": "markdown",
   "metadata": {},
   "source": [
    "Import FeatureCollection"
   ]
  },
  {
   "cell_type": "code",
   "execution_count": 3,
   "metadata": {
    "collapsed": true
   },
   "outputs": [],
   "source": [
    "# import das_sites - personal EE asset\n",
    "das_sites = ee.FeatureCollection('users/jmasselink/das_sites') ##//ft:1NJIeeE0BzZLNtqA3-WSyxzGg2jxg59K4zD249QCv')"
   ]
  },
  {
   "cell_type": "code",
   "execution_count": 4,
   "metadata": {
    "collapsed": false
   },
   "outputs": [
    {
     "name": "stdout",
     "output_type": "stream",
     "text": [
      "Help on FeatureCollection in module ee.featurecollection object:\n",
      "\n",
      "class FeatureCollection(ee.collection.Collection)\n",
      " |  A representation of a FeatureCollection.\n",
      " |  \n",
      " |  Method resolution order:\n",
      " |      FeatureCollection\n",
      " |      ee.collection.Collection\n",
      " |      ee.element.Element\n",
      " |      ee.computedobject.ComputedObject\n",
      " |      ee.encodable.Encodable\n",
      " |      __builtin__.object\n",
      " |  \n",
      " |  Methods defined here:\n",
      " |  \n",
      " |  __init__(self, args, opt_column=None)\n",
      " |      Constructs a collection features.\n",
      " |      \n",
      " |      Args:\n",
      " |        args: constructor argument.  One of:\n",
      " |            1) A string - assumed to be the name of a collection.\n",
      " |            2) A number - assumed to be the ID of a Fusion Table.\n",
      " |            3) A geometry.\n",
      " |            4) A feature.\n",
      " |            5) An array of features.\n",
      " |            6) A computed object - reinterpreted as a collection.\n",
      " |        opt_column: The name of the geometry column to use. Only useful with the\n",
      " |            string or number constructor arguments.\n",
      " |      \n",
      " |      Raises:\n",
      " |        EEException: if passed something other than the above.\n",
      " |  \n",
      " |  aggregate_array = AggregateFeatureCollection.array(*args, **kwargs)\n",
      " |      Aggregates over a given property of the objects in a collection,\n",
      " |      calculating a list of all the values of the selected property.\n",
      " |      \n",
      " |      Args:\n",
      " |        collection: The collection to aggregate over.\n",
      " |        property: The property to use from each element of the\n",
      " |            collection.\n",
      " |  \n",
      " |  aggregate_count = AggregateFeatureCollection.count(*args, **kwargs)\n",
      " |      Aggregates over a given property of the objects in a collection,\n",
      " |      calculating the number of non-null values of the property.\n",
      " |      \n",
      " |      Args:\n",
      " |        collection: The collection to aggregate over.\n",
      " |        property: The property to use from each element of the\n",
      " |            collection.\n",
      " |  \n",
      " |  aggregate_count_distinct = AggregateFeatureCollection.count_distinct(*args, **kwargs)\n",
      " |      Aggregates over a given property of the objects in a collection,\n",
      " |      calculating the number of distinct values for the selected property.\n",
      " |      \n",
      " |      Args:\n",
      " |        collection: The collection to aggregate over.\n",
      " |        property: The property to use from each element of the\n",
      " |            collection.\n",
      " |  \n",
      " |  aggregate_first = AggregateFeatureCollection.first(*args, **kwargs)\n",
      " |      Aggregates over a given property of the objects in a collection,\n",
      " |      calculating the property value of the first object in the collection.\n",
      " |      \n",
      " |      Args:\n",
      " |        collection: The collection to aggregate over.\n",
      " |        property: The property to use from each element of the\n",
      " |            collection.\n",
      " |  \n",
      " |  aggregate_histogram = AggregateFeatureCollection.histogram(*args, **kwargs)\n",
      " |      Aggregates over a given property of the objects in a collection,\n",
      " |      calculating a histogram of the selected property.\n",
      " |      \n",
      " |      Args:\n",
      " |        collection: The collection to aggregate over.\n",
      " |        property: The property to use from each element of the\n",
      " |            collection.\n",
      " |  \n",
      " |  aggregate_max = AggregateFeatureCollection.max(*args, **kwargs)\n",
      " |      Aggregates over a given property of the objects in a collection,\n",
      " |      calculating the maximum of the values of the selected property.\n",
      " |      \n",
      " |      Args:\n",
      " |        collection: The collection to aggregate over.\n",
      " |        property: The property to use from each element of the\n",
      " |            collection.\n",
      " |  \n",
      " |  aggregate_mean = AggregateFeatureCollection.mean(*args, **kwargs)\n",
      " |      Aggregates over a given property of the objects in a collection,\n",
      " |      calculating the mean of the selected property.\n",
      " |      \n",
      " |      Args:\n",
      " |        collection: The collection to aggregate over.\n",
      " |        property: The property to use from each element of the\n",
      " |            collection.\n",
      " |  \n",
      " |  aggregate_min = AggregateFeatureCollection.min(*args, **kwargs)\n",
      " |      Aggregates over a given property of the objects in a collection,\n",
      " |      calculating the minimum of the values of the selected property.\n",
      " |      \n",
      " |      Args:\n",
      " |        collection: The collection to aggregate over.\n",
      " |        property: The property to use from each element of the\n",
      " |            collection.\n",
      " |  \n",
      " |  aggregate_product = AggregateFeatureCollection.product(*args, **kwargs)\n",
      " |      Aggregates over a given property of the objects in a collection,\n",
      " |      calculating the product of the values of the selected property.\n",
      " |      \n",
      " |      Args:\n",
      " |        collection: The collection to aggregate over.\n",
      " |        property: The property to use from each element of the\n",
      " |            collection.\n",
      " |  \n",
      " |  aggregate_sample_sd = AggregateFeatureCollection.sample_sd(*args, **kwargs)\n",
      " |      Aggregates over a given property of the objects in a collection,\n",
      " |      calculating the sample std. deviation of the values of the selected\n",
      " |      property.\n",
      " |      \n",
      " |      Args:\n",
      " |        collection: The collection to aggregate over.\n",
      " |        property: The property to use from each element of the\n",
      " |            collection.\n",
      " |  \n",
      " |  aggregate_sample_var = AggregateFeatureCollection.sample_var(*args, **kwargs)\n",
      " |      Aggregates over a given property of the objects in a collection,\n",
      " |      calculating the sample variance of the values of the selected property.\n",
      " |      \n",
      " |      Args:\n",
      " |        collection: The collection to aggregate over.\n",
      " |        property: The property to use from each element of the\n",
      " |            collection.\n",
      " |  \n",
      " |  aggregate_stats = AggregateFeatureCollection.stats(*args, **kwargs)\n",
      " |      Aggregates over a given property of the objects in a collection,\n",
      " |      calculating the sum, min, max, mean, sample standard deviation, sample\n",
      " |      variance, total standard deviation and total variance of the selected\n",
      " |      property.\n",
      " |      \n",
      " |      Args:\n",
      " |        collection: The collection to aggregate over.\n",
      " |        property: The property to use from each element of the\n",
      " |            collection.\n",
      " |  \n",
      " |  aggregate_sum = AggregateFeatureCollection.sum(*args, **kwargs)\n",
      " |      Aggregates over a given property of the objects in a collection,\n",
      " |      calculating the sum of the values of the selected property.\n",
      " |      \n",
      " |      Args:\n",
      " |        collection: The collection to aggregate over.\n",
      " |        property: The property to use from each element of the\n",
      " |            collection.\n",
      " |  \n",
      " |  aggregate_total_sd = AggregateFeatureCollection.total_sd(*args, **kwargs)\n",
      " |      Aggregates over a given property of the objects in a collection,\n",
      " |      calculating the total std. deviation of the values of the selected\n",
      " |      property.\n",
      " |      \n",
      " |      Args:\n",
      " |        collection: The collection to aggregate over.\n",
      " |        property: The property to use from each element of the\n",
      " |            collection.\n",
      " |  \n",
      " |  aggregate_total_var = AggregateFeatureCollection.total_var(*args, **kwargs)\n",
      " |      Aggregates over a given property of the objects in a collection,\n",
      " |      calculating the total variance of the values of the selected property.\n",
      " |      \n",
      " |      Args:\n",
      " |        collection: The collection to aggregate over.\n",
      " |        property: The property to use from each element of the\n",
      " |            collection.\n",
      " |  \n",
      " |  cache = Collection.cache(*args, **kwargs)\n",
      " |      Caches the given collection.\n",
      " |      \n",
      " |      Args:\n",
      " |        collection: The collection to cache.\n",
      " |  \n",
      " |  classify = FeatureCollection.classify(*args, **kwargs)\n",
      " |      Classifies each feature in a collection.\n",
      " |      \n",
      " |      Args:\n",
      " |        features: The collection of features to classify. Each\n",
      " |            feature must contain all the properties in the\n",
      " |            classifier's schema.\n",
      " |        classifier: The classifier to use.\n",
      " |        outputName: The name of the output property to be added.\n",
      " |  \n",
      " |  cluster = FeatureCollection.cluster(*args, **kwargs)\n",
      " |      Clusters each feature in a collection, adding a new column to each feature\n",
      " |      containing the cluster number to which it has been assigned.\n",
      " |      \n",
      " |      Args:\n",
      " |        features: The collection of features to cluster. Each feature\n",
      " |            must contain all the properties in the clusterer's\n",
      " |            schema.\n",
      " |        clusterer: The clusterer to use.\n",
      " |        outputName: The name of the output property to be added.\n",
      " |  \n",
      " |  distance = Collection.distance(*args, **kwargs)\n",
      " |      Produces a DOUBLE image where each pixel is the distance in meters from the\n",
      " |      pixel center to the nearest part of any Point or LineString features in the\n",
      " |      collection. Pixels that are not within 'searchRadius' meters of a geometry\n",
      " |      will be masked out. Distances are computed on a sphere, so there is a small\n",
      " |      error proportional to the latitude difference between each pixel and the\n",
      " |      nearest geometry.\n",
      " |      \n",
      " |      Args:\n",
      " |        features: Feature collection from which to get features used\n",
      " |            to compute pixel distances.\n",
      " |        searchRadius: Maximum distance in meters from each pixel\n",
      " |            to look for edges. Pixels will be masked unless there\n",
      " |            are edges within this distance.\n",
      " |        maxError: Maximum reprojection error in meters, only used if\n",
      " |            the input polylines require reprojection. If '0' is\n",
      " |            provided, then this operation will fail if projection is\n",
      " |            required.\n",
      " |  \n",
      " |  distinct = Collection.distinct(*args, **kwargs)\n",
      " |      Removes duplicates from a collection. Note that duplicates are determined\n",
      " |      using a strong hash over the serialized form of the selected properties.\n",
      " |      \n",
      " |      Args:\n",
      " |        collection: The input collection from which objects will be\n",
      " |            selected.\n",
      " |        selectors: Which parts of the object to use for comparisons.\n",
      " |  \n",
      " |  draw = Collection.draw(*args, **kwargs)\n",
      " |      Paints a vector collection for visualization. Not intended for use as input\n",
      " |      to other algorithms.\n",
      " |      \n",
      " |      Args:\n",
      " |        collection: The collection to draw.\n",
      " |        color: A hex string in the format RRGGBB specifying the color to\n",
      " |            use for drawing the features.\n",
      " |        pointRadius: The radius in pixels of the point markers.\n",
      " |        strokeWidth: The width in pixels of lines and polygon\n",
      " |            borders.\n",
      " |  \n",
      " |  errorMatrix = Collection.errorMatrix(*args, **kwargs)\n",
      " |      Computes a 2D error matrix for a collection by comparing two columns of a\n",
      " |      collection: one containing the actual values, and one containing predicted\n",
      " |      values.The values are expected to be small contiguous integers, starting\n",
      " |      from 0. Axis 1 (the rows) of the matrix correspond to the actual values,\n",
      " |      and Axis 0 (the columns) to the predicted values.\n",
      " |      \n",
      " |      Args:\n",
      " |        collection: The input collection.\n",
      " |        actual: The name of the property containing the actual value.\n",
      " |        predicted: The name of the property containing the predicted\n",
      " |            value.\n",
      " |        order: A list of the expected values.  If this argument is not\n",
      " |            specified, the values are assumed to be contiguous and span\n",
      " |            the range 0 to maxValue. If specified, only values matching\n",
      " |            this list are used, and the matrix will have dimensions and\n",
      " |            order matching the this list.\n",
      " |  \n",
      " |  first = Collection.first(*args, **kwargs)\n",
      " |      Returns the first entry from a given collection.\n",
      " |      \n",
      " |      Args:\n",
      " |        collection: The collection from which to select the first\n",
      " |            entry.\n",
      " |  \n",
      " |  flatten = Collection.flatten(*args, **kwargs)\n",
      " |      Flattens collections of collections.\n",
      " |      \n",
      " |      Args:\n",
      " |        collection: The input collection of collections.\n",
      " |  \n",
      " |  geometry = Collection.geometry(*args, **kwargs)\n",
      " |      Extracts and merges the geometries of a collection. Requires that all the\n",
      " |      geometries in the collection share the projection and edge interpretation.\n",
      " |      \n",
      " |      Args:\n",
      " |        collection: The collection whose geometries will be\n",
      " |            extracted.\n",
      " |        maxError: An error margin to use when merging geometries.\n",
      " |  \n",
      " |  getDownloadURL(self, filetype=None, selectors=None, filename=None)\n",
      " |      Get a download URL for this feature collection.\n",
      " |      \n",
      " |      Args:\n",
      " |        filetype: The filetype of download, either CSV or JSON. Defaults to CSV.\n",
      " |        selectors: The selectors that should be used to determine which attributes\n",
      " |            will be downloaded.\n",
      " |        filename: The name of the file to be downloaded.\n",
      " |      \n",
      " |      Returns:\n",
      " |        A URL to download the specified feature collection.\n",
      " |  \n",
      " |  getDownloadUrl = getDownloadURL(*args, **kwargs)\n",
      " |      Get a download URL for this feature collection.\n",
      " |      \n",
      " |          Args:\n",
      " |            filetype: The filetype of download, either CSV or JSON. Defaults to CSV.\n",
      " |            selectors: The selectors that should be used to determine which attributes\n",
      " |                will be downloaded.\n",
      " |            filename: The name of the file to be downloaded.\n",
      " |      \n",
      " |          Returns:\n",
      " |            A URL to download the specified feature collection.\n",
      " |          \n",
      " |      DEPRECATED: Use getDownloadURL().\n",
      " |  \n",
      " |  getMapId(self, vis_params=None)\n",
      " |      Fetch and return a map id and token, suitable for use in a Map overlay.\n",
      " |      \n",
      " |      Args:\n",
      " |        vis_params: The visualization parameters. Currently only one parameter,\n",
      " |            'color', containing a hex RGB color string is allowed.\n",
      " |      \n",
      " |      Returns:\n",
      " |        An object containing a mapid string, an access token, plus a\n",
      " |        Collection.draw image wrapping this collection.\n",
      " |  \n",
      " |  inverseDistance = FeatureCollection.inverseDistance(*args, **kwargs)\n",
      " |      Returns an inverse-distance weighted estimate of the value at each pixel.\n",
      " |      \n",
      " |      Args:\n",
      " |        collection: Feature collection to use as source data for\n",
      " |            the estimation.\n",
      " |        range: Size of the interpolation window (in meters).\n",
      " |        propertyName: Name of the numeric property to be\n",
      " |            estimated.\n",
      " |        mean: Global expected mean.\n",
      " |        stdDev: Global standard deviation.\n",
      " |        gamma: Determines how quickly the estimates tend towards the\n",
      " |            global mean.\n",
      " |        reducer: Reducer used to collapse the 'propertyName' value of\n",
      " |            overlapping points into a single value.\n",
      " |  \n",
      " |  kriging = FeatureCollection.kriging(*args, **kwargs)\n",
      " |      Returns the results of sampling a Kriging estimator at each pixel.\n",
      " |      \n",
      " |      Args:\n",
      " |        collection: Feature collection to use as source data for\n",
      " |            the estimation.\n",
      " |        propertyName: Property to be estimated (must be numeric).\n",
      " |        shape: Semivariogram shape (one of {exponential, gaussian,\n",
      " |            spherical}).\n",
      " |        range: Semivariogram range.\n",
      " |        sill: Semivariogram sill.\n",
      " |        nugget: Semivariogram nugget.\n",
      " |        maxDistance: Radius which determines which features are\n",
      " |            included in each pixel's computation. Defaults to the\n",
      " |            semivariogram's range.\n",
      " |        reducer: Reducer used to collapse the 'propertyName' value of\n",
      " |            overlapping points into a single value.\n",
      " |  \n",
      " |  makeArray = FeatureCollection.makeArray(*args, **kwargs)\n",
      " |      Add a 1-D Array to each feature in a collection by combining a list of\n",
      " |      properties for each feature into a 1-D Array. All of the properties must be\n",
      " |      numeric values.  If a feature doesn't contain all of the named properties,\n",
      " |      or any of them aren't numeric, the feature will be dropped from the\n",
      " |      resulting collection.\n",
      " |      \n",
      " |      Args:\n",
      " |        collection: The input collection from which properties will\n",
      " |            be selected.\n",
      " |        properties: The properties to select.\n",
      " |        name: The name of the new array property.\n",
      " |  \n",
      " |  merge = Collection.merge(*args, **kwargs)\n",
      " |      Merges two collections into one. The result has all the elements that were\n",
      " |      in either collection.\n",
      " |      \n",
      " |      Args:\n",
      " |        collection1: The first collection to merge.\n",
      " |        collection2: The second collection to merge.\n",
      " |  \n",
      " |  randomColumn = Collection.randomColumn(*args, **kwargs)\n",
      " |      Adds a column of deterministic pseudorandom numbers to a collection.  The\n",
      " |      numbers are double-precision floating point numbers in the range 0.0\n",
      " |      (inclusive) to 1.0 (exclusive).\n",
      " |      \n",
      " |      Args:\n",
      " |        collection: The input collection to which to add a random\n",
      " |            column.\n",
      " |        columnName: The name of the column to add.\n",
      " |        seed: A seed used when generating the random numbers.\n",
      " |  \n",
      " |  reduceColumns = Collection.reduceColumns(*args, **kwargs)\n",
      " |      Apply a reducer to each element of a collection, using the given selectors\n",
      " |      to determine the inputs. Returns a dictionary of results, keyed with the\n",
      " |      output names.\n",
      " |      \n",
      " |      Args:\n",
      " |        collection: The collection to aggregate over.\n",
      " |        reducer: The reducer to apply.\n",
      " |        selectors: A selector for each input of the reducer.\n",
      " |        weightSelectors: A selector for each weighted input of\n",
      " |            the reducer.\n",
      " |  \n",
      " |  reduceToImage = Collection.reduceToImage(*args, **kwargs)\n",
      " |      Creates an image from a feature collection by applying a reducer over the\n",
      " |      selected properties of all the features that intersect each pixel.\n",
      " |      \n",
      " |      Args:\n",
      " |        collection: Feature collection to intersect with each\n",
      " |            output pixel.\n",
      " |        properties: Properties to select from each feature and pass\n",
      " |            into the reducer.\n",
      " |        reducer: A Reducer to combine the properties of each\n",
      " |            intersecting feature into a final result to store in the\n",
      " |            pixel.\n",
      " |  \n",
      " |  remap = Collection.remap(*args, **kwargs)\n",
      " |      Remaps the value of a specific property in a collection. Takes two parallel\n",
      " |      lists and maps values found in one to values in the other. Any element with\n",
      " |      a value that is not specified in the first list is dropped from the output\n",
      " |      collection.\n",
      " |      \n",
      " |      Args:\n",
      " |        collection: The collection to be modified.\n",
      " |        lookupIn: The input mapping values. Restricted to strings and\n",
      " |            integers.\n",
      " |        lookupOut: The output mapping values. Must be the same size\n",
      " |            as lookupIn.\n",
      " |        columnName: The name of the property to remap.\n",
      " |  \n",
      " |  select(self, selectors, opt_names=None, *args)\n",
      " |      Select properties from each feature in a collection.\n",
      " |      \n",
      " |      Args:\n",
      " |        selectors: An array of names or regexes specifying the properties\n",
      " |            to select.\n",
      " |        opt_names: An array of strings specifying the new names for the\n",
      " |            selected properties.  If supplied, the length must match the number\n",
      " |            of properties selected.\n",
      " |        *args: Selector elements as varargs.\n",
      " |      \n",
      " |      Returns:\n",
      " |        The feature collection with selected properties.\n",
      " |  \n",
      " |  size = Collection.size(*args, **kwargs)\n",
      " |      Returns the number of elements in the collection.\n",
      " |      \n",
      " |      Args:\n",
      " |        collection: The collection to count.\n",
      " |  \n",
      " |  style = Collection.style(*args, **kwargs)\n",
      " |      Draw a vector collection for visualization using a simple style language.\n",
      " |      \n",
      " |      Args:\n",
      " |        collection: The collection to draw.\n",
      " |        color: A default color (CSS 3.0 color value e.g. 'FF0000' or\n",
      " |            'red') to use for drawing the features.  Supports opacity\n",
      " |            (e.g.: 'FF000088' for 50% transparent red).\n",
      " |        pointSize: The default size in pixels of the point markers.\n",
      " |        pointShape: The default shape of the marker to draw at each\n",
      " |            point location.  One of: circle, square, diamond,\n",
      " |            cross, plus, pentagram, hexagram, triangle, triangle_up\n",
      " |            triangle_down, triangle_left, triangle_right, pentagon,\n",
      " |            hexagon, star5, star6. This argument also supports the\n",
      " |            following Matlab marker abbreviations: o, s, d, x, +,\n",
      " |            p, h, ^, v, <, >.\n",
      " |        width: The default line width for lines and outlines for\n",
      " |            polygons and point shapes.\n",
      " |        fillColor: The color for filling polygons and point shapes.\n",
      " |            Defaults to 'color' at 0.66 opacity.\n",
      " |        styleProperty: A per-feature property expected to\n",
      " |            contain a dictionary. Values in the dictionary\n",
      " |            override any default values for that feature.\n",
      " |        neighborhood: If styleProperty is used and any feature\n",
      " |            has a pointSize or width larger than the defaults,\n",
      " |            tiling artifacts can occur. Specifies the maximum\n",
      " |            neighborhood (pointSize + width) needed for any\n",
      " |            feature.\n",
      " |  \n",
      " |  toList = Collection.toList(*args, **kwargs)\n",
      " |      Returns the elements of a collection as a list.\n",
      " |      \n",
      " |      Args:\n",
      " |        collection: The input collection to fetch.\n",
      " |        count: The maximum number of elements to fetch.\n",
      " |        offset: The number of elements to discard from the start. If\n",
      " |            set, (offset + count) elements will be fetched and the\n",
      " |            first offset elements will be discarded.\n",
      " |  \n",
      " |  trainClassifier = FeatureCollection.trainClassifier(*args, **kwargs)\n",
      " |      Trains a classifier from features in a collection, using the specified\n",
      " |      numeric properties of each feature as training data.  The input data is\n",
      " |      specified with the collection  and property_list arguments.  The input is\n",
      " |      generated by extracting the specified properties from each feature in the\n",
      " |      collection. The list of properties should not include the class_property,\n",
      " |      as it is handled separately.  The classifier will expect future inputs to\n",
      " |      be classified to be in the same order.  To use the classifier library,\n",
      " |      specify the classifier_name, classifier_parameters, and classifier_mode\n",
      " |      arguments.  To enable cross-validation or bagging, set the num_subsamples\n",
      " |      argument. When bagging, set the bootstrap_subsampling factor and the\n",
      " |      bootstrap_aggregator as well.  To use a custom classifier, specify it using\n",
      " |      the classifier parameter.\n",
      " |      \n",
      " |      Args:\n",
      " |        collection: A collection of classified features to use for\n",
      " |            supervised classification.\n",
      " |        property_list: The list of properties in each element of\n",
      " |            training_features to include in the training input.\n",
      " |        class_property: The name of the property in each\n",
      " |            element of training_features containing its class\n",
      " |            number.\n",
      " |        classifier_name: The name of the Abe classifier to\n",
      " |            use. Currently supported values are\n",
      " |            FastNaiveBayes, GmoMaxEnt, Winnow,\n",
      " |            MultiClassPerceptron, Pegasos, Cart,\n",
      " |            RifleSerialClassifier, IKPamir, VotingSvm,\n",
      " |            MarginSvm, ContinuousNaiveBayes. Ignored if a\n",
      " |            classifier argument is provided.\n",
      " |        classifier_parameters: The Abe classifier\n",
      " |            parameters. Ignored if a classifier argument\n",
      " |            is provided.\n",
      " |        classifier_mode: The classifier mode. Accepted values\n",
      " |            are 'classification', 'regression' and\n",
      " |            'probability'. Ignored if a classifier argument is\n",
      " |            provided.\n",
      " |        num_subsamples: The number of subsamples to use for\n",
      " |            cross-validation or bagging. If 1, no cross-\n",
      " |            validation or bagging is performed. Ignored if a\n",
      " |            classifier argument is provided.\n",
      " |        bootstrap_subsampling: The bootstrap subsampling\n",
      " |            factor. Ignored if a classifier argument is\n",
      " |            provided.\n",
      " |        bootstrap_aggregator: The bootstrap aggregator.\n",
      " |            Ignored if a classifier argument is provided.\n",
      " |        classifier: A pre-built classifier to use.\n",
      " |      DEPRECATED: Use Classifier.train().\n",
      " |  \n",
      " |  union = Collection.union(*args, **kwargs)\n",
      " |      Merges all geometries in a given collection into one and returns a\n",
      " |      collection containing a single feature with only an ID of 'union_result'\n",
      " |      and a geometry.\n",
      " |      \n",
      " |      Args:\n",
      " |        collection: The collection being merged.\n",
      " |        maxError: The maximum error allowed when performing any\n",
      " |            necessary reprojections. If not specified, defaults to\n",
      " |            the error margin requested from the output.\n",
      " |  \n",
      " |  ----------------------------------------------------------------------\n",
      " |  Class methods defined here:\n",
      " |  \n",
      " |  initialize(cls) from ee.computedobject.ComputedObjectMetaclass\n",
      " |      Imports API functions to this class.\n",
      " |  \n",
      " |  reset(cls) from ee.computedobject.ComputedObjectMetaclass\n",
      " |      Removes imported API functions from this class.\n",
      " |  \n",
      " |  ----------------------------------------------------------------------\n",
      " |  Static methods defined here:\n",
      " |  \n",
      " |  elementType()\n",
      " |  \n",
      " |  fromColumns = Collection.fromColumns(*args, **kwargs)\n",
      " |      Creates a FeatureCollection, given a list of values for each property.\n",
      " |      \n",
      " |      Args:\n",
      " |        columns: A list of values for each property; must have the\n",
      " |            same length as propertyNames.\n",
      " |        propertyNames: The property names for features in this\n",
      " |            collection.\n",
      " |        propertyTypes: The type of each property; if present,\n",
      " |            must have the same length as propertyNames.\n",
      " |  \n",
      " |  loadTable = Collection.loadTable(*args, **kwargs)\n",
      " |      Returns a Collection of features from a specified table.\n",
      " |      \n",
      " |      Args:\n",
      " |        tableId: The ID of the table to load. Either an asset ID or a\n",
      " |            Fusion Table DocID prefixed with 'ft:'.\n",
      " |        geometryColumn: The name of the column to use as the\n",
      " |            main feature geometry. Not used if tableId is an\n",
      " |            asset ID.\n",
      " |        version: The version of the asset. -1 signifies the latest\n",
      " |            version. Ignored unless tableId is an asset ID.\n",
      " |  \n",
      " |  name()\n",
      " |  \n",
      " |  randomPoints = FeatureCollection.randomPoints(*args, **kwargs)\n",
      " |      Generates points that are uniformly random on the sphere, and within the\n",
      " |      given region.\n",
      " |      \n",
      " |      Args:\n",
      " |        region: The region to generate points for.\n",
      " |        points: The number of points to generate.\n",
      " |        seed: A seed for the random number generator.\n",
      " |        maxError: The maximum amount of error tolerated when\n",
      " |            performing any necessary reprojection.\n",
      " |  \n",
      " |  ----------------------------------------------------------------------\n",
      " |  Methods inherited from ee.collection.Collection:\n",
      " |  \n",
      " |  filter(self, new_filter)\n",
      " |      Apply a filter to this collection.\n",
      " |      \n",
      " |      Args:\n",
      " |        new_filter: Filter to add to this collection.\n",
      " |      \n",
      " |      Returns:\n",
      " |        The filtered collection object.\n",
      " |  \n",
      " |  filterBounds(self, geometry)\n",
      " |      Shortcut to add a geometry filter to a collection.\n",
      " |      \n",
      " |      Items in the collection with a footprint that fails to intersect\n",
      " |      the given geometry will be excluded when the collection is evaluated.\n",
      " |      This is equivalent to self.filter(Filter().geometry(...)).\n",
      " |      \n",
      " |      Args:\n",
      " |        geometry: The boundary to filter to either as a GeoJSON geometry,\n",
      " |            or a FeatureCollection, from which a geometry will be extracted.\n",
      " |      \n",
      " |      Returns:\n",
      " |        The filter object.\n",
      " |  \n",
      " |  filterDate(self, start, opt_end=None)\n",
      " |      Shortcut to filter a collection with a date range.\n",
      " |      \n",
      " |      Items in the collection with a time_start property that doesn't\n",
      " |      fall between the start and end dates will be excluded.\n",
      " |      This is equivalent to self.filter(Filter().date(...)).\n",
      " |      \n",
      " |      Args:\n",
      " |        start: The start date as a Date object, a string representation of\n",
      " |            a date, or milliseconds since epoch.\n",
      " |        opt_end: The end date as a Date object, a string representation of\n",
      " |            a date, or milliseconds since epoch.\n",
      " |      \n",
      " |      Returns:\n",
      " |        The filter object.\n",
      " |  \n",
      " |  filterMetadata(*args, **kwargs)\n",
      " |      Shortcut to add a metadata filter to a collection.\n",
      " |      \n",
      " |      This is equivalent to self.filter(Filter().metadata(...)).\n",
      " |      \n",
      " |      Args:\n",
      " |        name: Name of a property to filter.\n",
      " |        operator: Name of a comparison operator as defined\n",
      " |            by FilterCollection.  Possible values are: \"equals\", \"less_than\",\n",
      " |            \"greater_than\", \"not_equals\", \"not_less_than\", \"not_greater_than\",\n",
      " |            \"starts_with\", \"ends_with\", \"not_starts_with\", \"not_ends_with\",\n",
      " |            \"contains\", \"not_contains\".\n",
      " |        value: The value to compare against.\n",
      " |      \n",
      " |      Returns:\n",
      " |        The filtered collection.\n",
      " |  \n",
      " |  getInfo(self)\n",
      " |      Returns all the known information about this collection.\n",
      " |      \n",
      " |      This function makes an REST call to to retrieve all the known information\n",
      " |      about this collection.\n",
      " |      \n",
      " |      Returns:\n",
      " |        The return contents vary but will include at least:\n",
      " |         features: an array containing metadata about the items in the\n",
      " |             collection that passed all filters.\n",
      " |         properties: a dictionary containing the collection's metadata\n",
      " |             properties.\n",
      " |  \n",
      " |  iterate(self, algorithm, first=None)\n",
      " |      Iterates over a collection with an algorithm.\n",
      " |      \n",
      " |      Applies a user-supplied function to each element of a collection. The\n",
      " |      user-supplied function is given two arguments: the current element, and\n",
      " |      the value returned by the previous call to iterate() or the first argument,\n",
      " |      for the first iteration. The result is the value returned by the final\n",
      " |      call to the user-supplied function.\n",
      " |      \n",
      " |      Args:\n",
      " |        algorithm: The function to apply to each element. Must take two\n",
      " |            arguments - an element of the collection and the value from the\n",
      " |            previous iteration.\n",
      " |        first: The initial state.\n",
      " |      \n",
      " |      Returns:\n",
      " |        The result of the Collection.iterate() call.\n",
      " |      \n",
      " |      Raises:\n",
      " |        ee_exception.EEException: if algorithm is not a function.\n",
      " |  \n",
      " |  limit(self, maximum, opt_property=None, opt_ascending=None)\n",
      " |      Limit a collection to the specified number of elements.\n",
      " |      \n",
      " |      This limits a collection to the specified number of elements, optionally\n",
      " |      sorting them by a specified property first.\n",
      " |      \n",
      " |      Args:\n",
      " |         maximum: The number to limit the collection to.\n",
      " |         opt_property: The property to sort by, if sorting.\n",
      " |         opt_ascending: Whether to sort in ascending or descending order.\n",
      " |             The default is true (ascending).\n",
      " |      \n",
      " |      Returns:\n",
      " |         The collection.\n",
      " |  \n",
      " |  map(self, algorithm, opt_dropNulls=None)\n",
      " |      Maps an algorithm over a collection.\n",
      " |      \n",
      " |      Args:\n",
      " |        algorithm: The operation to map over the images or features of the\n",
      " |            collection, a Python function that receives an image or features and\n",
      " |            returns one. The function is called only once and the result is\n",
      " |            captured as a description, so it cannot perform imperative operations\n",
      " |            or rely on external state.\n",
      " |        opt_dropNulls: If true, the mapped algorithm is allowed to return nulls,\n",
      " |            and the elements for which it returns nulls will be dropped.\n",
      " |      \n",
      " |      Returns:\n",
      " |        The mapped collection.\n",
      " |      \n",
      " |      Raises:\n",
      " |        ee_exception.EEException: if algorithm is not a function.\n",
      " |  \n",
      " |  sort(self, prop, opt_ascending=None)\n",
      " |      Sort a collection by the specified property.\n",
      " |      \n",
      " |      Args:\n",
      " |         prop: The property to sort by.\n",
      " |         opt_ascending: Whether to sort in ascending or descending\n",
      " |             order.  The default is true (ascending).\n",
      " |      \n",
      " |      Returns:\n",
      " |         The collection.\n",
      " |  \n",
      " |  ----------------------------------------------------------------------\n",
      " |  Methods inherited from ee.element.Element:\n",
      " |  \n",
      " |  copyProperties = Element.copyProperties(*args, **kwargs)\n",
      " |      Copies metadata properties from one element to another.\n",
      " |      \n",
      " |      Args:\n",
      " |        destination: The object whose properties to override.\n",
      " |        source: The object from which to copy the properties.\n",
      " |        properties: The properties to copy.  If omitted, all\n",
      " |            ordinary (i.e. non-system) properties are copied.\n",
      " |        exclude: The list of properties to exclude when copying all\n",
      " |            properties. Must not be specified if properties is.\n",
      " |  \n",
      " |  get = Element.get(*args, **kwargs)\n",
      " |      Extract a property from a feature.\n",
      " |      \n",
      " |      Args:\n",
      " |        object: The feature to extract the property from.\n",
      " |        property: The property to extract.\n",
      " |  \n",
      " |  propertyNames = Element.propertyNames(*args, **kwargs)\n",
      " |      Returns the names of properties on this element.\n",
      " |      \n",
      " |      Args:\n",
      " |        element\n",
      " |  \n",
      " |  set(self, *args)\n",
      " |      Overrides one or more metadata properties of an Element.\n",
      " |      \n",
      " |      Args:\n",
      " |        *args: Either a dictionary of properties, or a vararg sequence of\n",
      " |            properties, e.g. key1, value1, key2, value2, ...\n",
      " |      \n",
      " |      Returns:\n",
      " |        The element with the specified properties overridden.\n",
      " |  \n",
      " |  setMulti = Element.setMulti(*args, **kwargs)\n",
      " |      Overrides one or more metadata properties of an object.\n",
      " |      \n",
      " |      Args:\n",
      " |        object: The object whose properties to override.\n",
      " |        properties: The property values to override.\n",
      " |  \n",
      " |  toDictionary = Element.toDictionary(*args, **kwargs)\n",
      " |      Extract properties from a feature as a dictionary.\n",
      " |      \n",
      " |      Args:\n",
      " |        element: The feature to extract the property from.\n",
      " |        properties: The list of properties to extract.  Defaults to\n",
      " |            all non-system properties.\n",
      " |  \n",
      " |  ----------------------------------------------------------------------\n",
      " |  Methods inherited from ee.computedobject.ComputedObject:\n",
      " |  \n",
      " |  __eq__(self, other)\n",
      " |  \n",
      " |  __hash__(self)\n",
      " |  \n",
      " |  __ne__(self, other)\n",
      " |  \n",
      " |  __str__(self)\n",
      " |      Writes out the object in a human-readable form.\n",
      " |  \n",
      " |  aside(self, func, *var_args)\n",
      " |      Calls a function passing this object as the first argument.\n",
      " |      \n",
      " |      Returns the object itself for chaining. Convenient e.g. when debugging:\n",
      " |      \n",
      " |      c = (ee.ImageCollection('foo').aside(logging.info)\n",
      " |               .filterDate('2001-01-01', '2002-01-01').aside(logging.info)\n",
      " |               .filterBounds(geom).aside(logging.info)\n",
      " |               .aside(addToMap, {'min': 0, 'max': 142})\n",
      " |               .select('a', 'b'))\n",
      " |      \n",
      " |      Args:\n",
      " |        func: The function to call.\n",
      " |        *var_args: Any extra arguments to pass to the function.\n",
      " |      \n",
      " |      Returns:\n",
      " |        The same object, for chaining.\n",
      " |  \n",
      " |  encode(self, encoder)\n",
      " |      Encodes the object in a format compatible with Serializer.\n",
      " |  \n",
      " |  isVariable(self)\n",
      " |      Returns whether this computed object is a variable reference.\n",
      " |  \n",
      " |  serialize(self, opt_pretty=False)\n",
      " |      Serialize this object into a JSON string.\n",
      " |      \n",
      " |      Args:\n",
      " |        opt_pretty: A flag indicating whether to pretty-print the JSON.\n",
      " |      \n",
      " |      Returns:\n",
      " |        The serialized representation of this object.\n",
      " |  \n",
      " |  ----------------------------------------------------------------------\n",
      " |  Static methods inherited from ee.computedobject.ComputedObject:\n",
      " |  \n",
      " |  freeze(obj)\n",
      " |      Freeze a list or dict so it can be hashed.\n",
      " |  \n",
      " |  ----------------------------------------------------------------------\n",
      " |  Data descriptors inherited from ee.encodable.Encodable:\n",
      " |  \n",
      " |  __dict__\n",
      " |      dictionary for instance variables (if defined)\n",
      " |  \n",
      " |  __weakref__\n",
      " |      list of weak references to the object (if defined)\n",
      "\n"
     ]
    }
   ],
   "source": [
    "## shows options and parameters on Computed Object\n",
    "help(das_sites)"
   ]
  },
  {
   "cell_type": "markdown",
   "metadata": {},
   "source": [
    "Count the number of unique features in FeatureCollection using aggregate_count()"
   ]
  },
  {
   "cell_type": "code",
   "execution_count": 5,
   "metadata": {
    "collapsed": false
   },
   "outputs": [
    {
     "data": {
      "text/plain": [
       "78"
      ]
     },
     "execution_count": 5,
     "metadata": {},
     "output_type": "execute_result"
    }
   ],
   "source": [
    "das_sites_count = das_sites.aggregate_count('name')\n",
    "das_sites_count.getInfo()"
   ]
  },
  {
   "cell_type": "markdown",
   "metadata": {},
   "source": [
    "Count the number of unique features in FeatureCollection using aggregate_count_distinct()"
   ]
  },
  {
   "cell_type": "code",
   "execution_count": 6,
   "metadata": {
    "collapsed": false
   },
   "outputs": [
    {
     "data": {
      "text/plain": [
       "76"
      ]
     },
     "execution_count": 6,
     "metadata": {},
     "output_type": "execute_result"
    }
   ],
   "source": [
    "das_sites_count_name = das_sites.aggregate_count_distinct('name')\n",
    "das_sites_count_name.getInfo()"
   ]
  },
  {
   "cell_type": "code",
   "execution_count": 7,
   "metadata": {
    "collapsed": false
   },
   "outputs": [
    {
     "name": "stdout",
     "output_type": "stream",
     "text": [
      "Help on method AggregateFeatureCollection.count_distinct in AggregateFeatureCollection:\n",
      "\n",
      "AggregateFeatureCollection.count_distinct(*args, **kwargs) method of ee.featurecollection.FeatureCollection instance\n",
      "    Aggregates over a given property of the objects in a collection,\n",
      "    calculating the number of distinct values for the selected property.\n",
      "    \n",
      "    Args:\n",
      "      collection: The collection to aggregate over.\n",
      "      property: The property to use from each element of the\n",
      "          collection.\n",
      "\n"
     ]
    }
   ],
   "source": [
    "help(das_sites.aggregate_count_distinct)"
   ]
  },
  {
   "cell_type": "markdown",
   "metadata": {},
   "source": [
    "Shows ee.ComputedObject() properties"
   ]
  },
  {
   "cell_type": "code",
   "execution_count": 8,
   "metadata": {
    "collapsed": false
   },
   "outputs": [
    {
     "name": "stdout",
     "output_type": "stream",
     "text": [
      "ee.ComputedObject({\n",
      "  \"type\": \"Invocation\", \n",
      "  \"arguments\": {\n",
      "    \"property\": \"name\", \n",
      "    \"collection\": {\n",
      "      \"type\": \"Invocation\", \n",
      "      \"arguments\": {\n",
      "        \"tableId\": \"users/jmasselink/das_sites\"\n",
      "      }, \n",
      "      \"functionName\": \"Collection.loadTable\"\n",
      "    }\n",
      "  }, \n",
      "  \"functionName\": \"AggregateFeatureCollection.count\"\n",
      "})\n"
     ]
    }
   ],
   "source": [
    "print(das_sites_count)"
   ]
  },
  {
   "cell_type": "markdown",
   "metadata": {},
   "source": [
    "Add WDPA as FeatureCollection"
   ]
  },
  {
   "cell_type": "code",
   "execution_count": 9,
   "metadata": {
    "collapsed": true
   },
   "outputs": [],
   "source": [
    "# import WDPA\n",
    "# https://code.earthengine.google.com/dataset/WCMC/WDPA/current/polygons\n",
    "wdpa_polygons = ee.FeatureCollection('WCMC/WDPA/current/polygons') "
   ]
  },
  {
   "cell_type": "markdown",
   "metadata": {},
   "source": [
    "Count Distinct Names in WDPA dataset"
   ]
  },
  {
   "cell_type": "code",
   "execution_count": 10,
   "metadata": {
    "collapsed": true
   },
   "outputs": [],
   "source": [
    "wdpa_count = wdpa_polygons.aggregate_count_distinct('NAME')"
   ]
  },
  {
   "cell_type": "code",
   "execution_count": 11,
   "metadata": {
    "collapsed": false
   },
   "outputs": [
    {
     "data": {
      "text/plain": [
       "198888"
      ]
     },
     "execution_count": 11,
     "metadata": {},
     "output_type": "execute_result"
    }
   ],
   "source": [
    "wdpa_count.getInfo()"
   ]
  },
  {
   "cell_type": "markdown",
   "metadata": {},
   "source": [
    "Count Distinct PA Types in WDPA dataset"
   ]
  },
  {
   "cell_type": "code",
   "execution_count": 12,
   "metadata": {
    "collapsed": true
   },
   "outputs": [],
   "source": [
    "wdpa_pa_type_count = wdpa_polygons.aggregate_count_distinct('DESIG_ENG')"
   ]
  },
  {
   "cell_type": "code",
   "execution_count": 13,
   "metadata": {
    "collapsed": false
   },
   "outputs": [
    {
     "data": {
      "text/plain": [
       "1565"
      ]
     },
     "execution_count": 13,
     "metadata": {},
     "output_type": "execute_result"
    }
   ],
   "source": [
    "wdpa_pa_type_count.getInfo()"
   ]
  },
  {
   "cell_type": "markdown",
   "metadata": {},
   "source": [
    "Count Terrestrial National Parks in WDPA FeatureCollection"
   ]
  },
  {
   "cell_type": "code",
   "execution_count": 14,
   "metadata": {
    "collapsed": false
   },
   "outputs": [
    {
     "data": {
      "text/plain": [
       "2179"
      ]
     },
     "execution_count": 14,
     "metadata": {},
     "output_type": "execute_result"
    }
   ],
   "source": [
    "# double filter of WDPA dataset\n",
    "wdpa_np = wdpa_polygons.filter(ee.Filter().eq('MARINE', '0')).filter(ee.Filter().eq('DESIG_ENG', 'National Park'))\n",
    "wdpa_np_count = wdpa_np.aggregate_count_distinct('NAME')\n",
    "wdpa_np_count.getInfo()"
   ]
  },
  {
   "cell_type": "markdown",
   "metadata": {},
   "source": [
    "Create pandas dataframe to contain **das_sites** feature collection data"
   ]
  },
  {
   "cell_type": "code",
   "execution_count": 45,
   "metadata": {
    "collapsed": true
   },
   "outputs": [],
   "source": [
    "# from matplotlib import rcsetup\n",
    "# rcsetup.all_backends"
   ]
  },
  {
   "cell_type": "code",
   "execution_count": 46,
   "metadata": {
    "collapsed": true
   },
   "outputs": [],
   "source": [
    "# create Pandas data frame to read ee.FeatureCollection\n",
    "das_df = pd.Series(das_sites)"
   ]
  },
  {
   "cell_type": "code",
   "execution_count": 47,
   "metadata": {
    "collapsed": false
   },
   "outputs": [
    {
     "data": {
      "text/plain": [
       "0    ee.FeatureCollection({\\n  \"type\": \"Invocation\"...\n",
       "dtype: object"
      ]
     },
     "execution_count": 47,
     "metadata": {},
     "output_type": "execute_result"
    }
   ],
   "source": [
    "das_df.head()"
   ]
  },
  {
   "cell_type": "markdown",
   "metadata": {},
   "source": [
    "#### Accessing Feature Class parameters"
   ]
  },
  {
   "cell_type": "markdown",
   "metadata": {},
   "source": [
    "Count National Parks in Zambia and list them"
   ]
  },
  {
   "cell_type": "code",
   "execution_count": 48,
   "metadata": {
    "collapsed": false
   },
   "outputs": [
    {
     "data": {
      "text/plain": [
       "18"
      ]
     },
     "execution_count": 48,
     "metadata": {},
     "output_type": "execute_result"
    }
   ],
   "source": [
    "zmb_np = wdpa_polygons.filter(ee.Filter().eq('ISO3', 'ZMB')).filter(ee.Filter().eq('DESIG_ENG', 'National Park'))\n",
    "zmp_np_count = zmb_np.aggregate_count_distinct('NAME')\n",
    "zmp_np_count.getInfo()"
   ]
  },
  {
   "cell_type": "markdown",
   "metadata": {},
   "source": [
    "Get Info on Area Feature Collection"
   ]
  },
  {
   "cell_type": "code",
   "execution_count": 54,
   "metadata": {
    "collapsed": false
   },
   "outputs": [
    {
     "data": {
      "text/plain": [
       "{u'1439.04185719972': 1,\n",
       " u'1624.47557307': 1,\n",
       " u'1773.38012382': 1,\n",
       " u'1928.7668629325': 1,\n",
       " u'22314.2360939883': 1,\n",
       " u'2871.76692508371': 1,\n",
       " u'3188.76059499045': 1,\n",
       " u'329.176883479071': 1,\n",
       " u'344.845417478613': 1,\n",
       " u'4153.67997638966': 1,\n",
       " u'436.992027347558': 1,\n",
       " u'4477.33829676107': 1,\n",
       " u'4538.11531448577': 1,\n",
       " u'469.092071829658': 1,\n",
       " u'80.8961442931312': 1,\n",
       " u'871.202406540394': 1,\n",
       " u'8985.47757679037': 1,\n",
       " u'908.016551531842': 1}"
      ]
     },
     "execution_count": 54,
     "metadata": {},
     "output_type": "execute_result"
    }
   ],
   "source": [
    "zmb_nb_histo = zmb_np.aggregate_histogram('GIS_AREA')\n",
    "zmb_nb_histo.getInfo()"
   ]
  },
  {
   "cell_type": "markdown",
   "metadata": {},
   "source": [
    "Write Feature Collection to a Pandas DataFrame"
   ]
  },
  {
   "cell_type": "code",
   "execution_count": 19,
   "metadata": {
    "collapsed": false
   },
   "outputs": [
    {
     "ename": "NameError",
     "evalue": "name 'srtm' is not defined",
     "output_type": "error",
     "traceback": [
      "\u001b[1;31m\u001b[0m",
      "\u001b[1;31mNameError\u001b[0mTraceback (most recent call last)",
      "\u001b[1;32m<ipython-input-19-0f3342818d38>\u001b[0m in \u001b[0;36m<module>\u001b[1;34m()\u001b[0m\n\u001b[1;32m----> 1\u001b[1;33m \u001b[0mzmb_np_region\u001b[0m \u001b[1;33m=\u001b[0m \u001b[0msrtm\u001b[0m\u001b[1;33m.\u001b[0m\u001b[0mgetRegion\u001b[0m\u001b[1;33m(\u001b[0m\u001b[0mzmb_np\u001b[0m\u001b[1;33m,\u001b[0m \u001b[1;34m'EPSG:4326'\u001b[0m\u001b[1;33m)\u001b[0m\u001b[1;33m.\u001b[0m\u001b[0mgetInfo\u001b[0m\u001b[1;33m(\u001b[0m\u001b[1;33m)\u001b[0m\u001b[1;33m\u001b[0m\u001b[0m\n\u001b[0m\u001b[0;32m      2\u001b[0m \u001b[0mdf\u001b[0m \u001b[1;33m=\u001b[0m \u001b[0mDataFrame\u001b[0m\u001b[1;33m(\u001b[0m\u001b[0mdata\u001b[0m\u001b[1;33m=\u001b[0m\u001b[0mzmb_np\u001b[0m\u001b[1;33m,\u001b[0m \u001b[0mcolumns\u001b[0m\u001b[1;33m=\u001b[0m\u001b[1;34m'NAME'\u001b[0m\u001b[1;33m)\u001b[0m\u001b[1;33m\u001b[0m\u001b[0m\n\u001b[0;32m      3\u001b[0m \u001b[0mdf\u001b[0m\u001b[1;33m.\u001b[0m\u001b[0mto_csv\u001b[0m\u001b[1;33m(\u001b[0m\u001b[1;33m)\u001b[0m\u001b[1;33m\u001b[0m\u001b[0m\n\u001b[0;32m      4\u001b[0m \u001b[1;31m# def buildTable():\u001b[0m\u001b[1;33m\u001b[0m\u001b[1;33m\u001b[0m\u001b[0m\n\u001b[0;32m      5\u001b[0m \u001b[1;31m# np = zmb_np.reduceColumns(ee.Reducer.toList(),['NAME']).get'list')\u001b[0m\u001b[1;33m\u001b[0m\u001b[1;33m\u001b[0m\u001b[0m\n",
      "\u001b[1;31mNameError\u001b[0m: name 'srtm' is not defined"
     ]
    }
   ],
   "source": [
    "zmb_np_region = srtm.getRegion(zmb_np, 'EPSG:4326').getInfo()\n",
    "df = DataFrame(data=zmb_np, columns='NAME')\n",
    "df.to_csv()\n",
    "# def buildTable():\n",
    "# np = zmb_np.reduceColumns(ee.Reducer.toList(),['NAME']).get'list')\n",
    "# np.getInfo()"
   ]
  },
  {
   "cell_type": "code",
   "execution_count": 20,
   "metadata": {
    "collapsed": false
   },
   "outputs": [
    {
     "name": "stdout",
     "output_type": "stream",
     "text": [
      "ee.ComputedObject({\n",
      "  \"type\": \"Invocation\", \n",
      "  \"arguments\": {\n",
      "    \"property\": \"name\", \n",
      "    \"collection\": {\n",
      "      \"type\": \"Invocation\", \n",
      "      \"arguments\": {\n",
      "        \"tableId\": \"users/jmasselink/das_sites\"\n",
      "      }, \n",
      "      \"functionName\": \"Collection.loadTable\"\n",
      "    }\n",
      "  }, \n",
      "  \"functionName\": \"AggregateFeatureCollection.count\"\n",
      "})\n"
     ]
    }
   ],
   "source": [
    "list_sites = das_sites.aggregate_count(\"name\")  ##aggregate_array\n",
    "print(list_sites)"
   ]
  },
  {
   "cell_type": "markdown",
   "metadata": {},
   "source": [
    "#### Query for a name"
   ]
  },
  {
   "cell_type": "code",
   "execution_count": 59,
   "metadata": {
    "collapsed": true,
    "scrolled": true
   },
   "outputs": [],
   "source": [
    "lewa = (das_sites.filter(ee.Filter().eq('name', 'Lewa')))\n",
    "lewa_geo = lewa.geometry() #.area()\n",
    "infoLewa = lewa_geo.getInfo()"
   ]
  },
  {
   "cell_type": "markdown",
   "metadata": {},
   "source": [
    "Calculate area on feature geometry"
   ]
  },
  {
   "cell_type": "code",
   "execution_count": 61,
   "metadata": {
    "collapsed": false
   },
   "outputs": [
    {
     "ename": "AttributeError",
     "evalue": "'dict' object has no attribute 'area'",
     "output_type": "error",
     "traceback": [
      "\u001b[1;31m\u001b[0m",
      "\u001b[1;31mAttributeError\u001b[0mTraceback (most recent call last)",
      "\u001b[1;32m<ipython-input-61-fc4e312750c9>\u001b[0m in \u001b[0;36m<module>\u001b[1;34m()\u001b[0m\n\u001b[0;32m      1\u001b[0m \u001b[1;31m# infoLewa.Feature.area()\u001b[0m\u001b[1;33m\u001b[0m\u001b[1;33m\u001b[0m\u001b[0m\n\u001b[1;32m----> 2\u001b[1;33m \u001b[0mareaLewa\u001b[0m \u001b[1;33m=\u001b[0m \u001b[0minfoLewa\u001b[0m\u001b[1;33m.\u001b[0m\u001b[0marea\u001b[0m\u001b[1;33m(\u001b[0m\u001b[1;33m)\u001b[0m\u001b[1;33m\u001b[0m\u001b[0m\n\u001b[0m\u001b[0;32m      3\u001b[0m \u001b[0mareaLewa\u001b[0m\u001b[1;33m.\u001b[0m\u001b[0mgetInfo\u001b[0m\u001b[1;33m(\u001b[0m\u001b[1;33m)\u001b[0m\u001b[1;33m\u001b[0m\u001b[0m\n",
      "\u001b[1;31mAttributeError\u001b[0m: 'dict' object has no attribute 'area'"
     ]
    }
   ],
   "source": [
    "# infoLewa.Feature.area()\n",
    "areaLewa = infoLewa.area()\n",
    "areaLewa.getInfo()"
   ]
  },
  {
   "cell_type": "markdown",
   "metadata": {},
   "source": [
    "## Load asset Feature Collection\n",
    "Head back to the [Earth Engine Public Data Catalog](https://earthengine.google.org/#index), search for **SRTM**, and load up the data description page for the **SRTM** dataset. The ID for this Image Collection is **CGIAR/SRTM90_V4**."
   ]
  },
  {
   "cell_type": "code",
   "execution_count": 26,
   "metadata": {
    "collapsed": false
   },
   "outputs": [
    {
     "data": {
      "text/html": [
       "<img src=\"https://earthengine.googleapis.com/api/thumb?thumbid=085f265c2d1272f20c9af0b75285862f&token=05340442d6cc64e8c56268b6e0480201\"/>"
      ],
      "text/plain": [
       "<IPython.core.display.Image object>"
      ]
     },
     "execution_count": 26,
     "metadata": {},
     "output_type": "execute_result"
    }
   ],
   "source": [
    "srtm = ee.Image('CGIAR/SRTM90_V4')\n",
    "Image(url=srtm.getThumbUrl())"
   ]
  },
  {
   "cell_type": "code",
   "execution_count": 27,
   "metadata": {
    "collapsed": false
   },
   "outputs": [
    {
     "data": {
      "text/html": [
       "<img src=\"https://earthengine.googleapis.com/api/thumb?thumbid=eb18993ca11dd4d8890ff8aaa2c64e33&token=cc47ded1ec5a2f1074f0d014db3cd5b6\"/>"
      ],
      "text/plain": [
       "<IPython.core.display.Image object>"
      ]
     },
     "execution_count": 27,
     "metadata": {},
     "output_type": "execute_result"
    }
   ],
   "source": [
    "Image(url=srtm.getThumbUrl({'min':0, 'max':250}))"
   ]
  },
  {
   "cell_type": "markdown",
   "metadata": {},
   "source": [
    "Calculate Mean elevation"
   ]
  },
  {
   "cell_type": "code",
   "execution_count": 28,
   "metadata": {
    "collapsed": false
   },
   "outputs": [
    {
     "data": {
      "text/plain": [
       "{u'elevation': 1792.234250668969}"
      ]
     },
     "execution_count": 28,
     "metadata": {},
     "output_type": "execute_result"
    }
   ],
   "source": [
    "avg_elevation = srtm.reduceRegion(ee.Reducer.mean(), lewa, 100)\n",
    "avg_elevation.getInfo()"
   ]
  },
  {
   "cell_type": "markdown",
   "metadata": {},
   "source": [
    "Calculate Min elevation"
   ]
  },
  {
   "cell_type": "code",
   "execution_count": 29,
   "metadata": {
    "collapsed": false
   },
   "outputs": [
    {
     "data": {
      "text/plain": [
       "{u'elevation': 1383}"
      ]
     },
     "execution_count": 29,
     "metadata": {},
     "output_type": "execute_result"
    }
   ],
   "source": [
    "min_elevation = srtm.reduceRegion(ee.Reducer.min(), lewa, 100)\n",
    "min_elevation.getInfo()"
   ]
  },
  {
   "cell_type": "markdown",
   "metadata": {},
   "source": [
    "Calculate Max elevation"
   ]
  },
  {
   "cell_type": "code",
   "execution_count": 30,
   "metadata": {
    "collapsed": false
   },
   "outputs": [
    {
     "data": {
      "text/plain": [
       "{u'elevation': 2370}"
      ]
     },
     "execution_count": 30,
     "metadata": {},
     "output_type": "execute_result"
    }
   ],
   "source": [
    "max_elevation = srtm.reduceRegion(ee.Reducer.max(), lewa, 100)\n",
    "max_elevation.getInfo()"
   ]
  },
  {
   "cell_type": "markdown",
   "metadata": {},
   "source": [
    "Calculate area of feature"
   ]
  },
  {
   "cell_type": "code",
   "execution_count": null,
   "metadata": {
    "collapsed": true
   },
   "outputs": [],
   "source": []
  },
  {
   "cell_type": "markdown",
   "metadata": {},
   "source": [
    "Calculate slope in area"
   ]
  },
  {
   "cell_type": "code",
   "execution_count": 31,
   "metadata": {
    "collapsed": false
   },
   "outputs": [
    {
     "data": {
      "text/html": [
       "<img src=\"https://earthengine.googleapis.com/api/thumb?thumbid=902c6787dd549b2c1609e49453ee7084&token=415106f86b25f3f9159b8e40c41cf72f\"/>"
      ],
      "text/plain": [
       "<IPython.core.display.Image object>"
      ]
     },
     "execution_count": 31,
     "metadata": {},
     "output_type": "execute_result"
    }
   ],
   "source": [
    "slope = ee.Terrain.slope(srtm)\n",
    "Image(url=slope.getThumbUrl())"
   ]
  },
  {
   "cell_type": "markdown",
   "metadata": {},
   "source": [
    "Calculate mean slope"
   ]
  },
  {
   "cell_type": "code",
   "execution_count": 38,
   "metadata": {
    "collapsed": false
   },
   "outputs": [
    {
     "data": {
      "text/plain": [
       "{u'slope': 5.24332957033335}"
      ]
     },
     "execution_count": 38,
     "metadata": {},
     "output_type": "execute_result"
    }
   ],
   "source": [
    "avg_slope = slope.reduceRegion(ee.Reducer.mean(), lewa, 30)\n",
    "avg_slope.getInfo()"
   ]
  },
  {
   "cell_type": "markdown",
   "metadata": {},
   "source": [
    "Calculate max slope"
   ]
  },
  {
   "cell_type": "code",
   "execution_count": 39,
   "metadata": {
    "collapsed": false
   },
   "outputs": [
    {
     "data": {
      "text/plain": [
       "{u'slope': 40.61088562011719}"
      ]
     },
     "execution_count": 39,
     "metadata": {},
     "output_type": "execute_result"
    }
   ],
   "source": [
    "max_slope = slope.reduceRegion(ee.Reducer.max(), lewa, 30)\n",
    "max_slope.getInfo()"
   ]
  },
  {
   "cell_type": "markdown",
   "metadata": {},
   "source": [
    "Calculate min slope"
   ]
  },
  {
   "cell_type": "code",
   "execution_count": 37,
   "metadata": {
    "collapsed": false
   },
   "outputs": [
    {
     "data": {
      "text/plain": [
       "{u'slope': 0.0}"
      ]
     },
     "execution_count": 37,
     "metadata": {},
     "output_type": "execute_result"
    }
   ],
   "source": [
    "min_slope = slope.reduceRegion(ee.Reducer.min(), lewa, 30)\n",
    "min_slope.getInfo()"
   ]
  },
  {
   "cell_type": "code",
   "execution_count": null,
   "metadata": {
    "collapsed": true
   },
   "outputs": [],
   "source": [
    "point = ee.Geometry.Point(37.4256, 0.2067)\n",
    "buffer_point = point.buffer(40000).bounds().getInfo()['coordinates']\n",
    "# region_lewa = srtm.filterBounds(lewa).getInfo()#['coordinates']\n",
    "Image(url=srtm.getThumbUrl({'min':0, 'max':5000, 'region':buffer_point}))"
   ]
  },
  {
   "cell_type": "code",
   "execution_count": null,
   "metadata": {
    "collapsed": true
   },
   "outputs": [],
   "source": [
    "point = ee.Geometry.Point(37.4256, 0.2067)\n",
    "buffer_point = point.buffer(40000).bounds().getInfo()['coordinates']\n",
    "# region_lewa = srtm.filterBounds(lewa).getInfo()#['coordinates']\n",
    "Image(url=srtm.getThumbUrl({'min':0, 'max':5000, 'region':buffer_point}))"
   ]
  },
  {
   "cell_type": "code",
   "execution_count": null,
   "metadata": {
    "collapsed": true
   },
   "outputs": [],
   "source": [
    "avg_elevation = ee.Reducer.mean().setOutputs(srtm)\n",
    "print(avg_elevation)"
   ]
  },
  {
   "cell_type": "code",
   "execution_count": null,
   "metadata": {
    "collapsed": true
   },
   "outputs": [],
   "source": [
    "hillshade = ee.Terrain.hillshade(srtm) #.visualize(forceRgbOutput=True)"
   ]
  },
  {
   "cell_type": "code",
   "execution_count": null,
   "metadata": {
    "collapsed": true
   },
   "outputs": [],
   "source": [
    "hillshade.getInfo()"
   ]
  },
  {
   "cell_type": "code",
   "execution_count": null,
   "metadata": {
    "collapsed": true
   },
   "outputs": [],
   "source": [
    "Image(url=hillshade.getThumbUrl())"
   ]
  },
  {
   "cell_type": "code",
   "execution_count": null,
   "metadata": {
    "collapsed": true
   },
   "outputs": [],
   "source": [
    "Image(url=hillshade.getThumbUrl({'hillshade': hillshade}))"
   ]
  },
  {
   "cell_type": "code",
   "execution_count": null,
   "metadata": {
    "collapsed": true
   },
   "outputs": [],
   "source": [
    "# allregion = das_sites.geometry().bounds()\n",
    "allregion = ee.Geometry.Polygon([-170, 80, 0, 80, 170, 80, 170, -80, 10, -80, -170, -80], None, False)"
   ]
  },
  {
   "cell_type": "code",
   "execution_count": 40,
   "metadata": {
    "collapsed": true
   },
   "outputs": [],
   "source": [
    "def print_image(image,region):\n",
    "  display.display(display.Image(ee.data.getThumbnail({\n",
    "      'image': image.serialize(),\n",
    "      'dimensions': 500,\n",
    "      'region':lewa\n",
    "})))"
   ]
  },
  {
   "cell_type": "code",
   "execution_count": 42,
   "metadata": {
    "collapsed": false
   },
   "outputs": [
    {
     "ename": "EEException",
     "evalue": "Server returned HTTP code: 400",
     "output_type": "error",
     "traceback": [
      "\u001b[1;31m\u001b[0m",
      "\u001b[1;31mEEException\u001b[0mTraceback (most recent call last)",
      "\u001b[1;32m<ipython-input-42-3be9bcb461aa>\u001b[0m in \u001b[0;36m<module>\u001b[1;34m()\u001b[0m\n\u001b[1;32m----> 1\u001b[1;33m \u001b[0mprint_image\u001b[0m\u001b[1;33m(\u001b[0m\u001b[0msrtm\u001b[0m\u001b[1;33m,\u001b[0m \u001b[0mlewa\u001b[0m\u001b[1;33m)\u001b[0m\u001b[1;33m\u001b[0m\u001b[0m\n\u001b[0m",
      "\u001b[1;32m<ipython-input-40-f99e5b8af625>\u001b[0m in \u001b[0;36mprint_image\u001b[1;34m(image, region)\u001b[0m\n\u001b[0;32m      3\u001b[0m       \u001b[1;34m'image'\u001b[0m\u001b[1;33m:\u001b[0m \u001b[0mimage\u001b[0m\u001b[1;33m.\u001b[0m\u001b[0mserialize\u001b[0m\u001b[1;33m(\u001b[0m\u001b[1;33m)\u001b[0m\u001b[1;33m,\u001b[0m\u001b[1;33m\u001b[0m\u001b[0m\n\u001b[0;32m      4\u001b[0m       \u001b[1;34m'dimensions'\u001b[0m\u001b[1;33m:\u001b[0m \u001b[1;36m500\u001b[0m\u001b[1;33m,\u001b[0m\u001b[1;33m\u001b[0m\u001b[0m\n\u001b[1;32m----> 5\u001b[1;33m       \u001b[1;34m'region'\u001b[0m\u001b[1;33m:\u001b[0m\u001b[0mlewa\u001b[0m\u001b[1;33m\u001b[0m\u001b[0m\n\u001b[0m\u001b[0;32m      6\u001b[0m })))\n",
      "\u001b[1;32m/opt/conda/envs/python2/lib/python2.7/site-packages/ee/data.pyc\u001b[0m in \u001b[0;36mgetThumbnail\u001b[1;34m(params)\u001b[0m\n\u001b[0;32m    258\u001b[0m     \u001b[0mA\u001b[0m \u001b[0mthumbnail\u001b[0m \u001b[0mimage\u001b[0m \u001b[1;32mas\u001b[0m \u001b[0mraw\u001b[0m \u001b[0mPNG\u001b[0m \u001b[0mdata\u001b[0m\u001b[1;33m.\u001b[0m\u001b[1;33m\u001b[0m\u001b[0m\n\u001b[0;32m    259\u001b[0m   \"\"\"\n\u001b[1;32m--> 260\u001b[1;33m   \u001b[1;32mreturn\u001b[0m \u001b[0msend_\u001b[0m\u001b[1;33m(\u001b[0m\u001b[1;34m'/thumb'\u001b[0m\u001b[1;33m,\u001b[0m \u001b[0mparams\u001b[0m\u001b[1;33m,\u001b[0m \u001b[0mopt_method\u001b[0m\u001b[1;33m=\u001b[0m\u001b[1;34m'GET'\u001b[0m\u001b[1;33m,\u001b[0m \u001b[0mopt_raw\u001b[0m\u001b[1;33m=\u001b[0m\u001b[0mTrue\u001b[0m\u001b[1;33m)\u001b[0m\u001b[1;33m\u001b[0m\u001b[0m\n\u001b[0m\u001b[0;32m    261\u001b[0m \u001b[1;33m\u001b[0m\u001b[0m\n\u001b[0;32m    262\u001b[0m \u001b[1;33m\u001b[0m\u001b[0m\n",
      "\u001b[1;32m/opt/conda/envs/python2/lib/python2.7/site-packages/ee/data.pyc\u001b[0m in \u001b[0;36msend_\u001b[1;34m(path, params, opt_method, opt_raw)\u001b[0m\n\u001b[0;32m    738\u001b[0m     \u001b[1;31m# error above rather than this generic one.\u001b[0m\u001b[1;33m\u001b[0m\u001b[1;33m\u001b[0m\u001b[0m\n\u001b[0;32m    739\u001b[0m     raise ee_exception.EEException('Server returned HTTP code: %d' %\n\u001b[1;32m--> 740\u001b[1;33m                                    response.status)\n\u001b[0m\u001b[0;32m    741\u001b[0m \u001b[1;33m\u001b[0m\u001b[0m\n\u001b[0;32m    742\u001b[0m   \u001b[1;31m# Now known not to be an error response...\u001b[0m\u001b[1;33m\u001b[0m\u001b[1;33m\u001b[0m\u001b[0m\n",
      "\u001b[1;31mEEException\u001b[0m: Server returned HTTP code: 400"
     ]
    }
   ],
   "source": [
    "print_image(srtm, lewa)"
   ]
  },
  {
   "cell_type": "code",
   "execution_count": null,
   "metadata": {
    "collapsed": true
   },
   "outputs": [],
   "source": [
    "### Create the ele tracks layer\n",
    "empty1 = ee.Image().byte()\n",
    "painted=empty1.paint(featureCollection=eleTrack,\n",
    "  color=1,\n",
    "  width=5).visualize(palette=['FF0000'],forceRgbOutput=True)"
   ]
  },
  {
   "cell_type": "code",
   "execution_count": null,
   "metadata": {
    "collapsed": true
   },
   "outputs": [],
   "source": [
    "# ### Create image collection from layers and mosaic in desired draw order\n",
    "outImg = ee.ImageCollection([hillshade,painted]).mosaic()\n",
    "# print(outImg.getThumbURL()) #getting the unbounded error here ()\n",
    "print(outImg.getThumbURL(\"region\": allregion))"
   ]
  },
  {
   "cell_type": "code",
   "execution_count": null,
   "metadata": {
    "collapsed": true
   },
   "outputs": [],
   "source": [
    "print_image(outImg,allregion) #getting http 400 error here"
   ]
  },
  {
   "cell_type": "code",
   "execution_count": null,
   "metadata": {
    "collapsed": true
   },
   "outputs": [],
   "source": [
    "# Image(url=srtm.getThumbUrl({'min':0, 'max':1000, 'region':lewa_elevation})) #region_lewa"
   ]
  }
 ],
 "metadata": {
  "kernelspec": {
   "display_name": "Python 2",
   "language": "python",
   "name": "python2"
  },
  "language_info": {
   "codemirror_mode": {
    "name": "ipython",
    "version": 2
   },
   "file_extension": ".py",
   "mimetype": "text/x-python",
   "name": "python",
   "nbconvert_exporter": "python",
   "pygments_lexer": "ipython2",
   "version": "2.7.12"
  }
 },
 "nbformat": 4,
 "nbformat_minor": 1
}
