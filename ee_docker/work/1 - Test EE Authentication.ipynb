{
 "cells": [
  {
   "cell_type": "code",
   "execution_count": 1,
   "metadata": {
    "collapsed": false
   },
   "outputs": [],
   "source": [
    "import ee\n",
    "from IPython.display import Image"
   ]
  },
  {
   "cell_type": "markdown",
   "metadata": {},
   "source": [
    "Connect the Earth Engine backend, and populate the *ee* Python package."
   ]
  },
  {
   "cell_type": "code",
   "execution_count": 2,
   "metadata": {
    "collapsed": false
   },
   "outputs": [],
   "source": [
    "ee.Initialize()"
   ]
  },
  {
   "cell_type": "markdown",
   "metadata": {},
   "source": [
    "Create an Earth Engine image object, that refers to a 90m DEM."
   ]
  },
  {
   "cell_type": "code",
   "execution_count": 3,
   "metadata": {
    "collapsed": false
   },
   "outputs": [],
   "source": [
    "srtm = ee.Image(\"CGIAR/SRTM90_V4\")"
   ]
  },
  {
   "cell_type": "markdown",
   "metadata": {},
   "source": [
    "Get the object metadata for the srtm image object, and print it out."
   ]
  },
  {
   "cell_type": "code",
   "execution_count": 4,
   "metadata": {
    "collapsed": false
   },
   "outputs": [
    {
     "name": "stdout",
     "output_type": "stream",
     "text": [
      "{u'bands': [{u'crs': u'EPSG:4326', u'crs_transform': [0.000833333333333, 0.0, -180.0, 0.0, -0.000833333333333, 60.0], u'id': u'elevation', u'data_type': {u'max': 32767, u'type': u'PixelType', u'precision': u'int', u'min': -32768}, u'dimensions': [432000, 144000]}], u'version': 1521153456181958, u'type': u'Image', u'id': u'CGIAR/SRTM90_V4', u'properties': {u'system:time_end': 951177600000, u'system:visualization_0_max': [8000.0], u'thumb': u'https://mw1.google.com/ges/dd/images/SRTM90_V4_thumb.png', u'system:visualization_0_gamma': 1.6, u'provider_url': u'http://srtm.csi.cgiar.org/', u'description': u'<p>The Shuttle Radar Topography Mission (SRTM) digital\\nelevation dataset was originally produced to provide consistent,\\nhigh-quality elevation data at near global scope. This version\\nof the SRTM digital elevation data has been processed to fill data\\nvoids, and to facilitate its ease of use.</p>\\n<p><b>Bands</b>\\n<table class=\"eecat\">\\n  <tr>\\n    <th scope=\"col\">Name</th>\\n    <th scope=\"col\">Units</th>\\n    <th scope=\"col\">Min</th>\\n    <th scope=\"col\">Max</th>\\n    <th scope=\"col\">Resolution</th>\\n    <th scope=\"col\">Description</th>\\n  </tr>\\n  <tr>\\n    <td>elevation</td>\\n    <td>m</td>\\n    <td>\\n          -100*\\n    </td>\\n    <td>\\n          9000*\\n    </td>\\n    <td>90 METERS</td>\\n    <td><p>Elevation</p></td>\\n  </tr>\\n</table>\\n  * estimated min or max value\\n<p><b>Terms of Use</b><br>\\n<p>For the creation of any reports, publications, new data sets, derived products, or services resulting from the data set, users use the citation.</p>\\n<p><b>Suggested citation(s)</b>\\n  <ul>\\n    <li><p>Jarvis, A., H.I. Reuter, A. Nelson, E. Guevara. 2008. Hole-filled SRTM for the globe Version 4, available from the CGIAR-CSI SRTM 90m Database: http://srtm.csi.cgiar.org.</p></li>\\n  </ul>\\n<style>\\n  table.eecat {\\n  border: 1px solid black;\\n  border-collapse: collapse;\\n  font-size: 13px;\\n  }\\n  table.eecat td, tr, th {\\n  text-align: left; vertical-align: top;\\n  border: 1px solid gray; padding: 3px;\\n  }\\n  td.nobreak { white-space: nowrap; }\\n</style>', u'title': u'SRTM Digital Elevation Data Version 4', u'product_tags': [u'srtm', u'elevation', u'topography', u'dem', u'geophysical'], u'period': 0.0, u'system:visualization_0_name': u'Elevation', u'date_range': [950227200000.0, 951177600000.0], u'sample': u'https://mw1.google.com/ges/dd/images/SRTM90_V4_sample.png', u'source_tags': [u'nasa', u'cgiar'], u'provider': u'NASA/CGIAR', u'system:time_start': 950227200000, u'system:visualization_0_min': [-100.0], u'system:asset_size': 18827626666, u'tags': [u'nasa', u'cgiar', u'srtm', u'elevation', u'topography', u'dem', u'geophysical'], u'system:visualization_0_bands': [u'elevation']}}\n"
     ]
    }
   ],
   "source": [
    "info = srtm.getInfo()\n",
    "print(info)"
   ]
  },
  {
   "cell_type": "markdown",
   "metadata": {},
   "source": [
    "Display the image."
   ]
  },
  {
   "cell_type": "code",
   "execution_count": 5,
   "metadata": {
    "collapsed": false
   },
   "outputs": [
    {
     "data": {
      "text/html": [
       "<img src=\"https://earthengine.googleapis.com/api/thumb?thumbid=ff8a5f3de841e348422336f5ea468492&token=750b7910bddc44fbff361edb5eade9db\"/>"
      ],
      "text/plain": [
       "<IPython.core.display.Image object>"
      ]
     },
     "execution_count": 5,
     "metadata": {},
     "output_type": "execute_result"
    }
   ],
   "source": [
    "Image(url=srtm.getThumbUrl({'min':0, 'max':3000}))"
   ]
  },
  {
   "cell_type": "code",
   "execution_count": null,
   "metadata": {
    "collapsed": true
   },
   "outputs": [],
   "source": [
    "foo = 'joel'"
   ]
  },
  {
   "cell_type": "code",
   "execution_count": null,
   "metadata": {
    "collapsed": false
   },
   "outputs": [],
   "source": [
    "foo"
   ]
  },
  {
   "cell_type": "code",
   "execution_count": null,
   "metadata": {
    "collapsed": true
   },
   "outputs": [],
   "source": []
  }
 ],
 "metadata": {
  "anaconda-cloud": {},
  "kernelspec": {
   "display_name": "Python 2",
   "language": "python",
   "name": "python2"
  },
  "language_info": {
   "codemirror_mode": {
    "name": "ipython",
    "version": 2
   },
   "file_extension": ".py",
   "mimetype": "text/x-python",
   "name": "python",
   "nbconvert_exporter": "python",
   "pygments_lexer": "ipython2",
   "version": "2.7.12"
  }
 },
 "nbformat": 4,
 "nbformat_minor": 0
}
