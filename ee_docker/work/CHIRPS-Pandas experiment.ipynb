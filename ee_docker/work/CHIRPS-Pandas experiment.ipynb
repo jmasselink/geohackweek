{
 "cells": [
  {
   "cell_type": "markdown",
   "metadata": {},
   "source": [
    "#### Trying this to see how Pandas works \n",
    "https://mygeoblog.com/2017/01/13/your-gee-data-in-pandas/\n",
    "https://mygeoblog.com/2017/10/06/from-gee-to-numpy-to-geotiff/"
   ]
  },
  {
   "cell_type": "code",
   "execution_count": 1,
   "metadata": {
    "collapsed": true
   },
   "outputs": [],
   "source": [
    "%matplotlib inline"
   ]
  },
  {
   "cell_type": "markdown",
   "metadata": {},
   "source": [
    "Then we import in other Python packages we need."
   ]
  },
  {
   "cell_type": "code",
   "execution_count": 3,
   "metadata": {
    "collapsed": false
   },
   "outputs": [],
   "source": [
    "import ee\n",
    "import numpy as np\n",
    "import pandas as pd\n",
    "import matplotlib.pyplot as plt\n",
    "\n",
    "# import datetime\n",
    "# from matplotlib import dates\n",
    "# import matplotlib.dates as mdates\n",
    "# from pylab import *"
   ]
  },
  {
   "cell_type": "code",
   "execution_count": 4,
   "metadata": {
    "collapsed": true
   },
   "outputs": [],
   "source": [
    "ee.Initialize()"
   ]
  },
  {
   "cell_type": "markdown",
   "metadata": {},
   "source": [
    " #### import the EE asset (CHIRPS)"
   ]
  },
  {
   "cell_type": "markdown",
   "metadata": {},
   "source": [
    "next we define datasets:"
   ]
  },
  {
   "cell_type": "code",
   "execution_count": 7,
   "metadata": {
    "collapsed": false
   },
   "outputs": [],
   "source": [
    "CHIRPS = ee.ImageCollection('UCSB-CHG/CHIRPS/PENTAD') \n",
    "# info = CHIRPS.getInfo()\n",
    "# print(info)"
   ]
  },
  {
   "cell_type": "markdown",
   "metadata": {},
   "source": [
    "Define time range:"
   ]
  },
  {
   "cell_type": "code",
   "execution_count": 8,
   "metadata": {
    "collapsed": true
   },
   "outputs": [],
   "source": [
    "startYear = 2000\n",
    "endYear = 2001"
   ]
  },
  {
   "cell_type": "markdown",
   "metadata": {},
   "source": [
    "create list for years"
   ]
  },
  {
   "cell_type": "code",
   "execution_count": 20,
   "metadata": {
    "collapsed": true
   },
   "outputs": [],
   "source": [
    "years = range(startYear, endYear)"
   ]
  },
  {
   "cell_type": "markdown",
   "metadata": {},
   "source": [
    "make a list with months"
   ]
  },
  {
   "cell_type": "code",
   "execution_count": 34,
   "metadata": {
    "collapsed": false
   },
   "outputs": [
    {
     "name": "stdout",
     "output_type": "stream",
     "text": [
      "[1, 2, 3, 4, 5, 6, 7, 8, 9, 10, 11]\n"
     ]
    }
   ],
   "source": [
    "months = range(1,12)\n",
    "print(months)"
   ]
  },
  {
   "cell_type": "markdown",
   "metadata": {},
   "source": [
    "Set date in ee date format"
   ]
  },
  {
   "cell_type": "code",
   "execution_count": 35,
   "metadata": {
    "collapsed": false
   },
   "outputs": [
    {
     "name": "stdout",
     "output_type": "stream",
     "text": [
      "ee.Date({\n",
      "  \"type\": \"Invocation\", \n",
      "  \"arguments\": {\n",
      "    \"year\": 2000, \n",
      "    \"day\": 1, \n",
      "    \"month\": 1\n",
      "  }, \n",
      "  \"functionName\": \"Date.fromYMD\"\n",
      "})\n"
     ]
    }
   ],
   "source": [
    "startDate = ee.Date.fromYMD(startYear,1,1)\n",
    "endDate = ee.Date.fromYMD(endYear+1,12,31)\n",
    "\n",
    "print(startDate)\n",
    "## or alternatively using \n",
    "# startTime = datetime.datetime(1999, 1, 1)\n",
    "# endTime = datetime.datetime(2016, 12, 31)"
   ]
  },
  {
   "cell_type": "markdown",
   "metadata": {},
   "source": [
    "Filter CHIRPS by date"
   ]
  },
  {
   "cell_type": "code",
   "execution_count": 36,
   "metadata": {
    "collapsed": true
   },
   "outputs": [],
   "source": [
    "filtCHIRPS = CHIRPS.filterDate(startDate, endDate).sort('system:time_start', False).select(\"precipitation\")\n",
    "# precip = ee.ImageCollection('UCSB-CHG/CHIRPS/PENTAD').filterDate(startTime, endTime).select('precipitation')\n",
    "# print(precip.first()) #get metadata from first element from Image Collection"
   ]
  },
  {
   "cell_type": "code",
   "execution_count": 37,
   "metadata": {
    "collapsed": false
   },
   "outputs": [],
   "source": [
    "# Define geographic domain\n",
    "area = ee.Geometry.Rectangle(-20.0, 20.0, 20, 20.0)\n",
    "areaInfo = area.getInfo()\n",
    "\n",
    "lewa = ee.FeatureCollection('ft:1yrKHIrC4bnbgAP3l_ZCSm_0B_BCrI_hCm6p-RXnc')\n",
    "lewaInfo = lewa.getInfo()"
   ]
  },
  {
   "cell_type": "code",
   "execution_count": 38,
   "metadata": {
    "collapsed": false
   },
   "outputs": [],
   "source": [
    "# calculate the monthly mean\n",
    "def calcMonthlyMean(imageCollection):\n",
    "    mylist = ee.List([])\n",
    "    for y in years:\n",
    "        for m in months:\n",
    "            w = imageCollection.filter(ee.Filter.calendarRange(y, y, 'year')).filter(ee.Filter.calendarRange(m, m, 'month')).sum();\n",
    "            mylist = mylist.add(w.set('year', y).set('month', m).set('date', ee.Date.fromYMD(y,m,1)).set('system:time_start',ee.Date.fromYMD(y,m,1)))\n",
    "    return ee.ImageCollection.fromImages(mylist)"
   ]
  },
  {
   "cell_type": "markdown",
   "metadata": {},
   "source": [
    "run the calcMonthlyMean function"
   ]
  },
  {
   "cell_type": "code",
   "execution_count": 39,
   "metadata": {
    "collapsed": false
   },
   "outputs": [],
   "source": [
    "monthlyCHIRPS = ee.ImageCollection(calcMonthlyMean(filtCHIRPS))"
   ]
  },
  {
   "cell_type": "markdown",
   "metadata": {},
   "source": [
    "select the region of interest, 25000 is the cellsize in meters"
   ]
  },
  {
   "cell_type": "code",
   "execution_count": 40,
   "metadata": {
    "collapsed": false
   },
   "outputs": [],
   "source": [
    "monthlyCHIRPS = monthlyCHIRPS.getRegion(lewa, 25000, \"epsg:4326\").getInfo()"
   ]
  },
  {
   "cell_type": "markdown",
   "metadata": {},
   "source": [
    "Plot January (index=0)"
   ]
  },
  {
   "cell_type": "code",
   "execution_count": 41,
   "metadata": {
    "collapsed": true
   },
   "outputs": [],
   "source": [
    "January = pd.DataFrame(monthlyCHIRPS, columns = monthlyCHIRPS[0])"
   ]
  },
  {
   "cell_type": "code",
   "execution_count": 43,
   "metadata": {
    "collapsed": true
   },
   "outputs": [],
   "source": [
    "# remove first line \n",
    "January = January[1:]"
   ]
  },
  {
   "cell_type": "code",
   "execution_count": 44,
   "metadata": {
    "collapsed": true
   },
   "outputs": [],
   "source": [
    "# make sure unicode characters are removed\n",
    "January['id'] = January['id'].str.decode('utf-8').replace(u'\\xf1', 'n').astype('int')"
   ]
  },
  {
   "cell_type": "code",
   "execution_count": 45,
   "metadata": {
    "collapsed": false
   },
   "outputs": [
    {
     "name": "stdout",
     "output_type": "stream",
     "text": [
      "Empty DataFrame\n",
      "Columns: [id, longitude, latitude, time, precipitation]\n",
      "Index: []\n"
     ]
    }
   ],
   "source": [
    "# print(startTime)\n",
    "print(January)"
   ]
  },
  {
   "cell_type": "code",
   "execution_count": 47,
   "metadata": {
    "collapsed": false
   },
   "outputs": [],
   "source": [
    "# print(endTime)\n",
    "# get Longitude\n",
    "lons = np.array(January.longitude)\n",
    "# get Latitude\n",
    "lats = np.array(January.latitude)"
   ]
  },
  {
   "cell_type": "code",
   "execution_count": 48,
   "metadata": {
    "collapsed": false
   },
   "outputs": [],
   "source": [
    "# datetime.datetime?\n",
    "data = np.array(January.precipitation)"
   ]
  },
  {
   "cell_type": "markdown",
   "metadata": {},
   "source": [
    "Separate the information into column headers and data"
   ]
  },
  {
   "cell_type": "code",
   "execution_count": 50,
   "metadata": {
    "collapsed": true
   },
   "outputs": [],
   "source": [
    "# get the unique coordinates\n",
    "uniqueLats = np.unique(lats)\n",
    "uniqueLons = np.unique(lons)"
   ]
  },
  {
   "cell_type": "code",
   "execution_count": 51,
   "metadata": {
    "collapsed": true
   },
   "outputs": [],
   "source": [
    "# get number of columns and rows from coordinates\n",
    "ncols = len(uniqueLons)    \n",
    "nrows = len(uniqueLats)"
   ]
  },
  {
   "cell_type": "code",
   "execution_count": 52,
   "metadata": {
    "collapsed": false
   },
   "outputs": [
    {
     "ename": "IndexError",
     "evalue": "index 1 is out of bounds for axis 0 with size 0",
     "output_type": "error",
     "traceback": [
      "\u001b[1;31m\u001b[0m",
      "\u001b[1;31mIndexError\u001b[0mTraceback (most recent call last)",
      "\u001b[1;32m<ipython-input-52-035ecf060012>\u001b[0m in \u001b[0;36m<module>\u001b[1;34m()\u001b[0m\n\u001b[0;32m      1\u001b[0m \u001b[1;31m# determine pixelsizes\u001b[0m\u001b[1;33m\u001b[0m\u001b[1;33m\u001b[0m\u001b[0m\n\u001b[1;32m----> 2\u001b[1;33m \u001b[0mys\u001b[0m \u001b[1;33m=\u001b[0m \u001b[0muniqueLats\u001b[0m\u001b[1;33m[\u001b[0m\u001b[1;36m1\u001b[0m\u001b[1;33m]\u001b[0m \u001b[1;33m-\u001b[0m \u001b[0muniqueLats\u001b[0m\u001b[1;33m[\u001b[0m\u001b[1;36m0\u001b[0m\u001b[1;33m]\u001b[0m\u001b[1;33m\u001b[0m\u001b[0m\n\u001b[0m\u001b[0;32m      3\u001b[0m \u001b[0mxs\u001b[0m \u001b[1;33m=\u001b[0m \u001b[0muniqueLons\u001b[0m\u001b[1;33m[\u001b[0m\u001b[1;36m1\u001b[0m\u001b[1;33m]\u001b[0m \u001b[1;33m-\u001b[0m \u001b[0muniqueLons\u001b[0m\u001b[1;33m[\u001b[0m\u001b[1;36m0\u001b[0m\u001b[1;33m]\u001b[0m\u001b[1;33m\u001b[0m\u001b[0m\n",
      "\u001b[1;31mIndexError\u001b[0m: index 1 is out of bounds for axis 0 with size 0"
     ]
    }
   ],
   "source": [
    "# determine pixelsizes\n",
    "ys = uniqueLats[1] - uniqueLats[0] \n",
    "xs = uniqueLons[1] - uniqueLons[0]"
   ]
  },
  {
   "cell_type": "code",
   "execution_count": 49,
   "metadata": {
    "collapsed": false
   },
   "outputs": [
    {
     "ename": "NameError",
     "evalue": "name 'precip' is not defined",
     "output_type": "error",
     "traceback": [
      "\u001b[1;31m\u001b[0m",
      "\u001b[1;31mNameError\u001b[0mTraceback (most recent call last)",
      "\u001b[1;32m<ipython-input-49-408f525a5721>\u001b[0m in \u001b[0;36m<module>\u001b[1;34m()\u001b[0m\n\u001b[0;32m      1\u001b[0m \u001b[0mpoint\u001b[0m \u001b[1;33m=\u001b[0m \u001b[1;33m{\u001b[0m\u001b[1;34m'type'\u001b[0m\u001b[1;33m:\u001b[0m\u001b[1;34m'Point'\u001b[0m\u001b[1;33m,\u001b[0m \u001b[1;34m'coordinates'\u001b[0m\u001b[1;33m:\u001b[0m\u001b[1;33m[\u001b[0m \u001b[1;33m-\u001b[0m\u001b[1;36m116.88629\u001b[0m\u001b[1;33m,\u001b[0m\u001b[1;36m36.56122\u001b[0m\u001b[1;33m]\u001b[0m\u001b[1;33m}\u001b[0m\u001b[1;33m;\u001b[0m  \u001b[1;31m# death valley (should be stable)\u001b[0m\u001b[1;33m\u001b[0m\u001b[0m\n\u001b[1;32m----> 2\u001b[1;33m \u001b[0minfo\u001b[0m \u001b[1;33m=\u001b[0m \u001b[0mprecip\u001b[0m\u001b[1;33m.\u001b[0m\u001b[0mgetRegion\u001b[0m\u001b[1;33m(\u001b[0m\u001b[0mpoint\u001b[0m\u001b[1;33m,\u001b[0m\u001b[1;36m500\u001b[0m\u001b[1;33m)\u001b[0m\u001b[1;33m.\u001b[0m\u001b[0mgetInfo\u001b[0m\u001b[1;33m(\u001b[0m\u001b[1;33m)\u001b[0m\u001b[1;33m\u001b[0m\u001b[0m\n\u001b[0m\u001b[0;32m      3\u001b[0m \u001b[1;32mprint\u001b[0m\u001b[1;33m(\u001b[0m\u001b[0minfo\u001b[0m\u001b[1;33m)\u001b[0m\u001b[1;33m\u001b[0m\u001b[0m\n",
      "\u001b[1;31mNameError\u001b[0m: name 'precip' is not defined"
     ]
    }
   ],
   "source": [
    "point = {'type':'Point', 'coordinates':[ -116.88629,36.56122]};  # death valley (should be stable)\n",
    "info = precip.getRegion(point,500).getInfo()\n",
    "print(info)"
   ]
  },
  {
   "cell_type": "code",
   "execution_count": null,
   "metadata": {
    "collapsed": false
   },
   "outputs": [],
   "source": [
    "ee.ImageCollection.getRegion?\n",
    "lewaRegionInfo = precip.getRegion(lewa, 1000, \"EPSG:4326\") #.getInfo()\n",
    "print(lewaRegionInfo)"
   ]
  },
  {
   "cell_type": "markdown",
   "metadata": {},
   "source": [
    "We separate the information returned into column headers and data."
   ]
  },
  {
   "cell_type": "code",
   "execution_count": null,
   "metadata": {
    "collapsed": false
   },
   "outputs": [],
   "source": [
    "# extract the header column names\n",
    "header = info[0]\n",
    "# create a Numpy array of the data\n",
    "data = array(info[1:])"
   ]
  },
  {
   "cell_type": "markdown",
   "metadata": {},
   "source": [
    "Next we extract time information and convert it to at Python datatime data type."
   ]
  },
  {
   "cell_type": "markdown",
   "metadata": {},
   "source": [
    "Extract data columns that you want to display on the plot:"
   ]
  },
  {
   "cell_type": "code",
   "execution_count": null,
   "metadata": {
    "collapsed": false
   },
   "outputs": [],
   "source": [
    "iBands = [header.index(yBand)] #yBandList\n",
    "yData = data[0:,iBands].astype(np.float)"
   ]
  },
  {
   "cell_type": "markdown",
   "metadata": {
    "collapsed": true
   },
   "source": [
    "And we use matplotlib to plot values"
   ]
  },
  {
   "cell_type": "code",
   "execution_count": null,
   "metadata": {
    "collapsed": false
   },
   "outputs": [],
   "source": [
    "# matplotlib date format object\n",
    "fig = figure(figsize=(12,8), dpi=80)\n",
    "\n",
    "# plot the band values\n",
    "ax1 = fig.add_subplot(211)\n",
    "ax1.plot(time, yData[:], '+', color=\"red\", label=\"Death Valley\")\n",
    "# ax1.plot(time, yData[:,3], 'o', color=\"magenta\",  label=\"Band 4\")\n",
    "ax1.legend(loc='best')\n",
    "ax1.grid(True)\n",
    "\n",
    "plt.title('Precip values as a function of time')\n",
    "ax1.set_ylabel('Band Values')"
   ]
  },
  {
   "cell_type": "markdown",
   "metadata": {},
   "source": [
    "### Now initiate precip values for Lewa"
   ]
  },
  {
   "cell_type": "code",
   "execution_count": null,
   "metadata": {
    "collapsed": true
   },
   "outputs": [],
   "source": [
    "# deathvalley = {'type':'Point', 'coordinates':[ -116.88629,36.56122]};  # death valley (should be stable)\n",
    "# dv_info = precip.getRegion(deathvalley,500).getInfo()"
   ]
  },
  {
   "cell_type": "code",
   "execution_count": null,
   "metadata": {
    "collapsed": false
   },
   "outputs": [],
   "source": [
    "lewa = {'type':'Point', 'coordinates':[ 37.4, 0.2]};  # lewa valley (should be stable)\n",
    "lewa_info = precip.getRegion(lewa,500).getInfo()"
   ]
  },
  {
   "cell_type": "code",
   "execution_count": null,
   "metadata": {
    "collapsed": false
   },
   "outputs": [],
   "source": [
    "# lewa = ee.Geometry.Rectangle(33, -0.2, 34, 0.2)\n",
    "# lewa_info = precip.getRegion(lewa,500).getInfo()"
   ]
  },
  {
   "cell_type": "markdown",
   "metadata": {},
   "source": [
    "We separate the information returned into column headers and data."
   ]
  },
  {
   "cell_type": "code",
   "execution_count": null,
   "metadata": {
    "collapsed": true
   },
   "outputs": [],
   "source": [
    "# extract the header column names\n",
    "header = lewa_info[0]\n",
    "# create a Numpy array of the data\n",
    "data = array(lewa_info[1:])"
   ]
  },
  {
   "cell_type": "markdown",
   "metadata": {},
   "source": [
    "Next we extract time information and convert it to at Python datatime data type."
   ]
  },
  {
   "cell_type": "code",
   "execution_count": null,
   "metadata": {
    "collapsed": false
   },
   "outputs": [],
   "source": [
    "# extract the time information\n",
    "iTime = header.index('time')\n",
    "# convert to Python datetime objects\n",
    "time = [datetime.datetime.fromtimestamp(i/1000) for i in (data[0:,iTime].astype(int))]\n",
    "# print(time)[:10]"
   ]
  },
  {
   "cell_type": "markdown",
   "metadata": {},
   "source": [
    "Print first 10 asset timestamps"
   ]
  },
  {
   "cell_type": "code",
   "execution_count": null,
   "metadata": {
    "collapsed": false
   },
   "outputs": [],
   "source": [
    "for i in time[:10]:\n",
    "    print(i)"
   ]
  },
  {
   "cell_type": "markdown",
   "metadata": {},
   "source": [
    "Extract data columns that you want to display on the plot:"
   ]
  },
  {
   "cell_type": "code",
   "execution_count": null,
   "metadata": {
    "collapsed": true
   },
   "outputs": [],
   "source": [
    "iBands = [header.index(yBand)] #yBandList\n",
    "yData = data[0:,iBands].astype(np.float)"
   ]
  },
  {
   "cell_type": "code",
   "execution_count": null,
   "metadata": {
    "collapsed": false
   },
   "outputs": [],
   "source": [
    "for i in iBands:\n",
    "    print i"
   ]
  },
  {
   "cell_type": "markdown",
   "metadata": {},
   "source": [
    "And we use matplotlib to plot values"
   ]
  },
  {
   "cell_type": "code",
   "execution_count": null,
   "metadata": {
    "collapsed": false
   },
   "outputs": [],
   "source": [
    "# matplotlib date format object\n",
    "fig = figure(figsize=(12,8), dpi=80)\n",
    "\n",
    "# plot the band values\n",
    "ax2 = fig.add_subplot(211, sharex=ax1)\n",
    "ax2.plot(time, yData[:], 'x', color=\"blue\", label=\"Lewa\")\n",
    "# ax1.plot(time, yData[:,3], 'o', color=\"magenta\",  label=\"Band 4\")\n",
    "ax2.grid(True)\n",
    "start, end = ax2.get_xlim()\n",
    "\n",
    "plt.title('CHIRPS values for Lewa')\n",
    "ax2.set_ylabel('mm / pentad')"
   ]
  },
  {
   "cell_type": "code",
   "execution_count": null,
   "metadata": {
    "collapsed": false
   },
   "outputs": [],
   "source": [
    "type(yData)\n",
    "# type(ax2)\n",
    "# y = yData[ax2].resample('MS').mean()"
   ]
  },
  {
   "cell_type": "code",
   "execution_count": null,
   "metadata": {
    "collapsed": false
   },
   "outputs": [],
   "source": [
    "yData.head"
   ]
  },
  {
   "cell_type": "code",
   "execution_count": null,
   "metadata": {
    "collapsed": false
   },
   "outputs": [],
   "source": [
    "# Convert the timestamp to a numpy array\n",
    "t = np.array([i.toordinal() for i in time])\n",
    "t"
   ]
  },
  {
   "cell_type": "code",
   "execution_count": null,
   "metadata": {
    "collapsed": false
   },
   "outputs": [],
   "source": [
    "A = array([ t, ones(len(t))]).transpose()\n",
    "# print(A)\n",
    "b = precip     # could be NDVI\n",
    "# print(b)\n",
    "x = linalg.lstsq(A,b)[0] # obtaining the parameters\n",
    "# # x = linalg.lstsq(A,b)[0] # obtaining the parameters\n",
    "x"
   ]
  },
  {
   "cell_type": "code",
   "execution_count": null,
   "metadata": {
    "collapsed": false
   },
   "outputs": [],
   "source": [
    "b_hat = A.dot(x)"
   ]
  },
  {
   "cell_type": "code",
   "execution_count": null,
   "metadata": {
    "collapsed": false
   },
   "outputs": [],
   "source": [
    "fig2 = figure(figsize=(12,4), dpi=80)\n",
    "plot(time,b_hat.transpose(),'r-',t,b,'o')\n",
    "fig2.fmt_xdata = mdates.DateFormatter('%Y-%m-%d')\n",
    "fig2.autofmt_xdate()"
   ]
  },
  {
   "cell_type": "markdown",
   "metadata": {},
   "source": [
    "Create sequence lists (years, months, etc) for aggregations"
   ]
  },
  {
   "cell_type": "markdown",
   "metadata": {},
   "source": [
    "Each asset spans a pentad. Each of first 5 pentads in a month have 5 days. The last pentad contains all the days from the 26th to the end of the month."
   ]
  },
  {
   "cell_type": "markdown",
   "metadata": {},
   "source": [
    "#### Calculate P for each year"
   ]
  },
  {
   "cell_type": "code",
   "execution_count": null,
   "metadata": {
    "collapsed": false
   },
   "outputs": [],
   "source": [
    "## JS function\n",
    "# var YearlyChirps =  ee.ImageCollection.fromImages(\n",
    "#   years.map(function (y) {\n",
    "#     var w = precip.filter(ee.Filter.calendarRange(y, y, 'year'))\n",
    "#              .sum();\n",
    "#     return w.set('year', y)\n",
    "#              .set('system:time_start',ee.Date.fromYMD(y,1,1))\n",
    "#              .set('date', ee.Date.fromYMD(y,1,1));\n",
    "# }).flatten());"
   ]
  },
  {
   "cell_type": "markdown",
   "metadata": {},
   "source": [
    "Calculate monthly filter"
   ]
  },
  {
   "cell_type": "code",
   "execution_count": null,
   "metadata": {
    "collapsed": false,
    "scrolled": true
   },
   "outputs": [],
   "source": [
    "months = ee.List.sequence(1,12)\n",
    "m = ee.Filter.calendarRange(months, months, 'months')\n",
    "# m = precip.filter(ee.Filter.calendarRange(months, months, 'months')).sum()\n",
    "# print(months)\n",
    "print(m)"
   ]
  },
  {
   "cell_type": "markdown",
   "metadata": {},
   "source": [
    "Calculate annual filter"
   ]
  },
  {
   "cell_type": "code",
   "execution_count": null,
   "metadata": {
    "collapsed": false
   },
   "outputs": [],
   "source": [
    "years = ee.List.sequence(1999,2016)\n",
    "y = ee.Filter.calendarRange(years, years, 'year')\n",
    "# y = precip.filter(ee.Filter.calendarRange(years, years, 'year')).sum()\n",
    "print(y)"
   ]
  },
  {
   "cell_type": "markdown",
   "metadata": {},
   "source": [
    "#### List values of assets"
   ]
  },
  {
   "cell_type": "code",
   "execution_count": null,
   "metadata": {
    "collapsed": false
   },
   "outputs": [],
   "source": [
    "months = {'1':'Jan', '2':'Feb', '3':'Mar', '4':'Apr', '5':'May', '6':'June', '7':'July', '8':'Aug', '9':'Sept', '10':'Oct', '11':'Nov', '12':'Dec'}"
   ]
  },
  {
   "cell_type": "code",
   "execution_count": null,
   "metadata": {
    "collapsed": false
   },
   "outputs": [],
   "source": [
    "for m in enumerate(months):\n",
    "    print m\n",
    "    print m[1]"
   ]
  },
  {
   "cell_type": "code",
   "execution_count": null,
   "metadata": {
    "collapsed": true
   },
   "outputs": [],
   "source": [
    "## build function which builds monthly cumulative image stack\n",
    "def build_monthly(p):\n",
    "    'Jan' = asset[1:6]\n",
    "    'Feb' = asset[1:6]\n",
    "    precip = 0\n",
    "    while p < 6:\n",
    "        precip += precip\n",
    "        "
   ]
  },
  {
   "cell_type": "code",
   "execution_count": null,
   "metadata": {
    "collapsed": false
   },
   "outputs": [],
   "source": [
    "w = precip.filter(y.sum(), m.sum())"
   ]
  },
  {
   "cell_type": "code",
   "execution_count": null,
   "metadata": {
    "collapsed": false
   },
   "outputs": [],
   "source": [
    "y = w.set('year', y).set('system:time_start',ee.Date.fromYMD(y,1,1)).set('date', ee.Date.fromYMD(y,1,1)).flatten()"
   ]
  },
  {
   "cell_type": "code",
   "execution_count": null,
   "metadata": {
    "collapsed": false
   },
   "outputs": [],
   "source": [
    "YearlyChirps =  ee.ImageCollection.fromImages(\n",
    "  years.map(function (y) {\n",
    "\n",
    "def cumulative_chirps(y): ## start here\n",
    "    return img.reduceRegions(xxxx, ee.Reducer.mean().forEachBand(img,200))\n",
    "            var w = precip.filter(ee.Filter.calendarRange(y, y, 'year'))\n",
    "             .sum();\n",
    "    return w.set('year', y)\n",
    "             .set('system:time_start',ee.Date.fromYMD(y,1,1))\n",
    "             .set('date', ee.Date.fromYMD(y,1,1));\n",
    "}).flatten());"
   ]
  },
  {
   "cell_type": "markdown",
   "metadata": {},
   "source": [
    "#### Calculate P for each month"
   ]
  },
  {
   "cell_type": "code",
   "execution_count": null,
   "metadata": {
    "collapsed": true
   },
   "outputs": [],
   "source": [
    "# var MonthlyChirps =  ee.ImageCollection.fromImages(\n",
    "#   years.map(function (y) {\n",
    "#   return months.map(function(m){\n",
    "#     var w = precip.filter(ee.Filter.calendarRange(y, y, 'year'))\n",
    "#              .filter(ee.Filter.calendarRange(m, m, 'month'))\n",
    "#              .sum();\n",
    "#     return w.set('year', y)\n",
    "#              .set('month', m)\n",
    "#              .set('system:time_start',ee.Date.fromYMD(y,m,1))\n",
    "#              .set('date', ee.Date.fromYMD(y,m,1));\n",
    "# });\n",
    "# }).flatten());"
   ]
  },
  {
   "cell_type": "code",
   "execution_count": null,
   "metadata": {
    "collapsed": false
   },
   "outputs": [],
   "source": [
    "y = months.map(m)"
   ]
  },
  {
   "cell_type": "code",
   "execution_count": null,
   "metadata": {
    "collapsed": true
   },
   "outputs": [],
   "source": [
    "monthlyChirps = ee.ImageCollection.fromImages(\n",
    "  years.map(y), months.map(m)\n",
    "    {w = precip.filter(ee.Filter.calendarRange(y, y, 'year'))\n",
    "             .filter(ee.Filter.calendarRange(m, m, 'month'))\n",
    "             .sum();\n",
    "    return w.set('year', y)\n",
    "             .set('month', m)\n",
    "             .set('system:time_start',ee.Date.fromYMD(y,m,1))\n",
    "             .set('date', ee.Date.fromYMD(y,m,1));\n",
    "})\n",
    "}).flatten())"
   ]
  }
 ],
 "metadata": {
  "kernelspec": {
   "display_name": "Python 2",
   "language": "python",
   "name": "python2"
  },
  "language_info": {
   "codemirror_mode": {
    "name": "ipython",
    "version": 2
   },
   "file_extension": ".py",
   "mimetype": "text/x-python",
   "name": "python",
   "nbconvert_exporter": "python",
   "pygments_lexer": "ipython2",
   "version": "2.7.12"
  }
 },
 "nbformat": 4,
 "nbformat_minor": 0
}
