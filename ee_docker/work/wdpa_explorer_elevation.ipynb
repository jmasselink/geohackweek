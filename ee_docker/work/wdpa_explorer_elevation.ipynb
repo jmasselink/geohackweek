{
 "cells": [
  {
   "cell_type": "markdown",
   "metadata": {},
   "source": [
    "### From JavaScript here: https://code.earthengine.google.com/5806d067c03a964285f573ad61f07639"
   ]
  },
  {
   "cell_type": "code",
   "execution_count": 2,
   "metadata": {
    "collapsed": false
   },
   "outputs": [],
   "source": [
    "import ee, pandas as pd, numpy as np #geopandas / shapely not in current environment - docker container\n",
    "from IPython import display ##used to display images\n",
    "from matplotlib import pyplot\n",
    "# from IPython.display import Image "
   ]
  },
  {
   "cell_type": "code",
   "execution_count": 3,
   "metadata": {
    "collapsed": true
   },
   "outputs": [],
   "source": [
    "ee.Initialize()"
   ]
  },
  {
   "cell_type": "code",
   "execution_count": 4,
   "metadata": {
    "collapsed": true
   },
   "outputs": [],
   "source": [
    "das_sites = ee.FeatureCollection('users/jmasselink/das_sites') ##//ft:1NJIeeE0BzZLNtqA3-WSyxzGg2jxg59K4zD249QCv')"
   ]
  },
  {
   "cell_type": "code",
   "execution_count": 5,
   "metadata": {
    "collapsed": false
   },
   "outputs": [
    {
     "name": "stdout",
     "output_type": "stream",
     "text": [
      "ee.FeatureCollection({\n",
      "  \"type\": \"Invocation\", \n",
      "  \"arguments\": {\n",
      "    \"tableId\": \"users/jmasselink/das_sites\"\n",
      "  }, \n",
      "  \"functionName\": \"Collection.loadTable\"\n",
      "})\n"
     ]
    }
   ],
   "source": [
    "print(das_sites) ##.info())"
   ]
  },
  {
   "cell_type": "code",
   "execution_count": 6,
   "metadata": {
    "collapsed": false
   },
   "outputs": [],
   "source": [
    "# from matplotlib import rcsetup\n",
    "# rcsetup.all_backends"
   ]
  },
  {
   "cell_type": "code",
   "execution_count": null,
   "metadata": {
    "collapsed": true
   },
   "outputs": [],
   "source": [
    "# create Pandas data frame to read ee.FeatureCollection\n",
    "das_df = pd.Series(das_sites)"
   ]
  },
  {
   "cell_type": "code",
   "execution_count": 9,
   "metadata": {
    "collapsed": false
   },
   "outputs": [
    {
     "data": {
      "text/plain": [
       "0    ee.FeatureCollection({\\n  \"type\": \"Invocation\"...\n",
       "dtype: object"
      ]
     },
     "execution_count": 9,
     "metadata": {},
     "output_type": "execute_result"
    }
   ],
   "source": [
    "das_df.head()"
   ]
  },
  {
   "cell_type": "markdown",
   "metadata": {},
   "source": [
    "#### Accessing Feature Class parameters"
   ]
  },
  {
   "cell_type": "code",
   "execution_count": 10,
   "metadata": {
    "collapsed": false
   },
   "outputs": [
    {
     "name": "stdout",
     "output_type": "stream",
     "text": [
      "ee.Number({\n",
      "  \"type\": \"Invocation\", \n",
      "  \"arguments\": {\n",
      "    \"collection\": {\n",
      "      \"type\": \"Invocation\", \n",
      "      \"arguments\": {\n",
      "        \"tableId\": \"users/jmasselink/das_sites\"\n",
      "      }, \n",
      "      \"functionName\": \"Collection.loadTable\"\n",
      "    }\n",
      "  }, \n",
      "  \"functionName\": \"Collection.size\"\n",
      "})\n",
      "ee.Dictionary({\n",
      "  \"type\": \"Invocation\", \n",
      "  \"arguments\": {\n",
      "    \"element\": {\n",
      "      \"type\": \"Invocation\", \n",
      "      \"arguments\": {\n",
      "        \"tableId\": \"users/jmasselink/das_sites\"\n",
      "      }, \n",
      "      \"functionName\": \"Collection.loadTable\"\n",
      "    }\n",
      "  }, \n",
      "  \"functionName\": \"Element.toDictionary\"\n",
      "})\n"
     ]
    }
   ],
   "source": [
    "## This takes too long - don't do it.\n",
    "# print(das_sites.getInfo())\n",
    "count = das_sites.size()\n",
    "fcDict = das_sites.toDictionary() ##version()\n",
    "print(count) ## + (fcType))\n",
    "print(fcDict)"
   ]
  },
  {
   "cell_type": "code",
   "execution_count": null,
   "metadata": {
    "collapsed": false
   },
   "outputs": [],
   "source": [
    "list_sites = das_sites.aggregate_count(\"columns\") ##=\"name\")  ##aggregate_array\n",
    "print(list_sites)"
   ]
  },
  {
   "cell_type": "code",
   "execution_count": null,
   "metadata": {
    "collapsed": false
   },
   "outputs": [],
   "source": [
    "list_sites = das_sites.aggregate_count(\"name\")  ##aggregate_array\n",
    "print(list_sites)"
   ]
  },
  {
   "cell_type": "markdown",
   "metadata": {},
   "source": [
    "#### Query for a name"
   ]
  },
  {
   "cell_type": "code",
   "execution_count": null,
   "metadata": {
    "collapsed": false
   },
   "outputs": [],
   "source": [
    "## (ee.FeatureCollection('ft:1fRY18cjsHzDgGiJiS2nnpUU3v9JPDc2HNaR7Xk8')\n",
    "fcLewa = (das_sites.filter(ee.Filter().eq('name', 'Lewa')))\n",
    "\n",
    "infoLewa = fcLewa.getInfo()\n",
    "print(infoLewa)"
   ]
  },
  {
   "cell_type": "markdown",
   "metadata": {},
   "source": [
    "## Load asset Feature Collection\n",
    "Head back to the [Earth Engine Public Data Catalog](https://earthengine.google.org/#index), search for **SRTM**, and load up the data description page for the **SRTM** dataset. The ID for this Image Collection is **CGIAR/SRTM90_V4**."
   ]
  },
  {
   "cell_type": "code",
   "execution_count": null,
   "metadata": {
    "collapsed": false
   },
   "outputs": [],
   "source": [
    "srtm = ee.Image('CGIAR/SRTM90_V4')\n",
    "Image(url=srtm.getThumbUrl())"
   ]
  },
  {
   "cell_type": "code",
   "execution_count": null,
   "metadata": {
    "collapsed": false
   },
   "outputs": [],
   "source": [
    "Image(url=srtm.getThumbUrl({'min':0, 'max':3000}))"
   ]
  },
  {
   "cell_type": "code",
   "execution_count": null,
   "metadata": {
    "collapsed": false
   },
   "outputs": [],
   "source": [
    "hillshade = ee.Terrain.hillshade(srtm) #.visualize(forceRgbOutput=True)"
   ]
  },
  {
   "cell_type": "code",
   "execution_count": null,
   "metadata": {
    "collapsed": false
   },
   "outputs": [],
   "source": [
    "hillshade.getInfo()"
   ]
  },
  {
   "cell_type": "code",
   "execution_count": null,
   "metadata": {
    "collapsed": false
   },
   "outputs": [],
   "source": [
    "Image(url=hillshade.getThumbUrl())"
   ]
  },
  {
   "cell_type": "code",
   "execution_count": null,
   "metadata": {
    "collapsed": false
   },
   "outputs": [],
   "source": [
    "Image(url=hillshade.getThumbUrl({'hillshade': hillshade}))"
   ]
  },
  {
   "cell_type": "code",
   "execution_count": null,
   "metadata": {
    "collapsed": true
   },
   "outputs": [],
   "source": [
    "# allregion = das_sites.geometry().bounds()\n",
    "allregion = ee.Geometry.Polygon([-170, 80, 0, 80, 170, 80, 170, -80, 10, -80, -170, -80], None, False)"
   ]
  },
  {
   "cell_type": "code",
   "execution_count": null,
   "metadata": {
    "collapsed": true
   },
   "outputs": [],
   "source": [
    "def print_image(image,region):\n",
    "  display.display(display.Image(ee.data.getThumbnail({\n",
    "      'image': image.serialize(),\n",
    "      'dimensions': 500,\n",
    "      'region':region\n",
    "})))"
   ]
  },
  {
   "cell_type": "code",
   "execution_count": null,
   "metadata": {
    "collapsed": false
   },
   "outputs": [],
   "source": [
    "print_image(srtm, allregion)"
   ]
  },
  {
   "cell_type": "code",
   "execution_count": null,
   "metadata": {
    "collapsed": true
   },
   "outputs": [],
   "source": [
    "### Create the ele tracks layer\n",
    "empty1 = ee.Image().byte()\n",
    "painted=empty1.paint(featureCollection=eleTrack,\n",
    "  color=1,\n",
    "  width=5).visualize(palette=['FF0000'],forceRgbOutput=True)"
   ]
  },
  {
   "cell_type": "code",
   "execution_count": null,
   "metadata": {
    "collapsed": false
   },
   "outputs": [],
   "source": [
    "# ### Create image collection from layers and mosaic in desired draw order\n",
    "outImg = ee.ImageCollection([hillshade,painted]).mosaic()\n",
    "# print(outImg.getThumbURL()) #getting the unbounded error here ()\n",
    "print(outImg.getThumbURL(\"region\": allregion))"
   ]
  },
  {
   "cell_type": "code",
   "execution_count": null,
   "metadata": {
    "collapsed": false
   },
   "outputs": [],
   "source": [
    "print_image(outImg,allregion) #getting http 400 error here"
   ]
  },
  {
   "cell_type": "code",
   "execution_count": null,
   "metadata": {
    "collapsed": true
   },
   "outputs": [],
   "source": []
  }
 ],
 "metadata": {
  "kernelspec": {
   "display_name": "Python 2",
   "language": "python",
   "name": "python2"
  },
  "language_info": {
   "codemirror_mode": {
    "name": "ipython",
    "version": 2
   },
   "file_extension": ".py",
   "mimetype": "text/x-python",
   "name": "python",
   "nbconvert_exporter": "python",
   "pygments_lexer": "ipython2",
   "version": "2.7.12"
  }
 },
 "nbformat": 4,
 "nbformat_minor": 0
}
