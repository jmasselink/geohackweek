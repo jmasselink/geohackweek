{
 "cells": [
  {
   "cell_type": "code",
   "execution_count": 1,
   "metadata": {
    "collapsed": false
   },
   "outputs": [],
   "source": [
    "import ee\n",
    "from IPython.display import Image"
   ]
  },
  {
   "cell_type": "markdown",
   "metadata": {},
   "source": [
    "Connect the Earth Engine backend, and populate the *ee* Python package."
   ]
  },
  {
   "cell_type": "code",
   "execution_count": 2,
   "metadata": {
    "collapsed": false
   },
   "outputs": [],
   "source": [
    "ee.Initialize()"
   ]
  },
  {
   "cell_type": "markdown",
   "metadata": {},
   "source": [
    "Create an Earth Engine image object, that refers to a 90m DEM."
   ]
  },
  {
   "cell_type": "code",
   "execution_count": 3,
   "metadata": {
    "collapsed": false
   },
   "outputs": [],
   "source": [
    "srtm = ee.Image(\"CGIAR/SRTM90_V4\")"
   ]
  },
  {
   "cell_type": "markdown",
   "metadata": {},
   "source": [
    "Get the object metadata for the srtm image object, and print it out."
   ]
  },
  {
   "cell_type": "code",
   "execution_count": 4,
   "metadata": {
    "collapsed": false
   },
   "outputs": [
    {
     "name": "stdout",
     "output_type": "stream",
     "text": [
      "{u'bands': [{u'crs': u'EPSG:4326', u'crs_transform': [0.000833333333333, 0.0, -180.0, 0.0, -0.000833333333333, 60.0], u'id': u'elevation', u'data_type': {u'max': 32767, u'type': u'PixelType', u'precision': u'int', u'min': -32768}, u'dimensions': [432000, 144000]}], u'version': 1481149844193000, u'type': u'Image', u'id': u'CGIAR/SRTM90_V4', u'properties': {u'system:time_end': 951177600000, u'system:visualization_0_max': 10000, u'thumb': u'https://mw1.google.com/ges/dd/images/SRTM90_V4_thumb.png', u'system:visualization_0_gamma': 1.6, u'provider_url': u'http://srtm.csi.cgiar.org/', u'description': u\"<p>The Shuttle Radar Topography Mission (SRTM, see    <a href='http://onlinelibrary.wiley.com/doi/10.1029/2005RG000183/full'>Farr   et al. 2007</a>) digital elevation dataset was originally produced   to provide consistent, high-quality elevation data at near global scope.   This version of the SRTM digital elevation data has been  processed to fill   data voids, and to facilitate its ease of use. The SRTM 90m has a resolution   of 90m at the equator. </p><p>This dataset contains one band, 'elevation'   (meters).</p><p>For the   creation of any reports, publications, new data sets, derived products,   or services resulting from the data set, users should cite:</p>    <p>Jarvis, A., H.I. Reuter, A. Nelson, E. Guevara. 2008. Hole-filled SRTM   for the globe Version 4, available from the CGIAR-CSI SRTM 90m Database:   <a href='http://srtm.csi.cgiar.org'>http://srtm.csi.cgiar.org</a>.</p>\", u'title': u'SRTM Digital Elevation Data Version 4', u'period': 0, u'system:visualization_0_name': u'Elevation', u'date_range': [950227200000.0, 951177600000.0], u'sample': u'https://mw1.google.com/ges/dd/images/SRTM90_V4_sample.png', u'link': u'srtm90_v4', u'provider': u'NASA / CGIAR', u'system:time_start': 950227200000, u'system:visualization_0_min': 0, u'system:asset_size': 18827626666, u'tags': [u'nasa', u'cgiar', u'srtm', u'elevation', u'topography', u'dem', u'geophysical'], u'system:visualization_0_bands': u'elevation'}}\n"
     ]
    }
   ],
   "source": [
    "info = srtm.getInfo()\n",
    "print(info)"
   ]
  },
  {
   "cell_type": "markdown",
   "metadata": {},
   "source": [
    "Display the image."
   ]
  },
  {
   "cell_type": "code",
   "execution_count": 5,
   "metadata": {
    "collapsed": false
   },
   "outputs": [
    {
     "data": {
      "text/html": [
       "<img src=\"https://earthengine.googleapis.com/api/thumb?thumbid=dc1e49122501a1223c0e36307aa39e08&token=9e3be7e36265cfaae010e4d96634d0f6\"/>"
      ],
      "text/plain": [
       "<IPython.core.display.Image object>"
      ]
     },
     "execution_count": 5,
     "metadata": {},
     "output_type": "execute_result"
    }
   ],
   "source": [
    "Image(url=srtm.getThumbUrl({'min':0, 'max':3000}))"
   ]
  },
  {
   "cell_type": "code",
   "execution_count": 6,
   "metadata": {
    "collapsed": false
   },
   "outputs": [],
   "source": [
    "foo = \"bar\""
   ]
  },
  {
   "cell_type": "markdown",
   "metadata": {
    "collapsed": true
   },
   "source": [
    "\n",
    "This next block instantiates our vector point - one XY coordinate location for Lewa, Kenya\n"
   ]
  },
  {
   "cell_type": "code",
   "execution_count": 7,
   "metadata": {
    "collapsed": false,
    "scrolled": false
   },
   "outputs": [],
   "source": [
    "lewaPt = ee.Geometry.Point(37.4, 0.2)\n",
    "# Map.add(lewaPt)\n",
    "# print(lewaPt)\n",
    "# print(lewaPt.metadata)\n",
    "# print(lewaPt.geometry)\n",
    "# print(lewaPt.metadata)"
   ]
  },
  {
   "cell_type": "markdown",
   "metadata": {
    "collapsed": false
   },
   "source": [
    "This next block instantiates a polygon object based on a Fusion Table, and shows all methods available to ee.FeatureCollection()"
   ]
  },
  {
   "cell_type": "code",
   "execution_count": 8,
   "metadata": {
    "collapsed": false
   },
   "outputs": [
    {
     "data": {
      "text/plain": [
       "['__class__',\n",
       " '__delattr__',\n",
       " '__dict__',\n",
       " '__doc__',\n",
       " '__eq__',\n",
       " '__format__',\n",
       " '__getattribute__',\n",
       " '__hash__',\n",
       " '__init__',\n",
       " '__module__',\n",
       " '__ne__',\n",
       " '__new__',\n",
       " '__reduce__',\n",
       " '__reduce_ex__',\n",
       " '__repr__',\n",
       " '__setattr__',\n",
       " '__sizeof__',\n",
       " '__str__',\n",
       " '__subclasshook__',\n",
       " '__weakref__',\n",
       " '_cast',\n",
       " '_initialized',\n",
       " 'aggregate_array',\n",
       " 'aggregate_count',\n",
       " 'aggregate_count_distinct',\n",
       " 'aggregate_first',\n",
       " 'aggregate_histogram',\n",
       " 'aggregate_max',\n",
       " 'aggregate_mean',\n",
       " 'aggregate_min',\n",
       " 'aggregate_product',\n",
       " 'aggregate_sample_sd',\n",
       " 'aggregate_sample_var',\n",
       " 'aggregate_stats',\n",
       " 'aggregate_sum',\n",
       " 'aggregate_total_sd',\n",
       " 'aggregate_total_var',\n",
       " 'aside',\n",
       " 'cache',\n",
       " 'classify',\n",
       " 'cluster',\n",
       " 'copyProperties',\n",
       " 'distance',\n",
       " 'distinct',\n",
       " 'draw',\n",
       " 'elementType',\n",
       " 'encode',\n",
       " 'errorMatrix',\n",
       " 'filter',\n",
       " 'filterBounds',\n",
       " 'filterDate',\n",
       " 'filterMetadata',\n",
       " 'first',\n",
       " 'flatten',\n",
       " 'freeze',\n",
       " 'fromColumns',\n",
       " 'geometry',\n",
       " 'get',\n",
       " 'getDownloadURL',\n",
       " 'getDownloadUrl',\n",
       " 'getInfo',\n",
       " 'getMapId',\n",
       " 'initialize',\n",
       " 'inverseDistance',\n",
       " 'isVariable',\n",
       " 'iterate',\n",
       " 'kriging',\n",
       " 'limit',\n",
       " 'loadTable',\n",
       " 'makeArray',\n",
       " 'map',\n",
       " 'merge',\n",
       " 'name',\n",
       " 'propertyNames',\n",
       " 'randomColumn',\n",
       " 'randomPoints',\n",
       " 'reduceColumns',\n",
       " 'reduceToImage',\n",
       " 'remap',\n",
       " 'reset',\n",
       " 'select',\n",
       " 'serialize',\n",
       " 'set',\n",
       " 'setMulti',\n",
       " 'size',\n",
       " 'sort',\n",
       " 'toDictionary',\n",
       " 'toList',\n",
       " 'trainClassifier',\n",
       " 'union']"
      ]
     },
     "execution_count": 8,
     "metadata": {},
     "output_type": "execute_result"
    }
   ],
   "source": [
    "lewa = ee.FeatureCollection(\"ft:1yrKHIrC4bnbgAP3l_ZCSm_0B_BCrI_hCm6p-RXnc\")\n",
    "dir(ee.FeatureCollection)\n",
    "#info = ee.data.getInfo(lewa)\n",
    "# Image(url=lewa.getThumbUrl())"
   ]
  },
  {
   "cell_type": "markdown",
   "metadata": {},
   "source": [
    "Produces info called from ee.FeatureCollection.getInfo() method"
   ]
  },
  {
   "cell_type": "code",
   "execution_count": 9,
   "metadata": {
    "collapsed": false
   },
   "outputs": [
    {
     "name": "stdout",
     "output_type": "stream",
     "text": [
      "{u'features': [{u'geometry': {u'type': u'Polygon', u'geodesic': True, u'coordinates': [[[37.49202999999999, 0.167597], [37.49203399999999, 0.167656], [37.49659199999999, 0.17120900000000003], [37.49593099999999, 0.17176700000000006], [37.49577, 0.17254100000000003], [37.495681, 0.17302699999999993], [37.494947999999994, 0.17349399999999998], [37.494555, 0.17405199999999996], [37.494394000000014, 0.174898], [37.49417900000001, 0.175276], [37.493589, 0.175924], [37.493178, 0.17662499999999992], [37.493034999999985, 0.17851499999999998], [37.493124, 0.17968499999999998], [37.49301700000001, 0.180656], [37.493034999999985, 0.18177200000000002], [37.493177, 0.182996], [37.493213, 0.183662], [37.493106, 0.18427299999999994], [37.493052, 0.18477700000000002], [37.49293500000001, 0.185237], [37.492947, 0.185478], [37.49283700000001, 0.185631], [37.492731, 0.186219], [37.492602000000005, 0.186764], [37.492568000000006, 0.186993], [37.492568000000006, 0.18719600000000008], [37.492576, 0.18732099999999996], [37.492621, 0.187718], [37.49262100000001, 0.187901], [37.492625000000004, 0.188039], [37.492678, 0.188233], [37.49270500000001, 0.18848499999999999], [37.49271600000001, 0.188653], [37.492689, 0.188829], [37.492667, 0.189168], [37.492613, 0.18931000000000003], [37.492583, 0.189466], [37.49254899999999, 0.189695], [37.492485, 0.18992399999999998], [37.492394, 0.1901829999999999], [37.492325, 0.19045400000000007], [37.492295, 0.1906340000000001], [37.490588, 0.19521600000000006], [37.490448, 0.195491], [37.490391, 0.19557099999999994], [37.49034899999999, 0.19561999999999996], [37.49031099999999, 0.195701], [37.490337999999994, 0.19579599999999997], [37.490539, 0.195933], [37.490789, 0.19640699999999997], [37.49138000000001, 0.19755099999999998], [37.491429, 0.197647], [37.49169499999999, 0.19856600000000002], [37.49194499999999, 0.19927600000000004], [37.492039000000005, 0.19955900000000004], [37.492342, 0.20083699999999993], [37.492437, 0.201241], [37.492392, 0.20144700000000004], [37.492217, 0.20204599999999998], [37.492217, 0.20211500000000002], [37.49233499999998, 0.20239400000000002], [37.492069, 0.20278699999999994], [37.491967, 0.20293899999999998], [37.491842000000005, 0.20321399999999995], [37.4918, 0.20335899999999998], [37.491743000000014, 0.20356899999999992], [37.491698, 0.203737], [37.491713000000004, 0.20410700000000007], [37.491728, 0.204424], [37.49194799999999, 0.20481299999999994], [37.492395, 0.204855], [37.49257700000001, 0.20575899999999997], [37.492619, 0.20596099999999992], [37.49314499999999, 0.20690400000000003], [37.49322900000001, 0.20738500000000004], [37.493263, 0.208064], [37.493202, 0.208518], [37.493126, 0.20891099999999996], [37.493140999999994, 0.20906800000000006], [37.493157, 0.209201], [37.493213000000004, 0.20929999999999999], [37.493414, 0.209499], [37.493687, 0.21026200000000003], [37.493801, 0.21063200000000007], [37.493956, 0.211124], [37.494134, 0.211369], [37.494220999999996, 0.211426], [37.494259, 0.21153299999999994], [37.494354, 0.21164699999999995], [37.494449, 0.2118260000000001], [37.494631, 0.2120779999999999], [37.49472900000001, 0.21221200000000004], [37.494866, 0.21244499999999997], [37.494991, 0.21279200000000004], [37.49504, 0.213048], [37.49506699999999, 0.213151], [37.495127, 0.213227], [37.495183999999995, 0.21326900000000001], [37.49528299999999, 0.21332199999999993], [37.495495000000005, 0.2134099999999999], [37.496283000000005, 0.213742], [37.496439, 0.21378000000000003], [37.496526, 0.213845], [37.496848000000014, 0.214265], [37.496912, 0.21437200000000006], [37.497284, 0.214715], [37.497443, 0.214857], [37.497519000000004, 0.2150020000000001], [37.497746, 0.215677], [37.49786300000001, 0.216013], [37.497901, 0.21629099999999998], [37.497996, 0.216524], [37.498667, 0.217829], [37.498966, 0.218241], [37.49930700000001, 0.2188789999999999], [37.50018300000001, 0.21916100000000002], [37.50068300000001, 0.219329], [37.500793, 0.21943999999999994], [37.500892, 0.219504], [37.500998, 0.21959999999999993], [37.501115000000006, 0.21967199999999998], [37.501274, 0.21969899999999992], [37.50148299999999, 0.219688], [37.501771, 0.219787], [37.502050999999994, 0.21990099999999996], [37.502506, 0.22014600000000004], [37.50311599999999, 0.22045100000000006], [37.50346499999999, 0.220737], [37.503814, 0.22106900000000002], [37.50402599999999, 0.22127900000000006], [37.50427199999999, 0.22139699999999995], [37.504738, 0.2216990000000001], [37.505106, 0.222035], [37.50542400000001, 0.222386], [37.505652, 0.22257299999999997], [37.50580699999998, 0.222695], [37.506065, 0.22278999999999996], [37.50626999999999, 0.222851], [37.506611, 0.222905], [37.506838, 0.223061], [37.507001, 0.223164], [37.507225000000005, 0.223168], [37.507846, 0.223111], [37.508043, 0.22311899999999996], [37.508278000000004, 0.22321400000000008], [37.50846, 0.223352], [37.508661, 0.22347400000000006], [37.508866000000005, 0.22361899999999996], [37.50899500000001, 0.22366799999999995], [37.509143, 0.22370999999999985], [37.50934300000001, 0.22367599999999996], [37.509449999999994, 0.223646], [37.509544, 0.223626], [37.509706999999985, 0.22366799999999998], [37.510521999999995, 0.224016], [37.51057900000001, 0.22407699999999992], [37.51058199999999, 0.22417199999999998], [37.512016, 0.224533], [37.513527, 0.225505], [37.515079, 0.22757599999999986], [37.515457, 0.22871599999999997], [37.51654800000001, 0.229604], [37.518017, 0.23019500000000004], [37.519234, 0.23061799999999996], [37.520240999999984, 0.232012], [37.52028299999999, 0.23251899999999995], [37.51873000000001, 0.23319499999999999], [37.520031, 0.23404000000000008], [37.520576000000005, 0.235054], [37.521332, 0.2362369999999999], [37.52288400000001, 0.23788500000000004], [37.523933, 0.238899], [37.525318, 0.23957600000000012], [37.526451, 0.2409700000000001], [37.527458, 0.242491], [37.52838099999999, 0.24434999999999996], [37.528759, 0.24506799999999992], [37.517176, 0.2469260000000001], [37.517637, 0.248236], [37.517259, 0.24954599999999985], [37.517301, 0.251067], [37.517343, 0.25225], [37.516881, 0.2528829999999999], [37.516755, 0.253517], [37.516797000000004, 0.2548269999999999], [37.51599900000001, 0.255883], [37.516545, 0.25731999999999994], [37.515831, 0.257784], [37.51650299999999, 0.258798], [37.516712000000005, 0.2596430000000001], [37.51788700000001, 0.260911], [37.518601, 0.262052], [37.518936, 0.262855], [37.520111, 0.2637], [37.521202, 0.26505199999999995], [37.521454000000006, 0.2657699999999999], [37.51041799999999, 0.268364], [37.510417, 0.26852900000000013], [37.504128, 0.27011999999999986], [37.49764700000001, 0.2721340000000001], [37.494928, 0.27264], [37.492041, 0.27345899999999995], [37.489537, 0.274098], [37.478624, 0.276738], [37.473148999999985, 0.2779189999999999], [37.46315799999999, 0.281572], [37.459672, 0.28296999999999994], [37.45776699999998, 0.283754], [37.45607800000001, 0.284357], [37.455119999999994, 0.2846940000000001], [37.451442, 0.28637], [37.450903000000004, 0.28662300000000007], [37.449476999999995, 0.28704500000000016], [37.44774, 0.28772], [37.44627899999999, 0.28844400000000003], [37.44459, 0.289119], [37.44388300000001, 0.289504], [37.443404, 0.2898300000000001], [37.442469, 0.2901680000000001], [37.440121, 0.291301], [37.438456, 0.2918550000000001], [37.437761, 0.292024], [37.43724600000001, 0.2921570000000001], [37.43626399999999, 0.29267499999999996], [37.434802, 0.2931689999999999], [37.432526, 0.294218], [37.431028999999995, 0.29511], [37.430609, 0.2953030000000001], [37.43006999999999, 0.29539999999999994], [37.42956699999999, 0.2954360000000001], [37.428681, 0.29529100000000014], [37.426728, 0.2950860000000001], [37.42523100000001, 0.295061], [37.424237, 0.29504899999999984], [37.422967, 0.29496399999999995], [37.422081, 0.294904], [37.420188, 0.294626], [37.418679, 0.29453], [37.416846, 0.29459], [37.41508499999999, 0.2945649999999999], [37.413695999999995, 0.29442], [37.410569, 0.2942389999999999], [37.409515, 0.2941420000000001], [37.40816100000001, 0.293925], [37.40623299999999, 0.2937560000000001], [37.403681, 0.293659], [37.401705, 0.29369500000000004], [37.40162099999999, 0.291934], [37.401682, 0.288546], [37.40155, 0.2859650000000001], [37.401599000000004, 0.281612], [37.397533, 0.2786550000000001], [37.394325, 0.276647], [37.394273, 0.276586], [37.393894, 0.2758569999999999], [37.39345499999999, 0.27541399999999994], [37.393334, 0.275246], [37.393072, 0.27468899999999985], [37.392997, 0.2737620000000001], [37.392402, 0.2731670000000001], [37.39201500000001, 0.27281199999999994], [37.391871000000016, 0.272728], [37.391678000000006, 0.272392], [37.391227, 0.27170899999999987], [37.391189, 0.271625], [37.39109000000001, 0.2709460000000001], [37.390693, 0.27074400000000004], [37.390204, 0.2704539999999999], [37.38998, 0.270354], [37.389468, 0.2699840000000001], [37.388995, 0.26965999999999996], [37.388885, 0.26965999999999996], [37.38858900000001, 0.269709], [37.38847200000001, 0.2699269999999999], [37.388381, 0.269969], [37.38783900000001, 0.270152], [37.38738000000001, 0.2698469999999999], [37.387826999999994, 0.269122], [37.387589, 0.26856499999999994], [37.387176, 0.268225], [37.38712700000001, 0.266832], [37.386797, 0.266214], [37.386899, 0.26527900000000015], [37.38644099999999, 0.2644590000000001], [37.3861, 0.264352], [37.385531, 0.26463], [37.38461, 0.264325], [37.383902, 0.2643820000000001], [37.383716000000014, 0.265035], [37.383798999999996, 0.265615], [37.383798999999996, 0.26570999999999995], [37.382886, 0.2660949999999999], [37.382954, 0.26702599999999993], [37.382361999999986, 0.267492], [37.381968, 0.26729700000000006], [37.380535999999985, 0.267259], [37.379872, 0.2668159999999999], [37.377864, 0.2655680000000002], [37.37708700000001, 0.26604499999999986], [37.376522, 0.266392], [37.37586300000001, 0.264427], [37.375132, 0.2623320000000001], [37.375021999999994, 0.262027], [37.37352500000001, 0.2606299999999998], [37.37258899999999, 0.25971800000000006], [37.37175499999999, 0.2595], [37.370883, 0.2592029999999999], [37.368075, 0.2582180000000001], [37.36610400000001, 0.256146], [37.365407, 0.2539789999999999], [37.365202999999994, 0.25336400000000003], [37.363641, 0.2531729999999999], [37.362993, 0.25306600000000007], [37.362239, 0.252971], [37.362311, 0.251139], [37.36232299999999, 0.25035300000000005], [37.362728, 0.2501820000000001], [37.36406999999999, 0.249774], [37.364661000000005, 0.24849199999999996], [37.36599200000002, 0.24832], [37.366549, 0.24823199999999998], [37.368288, 0.24858800000000003], [37.368592, 0.2470080000000001], [37.368694, 0.24652], [37.368869, 0.245608], [37.369972000000004, 0.24457], [37.370438000000014, 0.24407399999999993], [37.36999099999999, 0.2424709999999999], [37.369385, 0.240235], [37.369142, 0.23937700000000003], [37.36959, 0.2389340000000001], [37.369537, 0.238572], [37.369143, 0.23452000000000012], [37.36898, 0.232696], [37.367126999999996, 0.2322], [37.366274, 0.229036], [37.36584599999999, 0.22747599999999998], [37.363868, 0.22765499999999997], [37.35928999999999, 0.22798300000000002], [37.358437, 0.22803999999999996], [37.357963, 0.22814999999999994], [37.357155999999996, 0.22705500000000003], [37.35507500000001, 0.22427], [37.354265, 0.22321999999999992], [37.35449200000001, 0.22226999999999988], [37.35463599999999, 0.22169400000000006], [37.35608, 0.221393], [37.35614799999999, 0.22010300000000002], [37.35544800000001, 0.218355], [37.355341, 0.218081], [37.355171, 0.21738300000000002], [37.354875, 0.21651300000000004], [37.354504, 0.215505], [37.355061, 0.215562], [37.355906, 0.215669], [37.358666, 0.21482300000000007], [37.36465799999999, 0.21288499999999996], [37.366238, 0.21237800000000004], [37.366082999999996, 0.21105400000000002], [37.365826, 0.20865], [37.36686799999999, 0.20856599999999997], [37.37031700000001, 0.20836000000000002], [37.37207899999999, 0.208189], [37.372686, 0.208166], [37.373065, 0.20814700000000008], [37.377094, 0.20787600000000003], [37.378871, 0.207716], [37.380448, 0.2075559999999999], [37.38436699999999, 0.20732799999999996], [37.388464, 0.20704200000000003], [37.392303, 0.206752], [37.395991000000016, 0.20649300000000004], [37.397333, 0.206417], [37.396313, 0.20497500000000002], [37.394343, 0.202147], [37.388853, 0.19418800000000003], [37.38367299999999, 0.18667199999999995], [37.38085600000001, 0.18732300000000002], [37.373774, 0.18891000000000008], [37.36677999999999, 0.19061199999999995], [37.365076, 0.19100500000000004], [37.362940000000016, 0.191446], [37.362515999999985, 0.189085], [37.361734000000006, 0.184357], [37.361097, 0.180553], [37.36037400000001, 0.180789], [37.35848, 0.181445], [37.356614, 0.18213200000000007], [37.355489, 0.182538], [37.350004, 0.184492], [37.350022, 0.18448200000000006], [37.332494, 0.19136799999999995], [37.303062999999995, 0.20313800000000007], [37.301387, 0.18167699999999998], [37.304017, 0.17750899999999994], [37.304408, 0.177171], [37.305248, 0.17756499999999992], [37.30743, 0.178016], [37.308884, 0.177622], [37.30949999999999, 0.176214], [37.308997, 0.17469299999999996], [37.308829, 0.173848], [37.308157, 0.17289], [37.307038999999996, 0.171707], [37.306591000000004, 0.17086199999999996], [37.30575199999999, 0.16962299999999997], [37.30485700000001, 0.16855300000000006], [37.30368200000001, 0.167314], [37.323098, 0.151037], [37.330764, 0.144729], [37.331211999999994, 0.14444699999999994], [37.358236, 0.14681500000000006], [37.363272000000016, 0.14681500000000006], [37.38649199999999, 0.146085], [37.387611, 0.145972], [37.398354, 0.141241], [37.42151900000001, 0.13132900000000003], [37.433885, 0.130879], [37.446133999999994, 0.13041399999999997], [37.45645, 0.130225], [37.457039, 0.14358099999999996], [37.45699600000001, 0.14372], [37.45704499999999, 0.14375200000000002], [37.457288, 0.146906], [37.457564, 0.151336], [37.457792, 0.15489699999999998], [37.458001, 0.15863499999999994], [37.458311, 0.162339], [37.458526000000006, 0.16542500000000002], [37.458768, 0.16858], [37.458903, 0.170269], [37.459016999999996, 0.17254799999999995], [37.459928999999995, 0.18693199999999996], [37.46001499999999, 0.18779199999999993], [37.460566, 0.18763899999999997], [37.460905, 0.187583], [37.461324, 0.187527], [37.46159200000002, 0.187542], [37.462224, 0.18768], [37.462232000000014, 0.18767900000000007], [37.462937, 0.18714099999999992], [37.46369, 0.18658300000000003], [37.464648, 0.185879], [37.465638, 0.1851089999999999], [37.469599, 0.182156], [37.47544700000002, 0.17764700000000005], [37.480674, 0.17366400000000007], [37.486777, 0.16907699999999995], [37.490400999999984, 0.166308], [37.490821000000004, 0.166571], [37.490977000000015, 0.166666], [37.49141999999999, 0.1670139999999999], [37.491814000000005, 0.167384], [37.49202999999999, 0.167597]]]}, u'type': u'Feature', u'id': u'2', u'properties': {u'description': u'<html xmlns:fo=\"http://www.w3.org/1999/XSL/Format\" xmlns:msxsl=\"urn:schemas-microsoft-com:xslt\">\\n\\n<head>\\n\\n<META http-equiv=\"Content-Type\" content=\"text/html\">\\n\\n<meta http-equiv=\"content-type\" content=\"text/html; charset=UTF-8\">\\n\\n</head>\\n\\n<body style=\"margin:0px 0px 0px 0px;overflow:auto;background:#FFFFFF;\">\\n\\n<table style=\"font-family:Arial,Verdana,Times;font-size:12px;text-align:left;width:100%;border-collapse:collapse;padding:3px 3px 3px 3px\">\\n\\n<tr style=\"text-align:center;font-weight:bold;background:#9CBCE2\">\\n\\n<td>0</td>\\n\\n</tr>\\n\\n<tr>\\n\\n<td>\\n\\n<table style=\"font-family:Arial,Verdana,Times;font-size:12px;text-align:left;width:100%;border-spacing:0px; padding:3px 3px 3px 3px\">\\n\\n<tr>\\n\\n<td>FID</td>\\n\\n<td>0</td>\\n\\n</tr>\\n\\n<tr bgcolor=\"#D4E4F3\">\\n\\n<td>ID</td>\\n\\n<td>0</td>\\n\\n</tr>\\n\\n<tr>\\n\\n<td>AREA</td>\\n\\n<td>250590005.573</td>\\n\\n</tr>\\n\\n<tr bgcolor=\"#D4E4F3\">\\n\\n<td>PERIMETER</td>\\n\\n<td>95820.618</td>\\n\\n</tr>\\n\\n<tr>\\n\\n<td>ACRES</td>\\n\\n<td>61921.891</td>\\n\\n</tr>\\n\\n<tr bgcolor=\"#D4E4F3\">\\n\\n<td>HECTARES</td>\\n\\n<td>25059.001</td>\\n\\n</tr>\\n\\n<tr>\\n\\n<td>X_COORD</td>\\n\\n<td>323615.49527</td>\\n\\n</tr>\\n\\n<tr bgcolor=\"#D4E4F3\">\\n\\n<td>Y_COORD</td>\\n\\n<td>23532.94463</td>\\n\\n</tr>\\n\\n</table>\\n\\n</td>\\n\\n</tr>\\n\\n</table>\\n\\n</body>\\n\\n</html>', u'name': u'Lewa Wildlife Conservancy'}}], u'properties': {u'DocID': u'1yrKHIrC4bnbgAP3l_ZCSm_0B_BCrI_hCm6p-RXnc', u'name': u'Lewa WC'}, u'geo_column': u'geometry', u'type': u'FeatureCollection', u'id': u'ft:1yrKHIrC4bnbgAP3l_ZCSm_0B_BCrI_hCm6p-RXnc', u'columns': {u'description': u'String', u'name': u'Number'}}\n"
     ]
    }
   ],
   "source": [
    "info = lewa.getInfo()\n",
    "print(info)"
   ]
  },
  {
   "cell_type": "markdown",
   "metadata": {},
   "source": [
    "Trying .map() function on ee.FeatureCollection"
   ]
  },
  {
   "cell_type": "code",
   "execution_count": 10,
   "metadata": {
    "collapsed": false
   },
   "outputs": [],
   "source": [
    "import inspect\n",
    "\n",
    "# map = lewa.map()\n",
    "# inspect.getargspec.map()"
   ]
  },
  {
   "cell_type": "code",
   "execution_count": 11,
   "metadata": {
    "collapsed": false
   },
   "outputs": [
    {
     "data": {
      "text/html": [
       "<img src=\"https://earthengine.googleapis.com/api/thumb?thumbid=f78bd637deeaa3638b5f6a588c040ee5&token=c04d721332c3519a3c6bdd19f68520d0\"/>"
      ],
      "text/plain": [
       "<IPython.core.display.Image object>"
      ]
     },
     "execution_count": 11,
     "metadata": {},
     "output_type": "execute_result"
    }
   ],
   "source": [
    "# Create a reference to the image collection\n",
    "l8 = ee.ImageCollection('LANDSAT/LC8_L1T_TOA')\n",
    "# Filter the collection down to a two week period\n",
    "filtered = l8.filterDate('2013-05-01', '2013-05-15');\n",
    "# Use the mosaic reducer, to select the most recent pixel in areas of overlap\n",
    "l8_image = filtered.mosaic()\n",
    "# Define a region roughly covering California\n",
    "point = ee.Geometry.Point(-118, 37)\n",
    "region_california = point.buffer(500000).bounds().getInfo()['coordinates']\n",
    "# And finally display the image.\n",
    "Image(url=l8_image.getThumbUrl({'region':region_california}))"
   ]
  },
  {
   "cell_type": "markdown",
   "metadata": {},
   "source": [
    "Try with Lewa point below:"
   ]
  },
  {
   "cell_type": "code",
   "execution_count": 12,
   "metadata": {
    "collapsed": false
   },
   "outputs": [
    {
     "data": {
      "text/html": [
       "<img src=\"https://earthengine.googleapis.com/api/thumb?thumbid=a2280ef0bd9d84a8bd5bff83f87264e8&token=9e5d9070e2ed9f6639ede029a8d7123d\"/>"
      ],
      "text/plain": [
       "<IPython.core.display.Image object>"
      ]
     },
     "execution_count": 12,
     "metadata": {},
     "output_type": "execute_result"
    }
   ],
   "source": [
    "# Create a reference to the image collection\n",
    "l8 = ee.ImageCollection('LANDSAT/LC8_L1T_TOA')\n",
    "# Filter the collection down to a two week period\n",
    "filtered = l8.filterDate('2013-01-01', '2013-12-31');\n",
    "# Use the mosaic reducer, to select the most recent pixel in areas of overlap\n",
    "l8_image = filtered.mosaic()\n",
    "# Define a region roughly covering Lewa\n",
    "# point = ee.Geometry.Point(-118, 37)\n",
    "# region_california = point.buffer(500000).bounds().getInfo()['coordinates']\n",
    "region_lewaPt = lewaPt.buffer(500000).bounds().getInfo()['coordinates']\n",
    "# And finally display the image.\n",
    "Image(url=l8_image.getThumbUrl({\n",
    "            'region':region_lewaPt,\n",
    "            'bands':'B4,B3,B2',\n",
    "            'min':0,\n",
    "            'max':0.3}))"
   ]
  },
  {
   "cell_type": "markdown",
   "metadata": {},
   "source": [
    "Try median reducer:"
   ]
  },
  {
   "cell_type": "code",
   "execution_count": 15,
   "metadata": {
    "collapsed": false
   },
   "outputs": [
    {
     "data": {
      "text/html": [
       "<img src=\"https://earthengine.googleapis.com/api/thumb?thumbid=6c19e7f79e1dd3efc571bd89188b3728&token=c820a5a32170757c61a47f3815090deb\"/>"
      ],
      "text/plain": [
       "<IPython.core.display.Image object>"
      ]
     },
     "execution_count": 15,
     "metadata": {},
     "output_type": "execute_result"
    }
   ],
   "source": [
    "l8_median = filtered.median()\n",
    "# # Define a region roughly covering Lewa\n",
    "# # point = ee.Geometry.Point(-118, 37)\n",
    "# # region_california = point.buffer(500000).bounds().getInfo()['coordinates']\n",
    "# region_lewaPt = lewaPt.buffer(500000).bounds().getInfo()['coordinates']\n",
    "# # And finally display the image.\n",
    "Image(url=l8_median.getThumbUrl({\n",
    "            'region':region_lewaPt,\n",
    "            'bands':'B4,B3,B2',\n",
    "            'min':0,\n",
    "            'max':0.3}))"
   ]
  },
  {
   "cell_type": "markdown",
   "metadata": {
    "collapsed": true
   },
   "source": [
    "Try with Lewa Fusion Table below:"
   ]
  },
  {
   "cell_type": "code",
   "execution_count": 16,
   "metadata": {
    "collapsed": false
   },
   "outputs": [
    {
     "ename": "AttributeError",
     "evalue": "'FeatureCollection' object has no attribute 'bounds'",
     "output_type": "error",
     "traceback": [
      "\u001b[1;31m\u001b[0m",
      "\u001b[1;31mAttributeError\u001b[0mTraceback (most recent call last)",
      "\u001b[1;32m<ipython-input-16-6b13a1f1a217>\u001b[0m in \u001b[0;36m<module>\u001b[1;34m()\u001b[0m\n\u001b[0;32m      8\u001b[0m \u001b[1;31m# point = ee.Geometry.Point(-118, 37)\u001b[0m\u001b[1;33m\u001b[0m\u001b[1;33m\u001b[0m\u001b[0m\n\u001b[0;32m      9\u001b[0m \u001b[1;31m# region_california = point.buffer(500000).bounds().getInfo()['coordinates']\u001b[0m\u001b[1;33m\u001b[0m\u001b[1;33m\u001b[0m\u001b[0m\n\u001b[1;32m---> 10\u001b[1;33m \u001b[0mregion_lewaFT\u001b[0m \u001b[1;33m=\u001b[0m \u001b[0mlewa\u001b[0m\u001b[1;33m.\u001b[0m\u001b[0mbounds\u001b[0m\u001b[1;33m(\u001b[0m\u001b[1;33m)\u001b[0m\u001b[1;33m.\u001b[0m\u001b[0mgetInfo\u001b[0m\u001b[1;33m(\u001b[0m\u001b[1;33m)\u001b[0m\u001b[1;33m[\u001b[0m\u001b[1;34m'coordinates'\u001b[0m\u001b[1;33m]\u001b[0m\u001b[1;33m\u001b[0m\u001b[0m\n\u001b[0m\u001b[0;32m     11\u001b[0m \u001b[1;31m# And finally display the image.\u001b[0m\u001b[1;33m\u001b[0m\u001b[1;33m\u001b[0m\u001b[0m\n\u001b[0;32m     12\u001b[0m \u001b[0mImage\u001b[0m\u001b[1;33m(\u001b[0m\u001b[0murl\u001b[0m\u001b[1;33m=\u001b[0m\u001b[0ml8_image\u001b[0m\u001b[1;33m.\u001b[0m\u001b[0mgetThumbUrl\u001b[0m\u001b[1;33m(\u001b[0m\u001b[1;33m{\u001b[0m\u001b[1;34m'region'\u001b[0m\u001b[1;33m:\u001b[0m\u001b[0mregion_lewaFT\u001b[0m\u001b[1;33m}\u001b[0m\u001b[1;33m)\u001b[0m\u001b[1;33m)\u001b[0m\u001b[1;33m\u001b[0m\u001b[0m\n",
      "\u001b[1;31mAttributeError\u001b[0m: 'FeatureCollection' object has no attribute 'bounds'"
     ]
    }
   ],
   "source": [
    "# Create a reference to the image collection\n",
    "l8 = ee.ImageCollection('LANDSAT/LC8_L1T_TOA')\n",
    "# Filter the collection down to a two week period\n",
    "filtered = l8.filterDate('2013-05-01', '2013-05-15');\n",
    "# Use the mosaic reducer, to select the most recent pixel in areas of overlap\n",
    "l8_image = filtered.mosaic()\n",
    "# Define a region roughly covering Lewa\n",
    "# point = ee.Geometry.Point(-118, 37)\n",
    "# region_california = point.buffer(500000).bounds().getInfo()['coordinates']\n",
    "region_lewaFT = lewa.bounds().getInfo()['coordinates']  # problem here with .bounds() \n",
    "# And finally display the image.\n",
    "Image(url=l8_image.getThumbUrl({'region':region_lewaFT}))"
   ]
  },
  {
   "cell_type": "code",
   "execution_count": null,
   "metadata": {
    "collapsed": false
   },
   "outputs": [],
   "source": [
    "dir(ee.FeatureCollection)"
   ]
  },
  {
   "cell_type": "code",
   "execution_count": null,
   "metadata": {
    "collapsed": true
   },
   "outputs": [],
   "source": []
  }
 ],
 "metadata": {
  "anaconda-cloud": {},
  "kernelspec": {
   "display_name": "Python 2",
   "language": "python",
   "name": "python2"
  },
  "language_info": {
   "codemirror_mode": {
    "name": "ipython",
    "version": 2
   },
   "file_extension": ".py",
   "mimetype": "text/x-python",
   "name": "python",
   "nbconvert_exporter": "python",
   "pygments_lexer": "ipython2",
   "version": "2.7.12"
  }
 },
 "nbformat": 4,
 "nbformat_minor": 0
}
