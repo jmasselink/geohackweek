{
 "cells": [
  {
   "cell_type": "markdown",
   "metadata": {},
   "source": [
    "#### Trying this to see how Pandas works \n",
    "https://mygeoblog.com/2017/01/13/your-gee-data-in-pandas/\n",
    "https://mygeoblog.com/2017/10/06/from-gee-to-numpy-to-geotiff/"
   ]
  },
  {
   "cell_type": "code",
   "execution_count": 19,
   "metadata": {
    "collapsed": true
   },
   "outputs": [],
   "source": [
    "%matplotlib inline"
   ]
  },
  {
   "cell_type": "markdown",
   "metadata": {},
   "source": [
    "Then we import in other Python packages we need."
   ]
  },
  {
   "cell_type": "code",
   "execution_count": 20,
   "metadata": {
    "collapsed": false
   },
   "outputs": [],
   "source": [
    "import ee\n",
    "import numpy as np\n",
    "import pandas as pd\n",
    "import matplotlib.pyplot as plt\n",
    "# from ogr import gdal\n",
    "from osgeo import osr, gdal\n",
    "import time\n",
    "\n",
    "# import datetime\n",
    "# from matplotlib import dates\n",
    "# import matplotlib.dates as mdates\n",
    "# from pylab import *"
   ]
  },
  {
   "cell_type": "code",
   "execution_count": 21,
   "metadata": {
    "collapsed": true
   },
   "outputs": [],
   "source": [
    "ee.Initialize()"
   ]
  },
  {
   "cell_type": "markdown",
   "metadata": {},
   "source": [
    " #### import the EE asset (CHIRPS)"
   ]
  },
  {
   "cell_type": "markdown",
   "metadata": {},
   "source": [
    "next we define datasets:"
   ]
  },
  {
   "cell_type": "code",
   "execution_count": 22,
   "metadata": {
    "collapsed": false
   },
   "outputs": [],
   "source": [
    "CHIRPS = ee.ImageCollection('UCSB-CHG/CHIRPS/PENTAD') \n",
    "# info = CHIRPS.getInfo()\n",
    "# print(info)"
   ]
  },
  {
   "cell_type": "markdown",
   "metadata": {},
   "source": [
    "Define time range:"
   ]
  },
  {
   "cell_type": "code",
   "execution_count": 30,
   "metadata": {
    "collapsed": true
   },
   "outputs": [],
   "source": [
    "startYear = 2000\n",
    "endYear = 2005"
   ]
  },
  {
   "cell_type": "markdown",
   "metadata": {},
   "source": [
    "create list for years"
   ]
  },
  {
   "cell_type": "code",
   "execution_count": 31,
   "metadata": {
    "collapsed": true
   },
   "outputs": [],
   "source": [
    "years = range(startYear, endYear)"
   ]
  },
  {
   "cell_type": "markdown",
   "metadata": {},
   "source": [
    "make a list with months"
   ]
  },
  {
   "cell_type": "code",
   "execution_count": 32,
   "metadata": {
    "collapsed": false
   },
   "outputs": [
    {
     "name": "stdout",
     "output_type": "stream",
     "text": [
      "[1, 2, 3, 4, 5, 6, 7, 8, 9, 10, 11, 12]\n"
     ]
    }
   ],
   "source": [
    "months = range(1,13)\n",
    "print(months)"
   ]
  },
  {
   "cell_type": "markdown",
   "metadata": {},
   "source": [
    "Set date in ee date format"
   ]
  },
  {
   "cell_type": "code",
   "execution_count": 33,
   "metadata": {
    "collapsed": false
   },
   "outputs": [
    {
     "name": "stdout",
     "output_type": "stream",
     "text": [
      "ee.Date({\n",
      "  \"type\": \"Invocation\", \n",
      "  \"arguments\": {\n",
      "    \"year\": 2000, \n",
      "    \"day\": 1, \n",
      "    \"month\": 1\n",
      "  }, \n",
      "  \"functionName\": \"Date.fromYMD\"\n",
      "})\n"
     ]
    }
   ],
   "source": [
    "startDate = ee.Date.fromYMD(startYear,1,1)\n",
    "endDate = ee.Date.fromYMD(endYear+1,12,31)\n",
    "\n",
    "print(startDate)\n",
    "## or alternatively using \n",
    "# startTime = datetime.datetime(1999, 1, 1)\n",
    "# endTime = datetime.datetime(2016, 12, 31)"
   ]
  },
  {
   "cell_type": "markdown",
   "metadata": {},
   "source": [
    "Filter CHIRPS by date"
   ]
  },
  {
   "cell_type": "code",
   "execution_count": 34,
   "metadata": {
    "collapsed": true
   },
   "outputs": [],
   "source": [
    "filtCHIRPS = CHIRPS.filterDate(startDate, endDate).sort('system:time_start', False).select(\"precipitation\")\n",
    "# precip = ee.ImageCollection('UCSB-CHG/CHIRPS/PENTAD').filterDate(startTime, endTime).select('precipitation')\n",
    "# print(precip.first()) #get metadata from first element from Image Collection"
   ]
  },
  {
   "cell_type": "code",
   "execution_count": 35,
   "metadata": {
    "collapsed": false
   },
   "outputs": [],
   "source": [
    "# Define geographic domain\n",
    "area = ee.Geometry.Rectangle(-20.0, 20.0, 20, 20.0)\n",
    "areaInfo = area.getInfo()\n",
    "\n",
    "lewa = ee.FeatureCollection('ft:1yrKHIrC4bnbgAP3l_ZCSm_0B_BCrI_hCm6p-RXnc')\n",
    "lewaInfo = lewa.getInfo()"
   ]
  },
  {
   "cell_type": "code",
   "execution_count": 36,
   "metadata": {
    "collapsed": false
   },
   "outputs": [],
   "source": [
    "# calculate the monthly mean\n",
    "def calcMonthlyMean(imageCollection):\n",
    "    mylist = ee.List([])\n",
    "    for y in years:\n",
    "        for m in months:\n",
    "            w = imageCollection.filter(ee.Filter.calendarRange(y, y, 'year')).filter(ee.Filter.calendarRange(m, m, 'month')).sum();\n",
    "            mylist = mylist.add(w.set('year', y).set('month', m).set('date', ee.Date.fromYMD(y,m,1)).set('system:time_start',ee.Date.fromYMD(y,m,1)))\n",
    "    return ee.ImageCollection.fromImages(mylist)"
   ]
  },
  {
   "cell_type": "markdown",
   "metadata": {},
   "source": [
    "run the calcMonthlyMean function"
   ]
  },
  {
   "cell_type": "code",
   "execution_count": 37,
   "metadata": {
    "collapsed": false
   },
   "outputs": [],
   "source": [
    "monthlyCHIRPS = ee.ImageCollection(calcMonthlyMean(filtCHIRPS))"
   ]
  },
  {
   "cell_type": "markdown",
   "metadata": {},
   "source": [
    "select the region of interest, 25000 is the cellsize in meters"
   ]
  },
  {
   "cell_type": "code",
   "execution_count": 48,
   "metadata": {
    "collapsed": false
   },
   "outputs": [
    {
     "ename": "AttributeError",
     "evalue": "'list' object has no attribute 'getRegion'",
     "output_type": "error",
     "traceback": [
      "\u001b[1;31m\u001b[0m",
      "\u001b[1;31mAttributeError\u001b[0mTraceback (most recent call last)",
      "\u001b[1;32m<ipython-input-48-953e91303536>\u001b[0m in \u001b[0;36m<module>\u001b[1;34m()\u001b[0m\n\u001b[1;32m----> 1\u001b[1;33m \u001b[0mmonthlyCHIRPS\u001b[0m \u001b[1;33m=\u001b[0m \u001b[0mmonthlyCHIRPS\u001b[0m\u001b[1;33m.\u001b[0m\u001b[0mgetRegion\u001b[0m\u001b[1;33m(\u001b[0m\u001b[0mlewa\u001b[0m\u001b[1;33m,\u001b[0m \u001b[1;36m500\u001b[0m\u001b[1;33m,\u001b[0m \u001b[1;34m\"epsg:4326\"\u001b[0m\u001b[1;33m)\u001b[0m\u001b[1;33m.\u001b[0m\u001b[0mgetInfo\u001b[0m\u001b[1;33m(\u001b[0m\u001b[1;33m)\u001b[0m\u001b[1;33m\u001b[0m\u001b[0m\n\u001b[0m",
      "\u001b[1;31mAttributeError\u001b[0m: 'list' object has no attribute 'getRegion'"
     ]
    }
   ],
   "source": [
    "monthlyCHIRPS = monthlyCHIRPS.getRegion(lewa, 500, \"epsg:4326\").getInfo()"
   ]
  },
  {
   "cell_type": "markdown",
   "metadata": {},
   "source": [
    "Plot January (index=0)"
   ]
  },
  {
   "cell_type": "code",
   "execution_count": 39,
   "metadata": {
    "collapsed": true
   },
   "outputs": [],
   "source": [
    "January = pd.DataFrame(monthlyCHIRPS, columns = monthlyCHIRPS[0])"
   ]
  },
  {
   "cell_type": "code",
   "execution_count": 40,
   "metadata": {
    "collapsed": true
   },
   "outputs": [],
   "source": [
    "# remove first line \n",
    "January = January[1:]"
   ]
  },
  {
   "cell_type": "code",
   "execution_count": 41,
   "metadata": {
    "collapsed": true
   },
   "outputs": [],
   "source": [
    "# make sure unicode characters are removed\n",
    "January['id'] = January['id'].str.decode('utf-8').replace(u'\\xf1', 'n').astype('int')"
   ]
  },
  {
   "cell_type": "code",
   "execution_count": 42,
   "metadata": {
    "collapsed": false
   },
   "outputs": [
    {
     "name": "stdout",
     "output_type": "stream",
     "text": [
      "       id longitude  latitude                                         time  \\\n",
      "1       0   37.4216  0.132502   {u'type': u'Date', u'value': 946684800000}   \n",
      "2       1   37.4216  0.132502   {u'type': u'Date', u'value': 949363200000}   \n",
      "3       2   37.4216  0.132502   {u'type': u'Date', u'value': 951868800000}   \n",
      "4       3   37.4216  0.132502   {u'type': u'Date', u'value': 954547200000}   \n",
      "5       4   37.4216  0.132502   {u'type': u'Date', u'value': 957139200000}   \n",
      "6       5   37.4216  0.132502   {u'type': u'Date', u'value': 959817600000}   \n",
      "7       6   37.4216  0.132502   {u'type': u'Date', u'value': 962409600000}   \n",
      "8       7   37.4216  0.132502   {u'type': u'Date', u'value': 965088000000}   \n",
      "9       8   37.4216  0.132502   {u'type': u'Date', u'value': 967766400000}   \n",
      "10      9   37.4216  0.132502   {u'type': u'Date', u'value': 970358400000}   \n",
      "11     10   37.4216  0.132502   {u'type': u'Date', u'value': 973036800000}   \n",
      "12     11   37.4216  0.132502   {u'type': u'Date', u'value': 975628800000}   \n",
      "13     12   37.4216  0.132502   {u'type': u'Date', u'value': 978307200000}   \n",
      "14     13   37.4216  0.132502   {u'type': u'Date', u'value': 980985600000}   \n",
      "15     14   37.4216  0.132502   {u'type': u'Date', u'value': 983404800000}   \n",
      "16     15   37.4216  0.132502   {u'type': u'Date', u'value': 986083200000}   \n",
      "17     16   37.4216  0.132502   {u'type': u'Date', u'value': 988675200000}   \n",
      "18     17   37.4216  0.132502   {u'type': u'Date', u'value': 991353600000}   \n",
      "19     18   37.4216  0.132502   {u'type': u'Date', u'value': 993945600000}   \n",
      "20     19   37.4216  0.132502   {u'type': u'Date', u'value': 996624000000}   \n",
      "21     20   37.4216  0.132502   {u'type': u'Date', u'value': 999302400000}   \n",
      "22     21   37.4216  0.132502  {u'type': u'Date', u'value': 1001894400000}   \n",
      "23     22   37.4216  0.132502  {u'type': u'Date', u'value': 1004572800000}   \n",
      "24     23   37.4216  0.132502  {u'type': u'Date', u'value': 1007164800000}   \n",
      "25     24   37.4216  0.132502  {u'type': u'Date', u'value': 1009843200000}   \n",
      "26     25   37.4216  0.132502  {u'type': u'Date', u'value': 1012521600000}   \n",
      "27     26   37.4216  0.132502  {u'type': u'Date', u'value': 1014940800000}   \n",
      "28     27   37.4216  0.132502  {u'type': u'Date', u'value': 1017619200000}   \n",
      "29     28   37.4216  0.132502  {u'type': u'Date', u'value': 1020211200000}   \n",
      "30     29   37.4216  0.132502  {u'type': u'Date', u'value': 1022889600000}   \n",
      "...    ..       ...       ...                                          ...   \n",
      "60511  30   37.4306  0.294198  {u'type': u'Date', u'value': 1025481600000}   \n",
      "60512  31   37.4306  0.294198  {u'type': u'Date', u'value': 1028160000000}   \n",
      "60513  32   37.4306  0.294198  {u'type': u'Date', u'value': 1030838400000}   \n",
      "60514  33   37.4306  0.294198  {u'type': u'Date', u'value': 1033430400000}   \n",
      "60515  34   37.4306  0.294198  {u'type': u'Date', u'value': 1036108800000}   \n",
      "60516  35   37.4306  0.294198  {u'type': u'Date', u'value': 1038700800000}   \n",
      "60517  36   37.4306  0.294198  {u'type': u'Date', u'value': 1041379200000}   \n",
      "60518  37   37.4306  0.294198  {u'type': u'Date', u'value': 1044057600000}   \n",
      "60519  38   37.4306  0.294198  {u'type': u'Date', u'value': 1046476800000}   \n",
      "60520  39   37.4306  0.294198  {u'type': u'Date', u'value': 1049155200000}   \n",
      "60521  40   37.4306  0.294198  {u'type': u'Date', u'value': 1051747200000}   \n",
      "60522  41   37.4306  0.294198  {u'type': u'Date', u'value': 1054425600000}   \n",
      "60523  42   37.4306  0.294198  {u'type': u'Date', u'value': 1057017600000}   \n",
      "60524  43   37.4306  0.294198  {u'type': u'Date', u'value': 1059696000000}   \n",
      "60525  44   37.4306  0.294198  {u'type': u'Date', u'value': 1062374400000}   \n",
      "60526  45   37.4306  0.294198  {u'type': u'Date', u'value': 1064966400000}   \n",
      "60527  46   37.4306  0.294198  {u'type': u'Date', u'value': 1067644800000}   \n",
      "60528  47   37.4306  0.294198  {u'type': u'Date', u'value': 1070236800000}   \n",
      "60529  48   37.4306  0.294198  {u'type': u'Date', u'value': 1072915200000}   \n",
      "60530  49   37.4306  0.294198  {u'type': u'Date', u'value': 1075593600000}   \n",
      "60531  50   37.4306  0.294198  {u'type': u'Date', u'value': 1078099200000}   \n",
      "60532  51   37.4306  0.294198  {u'type': u'Date', u'value': 1080777600000}   \n",
      "60533  52   37.4306  0.294198  {u'type': u'Date', u'value': 1083369600000}   \n",
      "60534  53   37.4306  0.294198  {u'type': u'Date', u'value': 1086048000000}   \n",
      "60535  54   37.4306  0.294198  {u'type': u'Date', u'value': 1088640000000}   \n",
      "60536  55   37.4306  0.294198  {u'type': u'Date', u'value': 1091318400000}   \n",
      "60537  56   37.4306  0.294198  {u'type': u'Date', u'value': 1093996800000}   \n",
      "60538  57   37.4306  0.294198  {u'type': u'Date', u'value': 1096588800000}   \n",
      "60539  58   37.4306  0.294198  {u'type': u'Date', u'value': 1099267200000}   \n",
      "60540  59   37.4306  0.294198  {u'type': u'Date', u'value': 1101859200000}   \n",
      "\n",
      "      precipitation  \n",
      "1           32.3483  \n",
      "2           13.7716  \n",
      "3           25.3017  \n",
      "4           121.489  \n",
      "5           39.3564  \n",
      "6           15.0558  \n",
      "7           23.0634  \n",
      "8           25.8868  \n",
      "9           12.1812  \n",
      "10          104.201  \n",
      "11          260.772  \n",
      "12          83.5069  \n",
      "13           109.93  \n",
      "14          14.5598  \n",
      "15          163.044  \n",
      "16           152.74  \n",
      "17          52.3076  \n",
      "18          39.8934  \n",
      "19          31.8729  \n",
      "20          36.1339  \n",
      "21          14.1056  \n",
      "22          84.1226  \n",
      "23          269.791  \n",
      "24          57.1059  \n",
      "25          39.8469  \n",
      "26           18.745  \n",
      "27           136.66  \n",
      "28          344.981  \n",
      "29          121.315  \n",
      "30           18.163  \n",
      "...             ...  \n",
      "60511       14.9156  \n",
      "60512       13.9248  \n",
      "60513       6.34375  \n",
      "60514       168.529  \n",
      "60515       177.528  \n",
      "60516       181.335  \n",
      "60517         22.11  \n",
      "60518       18.2565  \n",
      "60519       66.2993  \n",
      "60520        246.06  \n",
      "60521       66.9071  \n",
      "60522       8.14154  \n",
      "60523       16.4652  \n",
      "60524       53.8323  \n",
      "60525       4.75145  \n",
      "60526       158.599  \n",
      "60527       190.305  \n",
      "60528       92.4348  \n",
      "60529       84.6786  \n",
      "60530       37.3563  \n",
      "60531       71.3232  \n",
      "60532       158.568  \n",
      "60533       52.5562  \n",
      "60534        12.212  \n",
      "60535         32.59  \n",
      "60536       18.4724  \n",
      "60537       7.19373  \n",
      "60538       172.177  \n",
      "60539       197.375  \n",
      "60540       93.2174  \n",
      "\n",
      "[60540 rows x 5 columns]\n"
     ]
    }
   ],
   "source": [
    "# print(startTime)\n",
    "print(January)"
   ]
  },
  {
   "cell_type": "code",
   "execution_count": 43,
   "metadata": {
    "collapsed": false
   },
   "outputs": [],
   "source": [
    "# print(endTime)\n",
    "# get Longitude\n",
    "lons = np.array(January.longitude)\n",
    "# get Latitude\n",
    "lats = np.array(January.latitude)"
   ]
  },
  {
   "cell_type": "code",
   "execution_count": 44,
   "metadata": {
    "collapsed": false
   },
   "outputs": [],
   "source": [
    "# datetime.datetime?\n",
    "data = np.array(January.precipitation)"
   ]
  },
  {
   "cell_type": "markdown",
   "metadata": {},
   "source": [
    "Separate the information into column headers and data"
   ]
  },
  {
   "cell_type": "code",
   "execution_count": 45,
   "metadata": {
    "collapsed": true
   },
   "outputs": [],
   "source": [
    "# get the unique coordinates\n",
    "uniqueLats = np.unique(lats)\n",
    "uniqueLons = np.unique(lons)"
   ]
  },
  {
   "cell_type": "code",
   "execution_count": 46,
   "metadata": {
    "collapsed": true
   },
   "outputs": [],
   "source": [
    "# get number of columns and rows from coordinates\n",
    "ncols = len(uniqueLons)    \n",
    "nrows = len(uniqueLats)"
   ]
  },
  {
   "cell_type": "code",
   "execution_count": 47,
   "metadata": {
    "collapsed": false
   },
   "outputs": [],
   "source": [
    "# determine pixelsizes\n",
    "ys = uniqueLats[1] - uniqueLats[0] \n",
    "xs = uniqueLons[1] - uniqueLons[0]"
   ]
  },
  {
   "cell_type": "code",
   "execution_count": null,
   "metadata": {
    "collapsed": false
   },
   "outputs": [],
   "source": [
    "point = {'type':'Point', 'coordinates':[ -116.88629,36.56122]};  # death valley (should be stable)\n",
    "info = precip.getRegion(point,500).getInfo()\n",
    "print(info)"
   ]
  },
  {
   "cell_type": "code",
   "execution_count": null,
   "metadata": {
    "collapsed": false
   },
   "outputs": [],
   "source": [
    "ee.ImageCollection.getRegion?\n",
    "lewaRegionInfo = precip.getRegion(lewa, 1000, \"EPSG:4326\") #.getInfo()\n",
    "print(lewaRegionInfo)"
   ]
  },
  {
   "cell_type": "markdown",
   "metadata": {},
   "source": [
    "We separate the information returned into column headers and data."
   ]
  },
  {
   "cell_type": "code",
   "execution_count": null,
   "metadata": {
    "collapsed": false
   },
   "outputs": [],
   "source": [
    "# extract the header column names\n",
    "header = info[0]\n",
    "# create a Numpy array of the data\n",
    "data = array(info[1:])"
   ]
  },
  {
   "cell_type": "markdown",
   "metadata": {},
   "source": [
    "Next we extract time information and convert it to at Python datatime data type."
   ]
  },
  {
   "cell_type": "markdown",
   "metadata": {},
   "source": [
    "Extract data columns that you want to display on the plot:"
   ]
  },
  {
   "cell_type": "code",
   "execution_count": null,
   "metadata": {
    "collapsed": false
   },
   "outputs": [],
   "source": [
    "iBands = [header.index(yBand)] #yBandList\n",
    "yData = data[0:,iBands].astype(np.float)"
   ]
  },
  {
   "cell_type": "markdown",
   "metadata": {
    "collapsed": true
   },
   "source": [
    "And we use matplotlib to plot values"
   ]
  },
  {
   "cell_type": "code",
   "execution_count": null,
   "metadata": {
    "collapsed": false
   },
   "outputs": [],
   "source": [
    "# matplotlib date format object\n",
    "fig = figure(figsize=(12,8), dpi=80)\n",
    "\n",
    "# plot the band values\n",
    "ax1 = fig.add_subplot(211)\n",
    "ax1.plot(time, yData[:], '+', color=\"red\", label=\"Death Valley\")\n",
    "# ax1.plot(time, yData[:,3], 'o', color=\"magenta\",  label=\"Band 4\")\n",
    "ax1.legend(loc='best')\n",
    "ax1.grid(True)\n",
    "\n",
    "plt.title('Precip values as a function of time')\n",
    "ax1.set_ylabel('Band Values')"
   ]
  },
  {
   "cell_type": "markdown",
   "metadata": {},
   "source": [
    "### Now initiate precip values for Lewa"
   ]
  },
  {
   "cell_type": "code",
   "execution_count": null,
   "metadata": {
    "collapsed": true
   },
   "outputs": [],
   "source": [
    "# deathvalley = {'type':'Point', 'coordinates':[ -116.88629,36.56122]};  # death valley (should be stable)\n",
    "# dv_info = precip.getRegion(deathvalley,500).getInfo()"
   ]
  },
  {
   "cell_type": "code",
   "execution_count": null,
   "metadata": {
    "collapsed": false
   },
   "outputs": [],
   "source": [
    "lewa = {'type':'Point', 'coordinates':[ 37.4, 0.2]};  # lewa valley (should be stable)\n",
    "lewa_info = precip.getRegion(lewa,500).getInfo()"
   ]
  },
  {
   "cell_type": "code",
   "execution_count": null,
   "metadata": {
    "collapsed": false
   },
   "outputs": [],
   "source": [
    "# lewa = ee.Geometry.Rectangle(33, -0.2, 34, 0.2)\n",
    "# lewa_info = precip.getRegion(lewa,500).getInfo()"
   ]
  },
  {
   "cell_type": "markdown",
   "metadata": {},
   "source": [
    "We separate the information returned into column headers and data."
   ]
  },
  {
   "cell_type": "code",
   "execution_count": null,
   "metadata": {
    "collapsed": true
   },
   "outputs": [],
   "source": [
    "# extract the header column names\n",
    "header = lewa_info[0]\n",
    "# create a Numpy array of the data\n",
    "data = array(lewa_info[1:])"
   ]
  },
  {
   "cell_type": "markdown",
   "metadata": {},
   "source": [
    "Next we extract time information and convert it to at Python datatime data type."
   ]
  },
  {
   "cell_type": "code",
   "execution_count": null,
   "metadata": {
    "collapsed": false
   },
   "outputs": [],
   "source": [
    "# extract the time information\n",
    "iTime = header.index('time')\n",
    "# convert to Python datetime objects\n",
    "time = [datetime.datetime.fromtimestamp(i/1000) for i in (data[0:,iTime].astype(int))]\n",
    "# print(time)[:10]"
   ]
  },
  {
   "cell_type": "markdown",
   "metadata": {},
   "source": [
    "Print first 10 asset timestamps"
   ]
  },
  {
   "cell_type": "code",
   "execution_count": null,
   "metadata": {
    "collapsed": false
   },
   "outputs": [],
   "source": [
    "for i in time[:10]:\n",
    "    print(i)"
   ]
  },
  {
   "cell_type": "markdown",
   "metadata": {},
   "source": [
    "Extract data columns that you want to display on the plot:"
   ]
  },
  {
   "cell_type": "code",
   "execution_count": null,
   "metadata": {
    "collapsed": true
   },
   "outputs": [],
   "source": [
    "iBands = [header.index(yBand)] #yBandList\n",
    "yData = data[0:,iBands].astype(np.float)"
   ]
  },
  {
   "cell_type": "code",
   "execution_count": null,
   "metadata": {
    "collapsed": false
   },
   "outputs": [],
   "source": [
    "for i in iBands:\n",
    "    print i"
   ]
  },
  {
   "cell_type": "markdown",
   "metadata": {},
   "source": [
    "And we use matplotlib to plot values"
   ]
  },
  {
   "cell_type": "code",
   "execution_count": null,
   "metadata": {
    "collapsed": false
   },
   "outputs": [],
   "source": [
    "# matplotlib date format object\n",
    "fig = figure(figsize=(12,8), dpi=80)\n",
    "\n",
    "# plot the band values\n",
    "ax2 = fig.add_subplot(211, sharex=ax1)\n",
    "ax2.plot(time, yData[:], 'x', color=\"blue\", label=\"Lewa\")\n",
    "# ax1.plot(time, yData[:,3], 'o', color=\"magenta\",  label=\"Band 4\")\n",
    "ax2.grid(True)\n",
    "start, end = ax2.get_xlim()\n",
    "\n",
    "plt.title('CHIRPS values for Lewa')\n",
    "ax2.set_ylabel('mm / pentad')"
   ]
  },
  {
   "cell_type": "code",
   "execution_count": null,
   "metadata": {
    "collapsed": false
   },
   "outputs": [],
   "source": [
    "type(yData)\n",
    "# type(ax2)\n",
    "# y = yData[ax2].resample('MS').mean()"
   ]
  },
  {
   "cell_type": "code",
   "execution_count": null,
   "metadata": {
    "collapsed": false
   },
   "outputs": [],
   "source": [
    "yData.head"
   ]
  },
  {
   "cell_type": "code",
   "execution_count": null,
   "metadata": {
    "collapsed": false
   },
   "outputs": [],
   "source": [
    "# Convert the timestamp to a numpy array\n",
    "t = np.array([i.toordinal() for i in time])\n",
    "t"
   ]
  },
  {
   "cell_type": "code",
   "execution_count": null,
   "metadata": {
    "collapsed": false
   },
   "outputs": [],
   "source": [
    "A = array([ t, ones(len(t))]).transpose()\n",
    "# print(A)\n",
    "b = precip     # could be NDVI\n",
    "# print(b)\n",
    "x = linalg.lstsq(A,b)[0] # obtaining the parameters\n",
    "# # x = linalg.lstsq(A,b)[0] # obtaining the parameters\n",
    "x"
   ]
  },
  {
   "cell_type": "code",
   "execution_count": null,
   "metadata": {
    "collapsed": false
   },
   "outputs": [],
   "source": [
    "b_hat = A.dot(x)"
   ]
  },
  {
   "cell_type": "code",
   "execution_count": null,
   "metadata": {
    "collapsed": false
   },
   "outputs": [],
   "source": [
    "fig2 = figure(figsize=(12,4), dpi=80)\n",
    "plot(time,b_hat.transpose(),'r-',t,b,'o')\n",
    "fig2.fmt_xdata = mdates.DateFormatter('%Y-%m-%d')\n",
    "fig2.autofmt_xdate()"
   ]
  },
  {
   "cell_type": "markdown",
   "metadata": {},
   "source": [
    "Create sequence lists (years, months, etc) for aggregations"
   ]
  },
  {
   "cell_type": "markdown",
   "metadata": {},
   "source": [
    "Each asset spans a pentad. Each of first 5 pentads in a month have 5 days. The last pentad contains all the days from the 26th to the end of the month."
   ]
  },
  {
   "cell_type": "markdown",
   "metadata": {},
   "source": [
    "#### Calculate P for each year"
   ]
  },
  {
   "cell_type": "code",
   "execution_count": null,
   "metadata": {
    "collapsed": false
   },
   "outputs": [],
   "source": [
    "## JS function\n",
    "# var YearlyChirps =  ee.ImageCollection.fromImages(\n",
    "#   years.map(function (y) {\n",
    "#     var w = precip.filter(ee.Filter.calendarRange(y, y, 'year'))\n",
    "#              .sum();\n",
    "#     return w.set('year', y)\n",
    "#              .set('system:time_start',ee.Date.fromYMD(y,1,1))\n",
    "#              .set('date', ee.Date.fromYMD(y,1,1));\n",
    "# }).flatten());"
   ]
  },
  {
   "cell_type": "markdown",
   "metadata": {},
   "source": [
    "Calculate monthly filter"
   ]
  },
  {
   "cell_type": "code",
   "execution_count": null,
   "metadata": {
    "collapsed": false,
    "scrolled": true
   },
   "outputs": [],
   "source": [
    "months = ee.List.sequence(1,12)\n",
    "m = ee.Filter.calendarRange(months, months, 'months')\n",
    "# m = precip.filter(ee.Filter.calendarRange(months, months, 'months')).sum()\n",
    "# print(months)\n",
    "print(m)"
   ]
  },
  {
   "cell_type": "markdown",
   "metadata": {},
   "source": [
    "Calculate annual filter"
   ]
  },
  {
   "cell_type": "code",
   "execution_count": null,
   "metadata": {
    "collapsed": false
   },
   "outputs": [],
   "source": [
    "years = ee.List.sequence(1999,2016)\n",
    "y = ee.Filter.calendarRange(years, years, 'year')\n",
    "# y = precip.filter(ee.Filter.calendarRange(years, years, 'year')).sum()\n",
    "print(y)"
   ]
  },
  {
   "cell_type": "markdown",
   "metadata": {},
   "source": [
    "#### List values of assets"
   ]
  },
  {
   "cell_type": "code",
   "execution_count": null,
   "metadata": {
    "collapsed": false
   },
   "outputs": [],
   "source": [
    "months = {'1':'Jan', '2':'Feb', '3':'Mar', '4':'Apr', '5':'May', '6':'June', '7':'July', '8':'Aug', '9':'Sept', '10':'Oct', '11':'Nov', '12':'Dec'}"
   ]
  },
  {
   "cell_type": "code",
   "execution_count": null,
   "metadata": {
    "collapsed": false
   },
   "outputs": [],
   "source": [
    "for m in enumerate(months):\n",
    "    print m\n",
    "    print m[1]"
   ]
  },
  {
   "cell_type": "code",
   "execution_count": null,
   "metadata": {
    "collapsed": true
   },
   "outputs": [],
   "source": [
    "## build function which builds monthly cumulative image stack\n",
    "def build_monthly(p):\n",
    "    'Jan' = asset[1:6]\n",
    "    'Feb' = asset[1:6]\n",
    "    precip = 0\n",
    "    while p < 6:\n",
    "        precip += precip\n",
    "        "
   ]
  },
  {
   "cell_type": "code",
   "execution_count": null,
   "metadata": {
    "collapsed": false
   },
   "outputs": [],
   "source": [
    "w = precip.filter(y.sum(), m.sum())"
   ]
  },
  {
   "cell_type": "code",
   "execution_count": null,
   "metadata": {
    "collapsed": false
   },
   "outputs": [],
   "source": [
    "y = w.set('year', y).set('system:time_start',ee.Date.fromYMD(y,1,1)).set('date', ee.Date.fromYMD(y,1,1)).flatten()"
   ]
  },
  {
   "cell_type": "code",
   "execution_count": null,
   "metadata": {
    "collapsed": false
   },
   "outputs": [],
   "source": [
    "YearlyChirps =  ee.ImageCollection.fromImages(\n",
    "  years.map(function (y) {\n",
    "\n",
    "def cumulative_chirps(y): ## start here\n",
    "    return img.reduceRegions(xxxx, ee.Reducer.mean().forEachBand(img,200))\n",
    "            var w = precip.filter(ee.Filter.calendarRange(y, y, 'year'))\n",
    "             .sum();\n",
    "    return w.set('year', y)\n",
    "             .set('system:time_start',ee.Date.fromYMD(y,1,1))\n",
    "             .set('date', ee.Date.fromYMD(y,1,1));\n",
    "}).flatten());"
   ]
  },
  {
   "cell_type": "markdown",
   "metadata": {},
   "source": [
    "#### Calculate P for each month"
   ]
  },
  {
   "cell_type": "code",
   "execution_count": null,
   "metadata": {
    "collapsed": true
   },
   "outputs": [],
   "source": [
    "# var MonthlyChirps =  ee.ImageCollection.fromImages(\n",
    "#   years.map(function (y) {\n",
    "#   return months.map(function(m){\n",
    "#     var w = precip.filter(ee.Filter.calendarRange(y, y, 'year'))\n",
    "#              .filter(ee.Filter.calendarRange(m, m, 'month'))\n",
    "#              .sum();\n",
    "#     return w.set('year', y)\n",
    "#              .set('month', m)\n",
    "#              .set('system:time_start',ee.Date.fromYMD(y,m,1))\n",
    "#              .set('date', ee.Date.fromYMD(y,m,1));\n",
    "# });\n",
    "# }).flatten());"
   ]
  },
  {
   "cell_type": "code",
   "execution_count": null,
   "metadata": {
    "collapsed": false
   },
   "outputs": [],
   "source": [
    "y = months.map(m)"
   ]
  },
  {
   "cell_type": "code",
   "execution_count": null,
   "metadata": {
    "collapsed": true
   },
   "outputs": [],
   "source": [
    "monthlyChirps = ee.ImageCollection.fromImages(\n",
    "  years.map(y), months.map(m)\n",
    "    {w = precip.filter(ee.Filter.calendarRange(y, y, 'year'))\n",
    "             .filter(ee.Filter.calendarRange(m, m, 'month'))\n",
    "             .sum();\n",
    "    return w.set('year', y)\n",
    "             .set('month', m)\n",
    "             .set('system:time_start',ee.Date.fromYMD(y,m,1))\n",
    "             .set('date', ee.Date.fromYMD(y,m,1));\n",
    "})\n",
    "}).flatten())"
   ]
  }
 ],
 "metadata": {
  "kernelspec": {
   "display_name": "Python 2",
   "language": "python",
   "name": "python2"
  },
  "language_info": {
   "codemirror_mode": {
    "name": "ipython",
    "version": 2
   },
   "file_extension": ".py",
   "mimetype": "text/x-python",
   "name": "python",
   "nbconvert_exporter": "python",
   "pygments_lexer": "ipython2",
   "version": "2.7.12"
  }
 },
 "nbformat": 4,
 "nbformat_minor": 0
}
