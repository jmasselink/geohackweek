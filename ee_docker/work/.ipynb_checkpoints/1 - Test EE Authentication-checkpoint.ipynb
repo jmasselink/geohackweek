{
 "cells": [
  {
   "cell_type": "code",
   "execution_count": 1,
   "metadata": {
    "collapsed": false
   },
   "outputs": [],
   "source": [
    "import ee\n",
    "from IPython.display import Image"
   ]
  },
  {
   "cell_type": "markdown",
   "metadata": {},
   "source": [
    "Connect the Earth Engine backend, and populate the *ee* Python package."
   ]
  },
  {
   "cell_type": "code",
   "execution_count": 2,
   "metadata": {
    "collapsed": false
   },
   "outputs": [],
   "source": [
    "ee.Initialize()"
   ]
  },
  {
   "cell_type": "markdown",
   "metadata": {},
   "source": [
    "Create an Earth Engine image object, that refers to a 90m DEM."
   ]
  },
  {
   "cell_type": "code",
   "execution_count": 3,
   "metadata": {
    "collapsed": false
   },
   "outputs": [],
   "source": [
    "srtm = ee.Image(\"CGIAR/SRTM90_V4\")"
   ]
  },
  {
   "cell_type": "markdown",
   "metadata": {},
   "source": [
    "Get the object metadata for the srtm image object, and print it out."
   ]
  },
  {
   "cell_type": "code",
   "execution_count": 4,
   "metadata": {
    "collapsed": false
   },
   "outputs": [
    {
     "name": "stdout",
     "output_type": "stream",
     "text": [
      "{u'bands': [{u'crs': u'EPSG:4326', u'crs_transform': [0.000833333333333, 0.0, -180.0, 0.0, -0.000833333333333, 60.0], u'id': u'elevation', u'data_type': {u'max': 32767, u'type': u'PixelType', u'precision': u'int', u'min': -32768}, u'dimensions': [432000, 144000]}], u'version': 1481149844193000, u'type': u'Image', u'id': u'CGIAR/SRTM90_V4', u'properties': {u'system:time_end': 951177600000, u'system:visualization_0_max': 10000, u'thumb': u'https://mw1.google.com/ges/dd/images/SRTM90_V4_thumb.png', u'system:visualization_0_gamma': 1.6, u'provider_url': u'http://srtm.csi.cgiar.org/', u'description': u\"<p>The Shuttle Radar Topography Mission (SRTM, see    <a href='http://onlinelibrary.wiley.com/doi/10.1029/2005RG000183/full'>Farr   et al. 2007</a>) digital elevation dataset was originally produced   to provide consistent, high-quality elevation data at near global scope.   This version of the SRTM digital elevation data has been  processed to fill   data voids, and to facilitate its ease of use. The SRTM 90m has a resolution   of 90m at the equator. </p><p>This dataset contains one band, 'elevation'   (meters).</p><p>For the   creation of any reports, publications, new data sets, derived products,   or services resulting from the data set, users should cite:</p>    <p>Jarvis, A., H.I. Reuter, A. Nelson, E. Guevara. 2008. Hole-filled SRTM   for the globe Version 4, available from the CGIAR-CSI SRTM 90m Database:   <a href='http://srtm.csi.cgiar.org'>http://srtm.csi.cgiar.org</a>.</p>\", u'title': u'SRTM Digital Elevation Data Version 4', u'period': 0, u'system:visualization_0_name': u'Elevation', u'date_range': [950227200000.0, 951177600000.0], u'sample': u'https://mw1.google.com/ges/dd/images/SRTM90_V4_sample.png', u'link': u'srtm90_v4', u'provider': u'NASA / CGIAR', u'system:time_start': 950227200000, u'system:visualization_0_min': 0, u'system:asset_size': 18827626666, u'tags': [u'nasa', u'cgiar', u'srtm', u'elevation', u'topography', u'dem', u'geophysical'], u'system:visualization_0_bands': u'elevation'}}\n"
     ]
    }
   ],
   "source": [
    "info = srtm.getInfo()\n",
    "print(info)"
   ]
  },
  {
   "cell_type": "markdown",
   "metadata": {},
   "source": [
    "Display the image."
   ]
  },
  {
   "cell_type": "code",
   "execution_count": 5,
   "metadata": {
    "collapsed": false
   },
   "outputs": [
    {
     "data": {
      "text/html": [
       "<img src=\"https://earthengine.googleapis.com/api/thumb?thumbid=dc1e49122501a1223c0e36307aa39e08&token=703d345b3a9e5239bfad320bea6dcc54\"/>"
      ],
      "text/plain": [
       "<IPython.core.display.Image object>"
      ]
     },
     "execution_count": 5,
     "metadata": {},
     "output_type": "execute_result"
    }
   ],
   "source": [
    "Image(url=srtm.getThumbUrl({'min':0, 'max':3000}))"
   ]
  },
  {
   "cell_type": "code",
   "execution_count": 7,
   "metadata": {
    "collapsed": true
   },
   "outputs": [],
   "source": [
    "foo = 'joel'"
   ]
  },
  {
   "cell_type": "code",
   "execution_count": null,
   "metadata": {
    "collapsed": true
   },
   "outputs": [],
   "source": [
    "foo"
   ]
  }
 ],
 "metadata": {
  "anaconda-cloud": {},
  "kernelspec": {
   "display_name": "Python 2",
   "language": "python",
   "name": "python2"
  },
  "language_info": {
   "codemirror_mode": {
    "name": "ipython",
    "version": 2
   },
   "file_extension": ".py",
   "mimetype": "text/x-python",
   "name": "python",
   "nbconvert_exporter": "python",
   "pygments_lexer": "ipython2",
   "version": "2.7.12"
  }
 },
 "nbformat": 4,
 "nbformat_minor": 0
}
