{
 "cells": [
  {
   "cell_type": "code",
   "execution_count": 4,
   "metadata": {
    "collapsed": false
   },
   "outputs": [],
   "source": [
    "#!/usr/bin/env python\n",
    "\"\"\"Composite an image collection and clip it to a boundary from a fusion table.\n",
    "See also: Filtered Seasonal Composite, which filters the\n",
    "collection by bounds instead.\n",
    "\"\"\"\n",
    "import datetime\n",
    "import ee\n",
    "# import ee.mapclient"
   ]
  },
  {
   "cell_type": "code",
   "execution_count": 5,
   "metadata": {
    "collapsed": false
   },
   "outputs": [],
   "source": [
    "ee.Initialize()"
   ]
  },
  {
   "cell_type": "code",
   "execution_count": 7,
   "metadata": {
    "collapsed": false
   },
   "outputs": [
    {
     "ename": "AttributeError",
     "evalue": "'module' object has no attribute 'mapclient'",
     "output_type": "error",
     "traceback": [
      "\u001b[1;31m\u001b[0m",
      "\u001b[1;31mAttributeError\u001b[0mTraceback (most recent call last)",
      "\u001b[1;32m<ipython-input-7-46e166ede6a7>\u001b[0m in \u001b[0;36m<module>\u001b[1;34m()\u001b[0m\n\u001b[1;32m----> 1\u001b[1;33m \u001b[0mee\u001b[0m\u001b[1;33m.\u001b[0m\u001b[0mmapclient\u001b[0m\u001b[1;33m.\u001b[0m\u001b[0mcenterMap\u001b[0m\u001b[1;33m(\u001b[0m\u001b[1;33m-\u001b[0m\u001b[1;36m110\u001b[0m\u001b[1;33m,\u001b[0m \u001b[1;36m40\u001b[0m\u001b[1;33m,\u001b[0m \u001b[1;36m5\u001b[0m\u001b[1;33m)\u001b[0m\u001b[1;33m\u001b[0m\u001b[0m\n\u001b[0m\u001b[0;32m      2\u001b[0m \u001b[1;33m\u001b[0m\u001b[0m\n\u001b[0;32m      3\u001b[0m \u001b[1;31m# Create a Landsat 7, median-pixel composite for Spring of 2000.\u001b[0m\u001b[1;33m\u001b[0m\u001b[1;33m\u001b[0m\u001b[0m\n\u001b[0;32m      4\u001b[0m collection = (ee.ImageCollection('LE7_L1T')\n\u001b[0;32m      5\u001b[0m               .filterDate(datetime.datetime(2000, 4, 1),\n",
      "\u001b[1;31mAttributeError\u001b[0m: 'module' object has no attribute 'mapclient'"
     ]
    }
   ],
   "source": [
    "ee.mapclient.centerMap(-110, 40, 5)\n",
    "\n",
    "# Create a Landsat 7, median-pixel composite for Spring of 2000.\n",
    "collection = (ee.ImageCollection('LE7_L1T')\n",
    "              .filterDate(datetime.datetime(2000, 4, 1),\n",
    "                          datetime.datetime(2000, 7, 1)))\n",
    "image1 = collection.median()\n",
    "\n",
    "# Clip to the output image to the California state boundary.\n",
    "fc = (ee.FeatureCollection('ft:1fRY18cjsHzDgGiJiS2nnpUU3v9JPDc2HNaR7Xk8')\n",
    "      .filter(ee.Filter().eq('Name', 'California')))\n",
    "image2 = image1.clipToCollection(fc)\n",
    "\n",
    "# Select the red, green and blue bands.\n",
    "image = image2.select('B3', 'B2', 'B1')\n",
    "# ee.mapclient.addToMap(image, {'gain': [1.4, 1.4, 1.1]})"
   ]
  },
  {
   "cell_type": "code",
   "execution_count": null,
   "metadata": {
    "collapsed": true
   },
   "outputs": [],
   "source": []
  }
 ],
 "metadata": {
  "kernelspec": {
   "display_name": "Python 2",
   "language": "python",
   "name": "python2"
  },
  "language_info": {
   "codemirror_mode": {
    "name": "ipython",
    "version": 2
   },
   "file_extension": ".py",
   "mimetype": "text/x-python",
   "name": "python",
   "nbconvert_exporter": "python",
   "pygments_lexer": "ipython2",
   "version": "2.7.12"
  }
 },
 "nbformat": 4,
 "nbformat_minor": 0
}
