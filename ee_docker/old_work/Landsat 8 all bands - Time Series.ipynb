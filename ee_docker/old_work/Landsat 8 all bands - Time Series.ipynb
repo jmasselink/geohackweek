{
 "cells": [
  {
   "cell_type": "code",
   "execution_count": 1,
   "metadata": {
    "collapsed": false
   },
   "outputs": [],
   "source": [
    "%matplotlib inline"
   ]
  },
  {
   "cell_type": "markdown",
   "metadata": {},
   "source": [
    "We start by initializing the Earth Engine API."
   ]
  },
  {
   "cell_type": "code",
   "execution_count": 2,
   "metadata": {
    "collapsed": false
   },
   "outputs": [],
   "source": [
    "import ee\n",
    "ee.Initialize()"
   ]
  },
  {
   "cell_type": "markdown",
   "metadata": {},
   "source": [
    "Then we import in other Python packages we need."
   ]
  },
  {
   "cell_type": "code",
   "execution_count": 3,
   "metadata": {
    "collapsed": false
   },
   "outputs": [],
   "source": [
    "import datetime\n",
    "from matplotlib import dates\n",
    "import matplotlib.dates as mdates\n",
    "from pylab import *"
   ]
  },
  {
   "cell_type": "markdown",
   "metadata": {},
   "source": [
    "Next we define the Landsat bands that we would like to plot, along with the starting and ending times."
   ]
  },
  {
   "cell_type": "code",
   "execution_count": 4,
   "metadata": {
    "collapsed": false
   },
   "outputs": [],
   "source": [
    "xBand = 'time'\n",
    "yBandList = ['B1',\n",
    "        u'B2',\n",
    "        u'B3',\n",
    "        u'B4',\n",
    "        u'B5',\n",
    "#         u'B6_VCID_1',\n",
    "#         u'B6_VCID_2',\n",
    "        u'B6',     \n",
    "        u'B7',\n",
    "        u'B8',\n",
    "        u'B9',\n",
    "        u'B10',\n",
    "        u'B11',\n",
    "        u'BQA'\n",
    "    ]\n",
    "startTime = datetime.datetime(2013, 4, 7)\n",
    "endTime = datetime.datetime(2017, 4, 7)"
   ]
  },
  {
   "cell_type": "markdown",
   "metadata": {},
   "source": [
    "Next we contruct a filtered ImageCollection for the date range, and extract band information for a specified point location."
   ]
  },
  {
   "cell_type": "code",
   "execution_count": 5,
   "metadata": {
    "collapsed": false
   },
   "outputs": [],
   "source": [
    "collection = ee.ImageCollection('LANDSAT/LC8_L1T_TOA').filterDate(startTime, endTime)\n",
    "# point = {'type':'Point', 'coordinates':[ -116.88629,36.56122]};  # death valley (should be stable)\n",
    "point = {'type':'Point', 'coordinates':[ 37.4, 0.2]};  # Lewa (should be stable)\n",
    "info = collection.getRegion(point,500).getInfo()"
   ]
  },
  {
   "cell_type": "markdown",
   "metadata": {},
   "source": [
    "We separate the information returned into column headers and data."
   ]
  },
  {
   "cell_type": "code",
   "execution_count": 6,
   "metadata": {
    "collapsed": false
   },
   "outputs": [],
   "source": [
    "# extract the header column names\n",
    "header = info[0]\n",
    "# create a Numpy array of the data\n",
    "data = array(info[1:])"
   ]
  },
  {
   "cell_type": "markdown",
   "metadata": {},
   "source": [
    "Next we extract time information and convert it to at Python datatime data type."
   ]
  },
  {
   "cell_type": "code",
   "execution_count": 7,
   "metadata": {
    "collapsed": false
   },
   "outputs": [],
   "source": [
    "# extract the time information\n",
    "iTime = header.index('time')\n",
    "# print(iTime)\n",
    "# convert to Python datetime objects\n",
    "time = [datetime.datetime.fromtimestamp(i/1000) for i in (data[0:,iTime].astype(int))]"
   ]
  },
  {
   "cell_type": "markdown",
   "metadata": {},
   "source": [
    "Extract the data columns what we want to display on the plot."
   ]
  },
  {
   "cell_type": "code",
   "execution_count": 8,
   "metadata": {
    "collapsed": false
   },
   "outputs": [
    {
     "name": "stdout",
     "output_type": "stream",
     "text": [
      "[[  1.40439242e-01   1.25889838e-01   1.18831448e-01   1.09541692e-01\n",
      "    2.47840643e-01   2.11774543e-01   1.32811621e-01   1.13298580e-01\n",
      "    2.77326461e-02   2.87641785e+02   2.81555481e+02   2.86720000e+04]\n",
      " [  1.06570683e-01   9.21621993e-02   8.87259617e-02   8.06922764e-02\n",
      "    2.47669622e-01   1.97500587e-01   1.10694170e-01   8.38204399e-02\n",
      "    1.13750761e-03   3.02041199e+02   3.00141113e+02   2.04800000e+04]]\n"
     ]
    }
   ],
   "source": [
    "iBands = [header.index(b) for b in yBandList]\n",
    "yData = data[0:,iBands].astype(np.float)\n",
    "# print (\"iBands: \", iBands)\n",
    "print yData[:2]"
   ]
  },
  {
   "cell_type": "markdown",
   "metadata": {},
   "source": [
    "Calculate NDVI"
   ]
  },
  {
   "cell_type": "code",
   "execution_count": 9,
   "metadata": {
    "collapsed": false
   },
   "outputs": [],
   "source": [
    "def NDVI(image):\n",
    "    \"\"\"A function to compute NDVI.\"\"\"\n",
    "    return image.expression('float(b(\"B5\") - b(\"B4\")) / (b(\"B5\") + b(\"B4\"))')"
   ]
  },
  {
   "cell_type": "code",
   "execution_count": 10,
   "metadata": {
    "collapsed": false
   },
   "outputs": [],
   "source": [
    "# band3 = yData[:,2] # landsat7\n",
    "band4 = yData[:,3] # Red band\n",
    "band5 = yData[:,4] # NIR band\n",
    "ndvi = (band5 - band4) / (band5 + band4)\n",
    "# ndvi = (band4 - band3) / (band4 + band3) # landsat7"
   ]
  },
  {
   "cell_type": "markdown",
   "metadata": {},
   "source": [
    "And finally, we create a plot of Landsat band values as a function of time."
   ]
  },
  {
   "cell_type": "code",
   "execution_count": 11,
   "metadata": {
    "collapsed": false
   },
   "outputs": [
    {
     "data": {
      "image/png": "[encoded data removed]",
      "text/plain": [
       "<matplotlib.figure.Figure at 0x7fb5c67fca90>"
      ]
     },
     "metadata": {},
     "output_type": "display_data"
    }
   ],
   "source": [
    "# matplotlib date format object\n",
    "\n",
    "fig = figure(figsize=(12,8), dpi=80)\n",
    "\n",
    "# plot the band values\n",
    "ax1 = fig.add_subplot(211)\n",
    "ax1.plot(time, yData[:,3], 'o', color=\"red\", label=\"Red Band B4\")\n",
    "ax1.plot(time, yData[:,4], 'o', color=\"magenta\",  label=\"InfraRed Band B5\")\n",
    "ax1.legend(loc='best')\n",
    "ax1.grid(True)\n",
    "\n",
    "#plt.title('Band values as a function of time')\n",
    "ax1.set_ylabel('Band Values')\n",
    "\n",
    "# plot NDVI\n",
    "ax2 = fig.add_subplot(212, sharex=ax1)\n",
    "ax2.plot(time, ndvi, 'o', color=\"black\", label=\"NDVI\")\n",
    "ax2.grid(True)\n",
    "start, end = ax2.get_xlim()\n",
    "ax2.xaxis.set_ticks(np.arange(start, end, 64.5))\n",
    "\n",
    "# Format the ticks.\n",
    "years    = mdates.YearLocator()   # every year\n",
    "months   = mdates.MonthLocator()  # every month\n",
    "yearsFmt = mdates.DateFormatter('%Y')\n",
    "\n",
    "ax2.set_ylabel('NDVI')\n",
    "\n",
    "ax2.xaxis.set_major_locator(years)\n",
    "ax2.xaxis.set_major_formatter(yearsFmt)\n",
    "ax2.xaxis.set_minor_locator(months)"
   ]
  },
  {
   "cell_type": "code",
   "execution_count": 12,
   "metadata": {
    "collapsed": false
   },
   "outputs": [
    {
     "data": {
      "text/plain": [
       "array([734979, 735011, 735027, 735043, 735059, 735075, 735091, 735107,\n",
       "       735123, 735139, 735155, 735171, 735187, 735219, 735235, 735251,\n",
       "       735267, 735283, 735299, 735315, 735331, 735347, 735363, 735379,\n",
       "       735395, 735411, 735427, 735443, 735459, 735475, 735491, 735507,\n",
       "       735523, 735539, 735555, 735571, 735587, 735603, 735619, 735635,\n",
       "       735651, 735667, 735699, 735715, 735731, 735747, 735763, 735779,\n",
       "       735795, 735811, 735827, 735843, 735859, 735875, 735891, 735907,\n",
       "       735923, 735939, 735955, 735971, 735987, 736003, 736019, 736035,\n",
       "       736051, 736067, 736083, 736099, 736115, 736131, 736147, 736163,\n",
       "       736179, 736195, 736211, 736227, 736243, 736259, 736275, 736291,\n",
       "       736307, 736323, 736339, 736355, 736371, 736387, 736403, 736419])"
      ]
     },
     "execution_count": 12,
     "metadata": {},
     "output_type": "execute_result"
    }
   ],
   "source": [
    "# Convert the timestamp to a numpy array\n",
    "t = np.array([i.toordinal() for i in time])\n",
    "t"
   ]
  },
  {
   "cell_type": "markdown",
   "metadata": {},
   "source": [
    "$$\n",
    "\\begin{bmatrix}\n",
    "t_1 & 1 \\\\\\\n",
    "t_2 & 1 \\\\\\\n",
    "\\vdots & \\vdots \\\\\\\n",
    "t_n & 1\n",
    "\\end{bmatrix}\n",
    "\\begin{bmatrix}\n",
    "x_0 \\\\\\\n",
    "x_1 \n",
    "\\end{bmatrix}=\n",
    "\\begin{bmatrix}\n",
    "y_1 \\\\\\\n",
    "y_2 \\\\\\\n",
    "\\vdots \\\\\\\n",
    "y_n\n",
    "\\end{bmatrix}\n",
    "$$\n",
    "\n",
    "$$ \\mathbf{A}\\mathbf{x} = \\mathbf{b} $$\n",
    "\n",
    "$$ \\mathbf{x} = \\mathbf{A} \\backslash \\mathbf{b} $$"
   ]
  },
  {
   "cell_type": "code",
   "execution_count": 13,
   "metadata": {
    "collapsed": false
   },
   "outputs": [
    {
     "data": {
      "text/plain": [
       "array([ -2.15985601e-05,   1.61247178e+01])"
      ]
     },
     "execution_count": 13,
     "metadata": {},
     "output_type": "execute_result"
    }
   ],
   "source": [
    "A = array([ t, ones(len(t))]).transpose()\n",
    "b = ndvi\n",
    "x = linalg.lstsq(A,b)[0] # obtaining the parameters\n",
    "x"
   ]
  },
  {
   "cell_type": "code",
   "execution_count": 14,
   "metadata": {
    "collapsed": false
   },
   "outputs": [],
   "source": [
    "b_hat = A.dot(x)"
   ]
  },
  {
   "cell_type": "code",
   "execution_count": 15,
   "metadata": {
    "collapsed": false
   },
   "outputs": [
    {
     "data": {
      "image/png": "[encoded data removed]",
      "text/plain": [
       "<matplotlib.figure.Figure at 0x7fb5c6adaf10>"
      ]
     },
     "metadata": {},
     "output_type": "display_data"
    }
   ],
   "source": [
    "fig2 = figure(figsize=(12,4), dpi=80)\n",
    "plot(time,b_hat.transpose(),'r-',t,b,'o')\n",
    "fig2.fmt_xdata = mdates.DateFormatter('%Y-%m-%d')\n",
    "fig2.autofmt_xdate()"
   ]
  },
  {
   "cell_type": "code",
   "execution_count": null,
   "metadata": {
    "collapsed": false
   },
   "outputs": [],
   "source": []
  }
 ],
 "metadata": {
  "kernelspec": {
   "display_name": "Python 2",
   "language": "python",
   "name": "python2"
  },
  "language_info": {
   "codemirror_mode": {
    "name": "ipython",
    "version": 2
   },
   "file_extension": ".py",
   "mimetype": "text/x-python",
   "name": "python",
   "nbconvert_exporter": "python",
   "pygments_lexer": "ipython2",
   "version": "2.7.12"
  }
 },
 "nbformat": 4,
 "nbformat_minor": 0
}
