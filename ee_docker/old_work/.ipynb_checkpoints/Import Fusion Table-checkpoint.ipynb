{
 "cells": [
  {
   "cell_type": "code",
   "execution_count": 1,
   "metadata": {
    "collapsed": false
   },
   "outputs": [],
   "source": [
    "import ee\n",
    "from IPython.display import Image"
   ]
  },
  {
   "cell_type": "markdown",
   "metadata": {},
   "source": [
    "Connect the Earth Engine backend, and populate the *ee* Python package."
   ]
  },
  {
   "cell_type": "code",
   "execution_count": 2,
   "metadata": {
    "collapsed": false
   },
   "outputs": [],
   "source": [
    "ee.Initialize()"
   ]
  },
  {
   "cell_type": "markdown",
   "metadata": {},
   "source": [
    "Create an Earth Engine image object, that refers to a 90m DEM."
   ]
  },
  {
   "cell_type": "code",
   "execution_count": 3,
   "metadata": {
    "collapsed": false
   },
   "outputs": [],
   "source": [
    "srtm = ee.Image(\"CGIAR/SRTM90_V4\")"
   ]
  },
  {
   "cell_type": "markdown",
   "metadata": {},
   "source": [
    "Get the object metadata for the srtm image object, and print it out."
   ]
  },
  {
   "cell_type": "code",
   "execution_count": 4,
   "metadata": {
    "collapsed": false
   },
   "outputs": [
    {
     "name": "stdout",
     "output_type": "stream",
     "text": [
      "{u'bands': [{u'crs': u'EPSG:4326', u'crs_transform': [0.000833333333333, 0.0, -180.0, 0.0, -0.000833333333333, 60.0], u'id': u'elevation', u'data_type': {u'max': 32767, u'type': u'PixelType', u'precision': u'int', u'min': -32768}, u'dimensions': [432000, 144000]}], u'version': 1481149844193000, u'type': u'Image', u'id': u'CGIAR/SRTM90_V4', u'properties': {u'system:time_end': 951177600000, u'system:visualization_0_max': 10000, u'thumb': u'https://mw1.google.com/ges/dd/images/SRTM90_V4_thumb.png', u'system:visualization_0_gamma': 1.6, u'provider_url': u'http://srtm.csi.cgiar.org/', u'description': u\"<p>The Shuttle Radar Topography Mission (SRTM, see    <a href='http://onlinelibrary.wiley.com/doi/10.1029/2005RG000183/full'>Farr   et al. 2007</a>) digital elevation dataset was originally produced   to provide consistent, high-quality elevation data at near global scope.   This version of the SRTM digital elevation data has been  processed to fill   data voids, and to facilitate its ease of use. The SRTM 90m has a resolution   of 90m at the equator. </p><p>This dataset contains one band, 'elevation'   (meters).</p><p>For the   creation of any reports, publications, new data sets, derived products,   or services resulting from the data set, users should cite:</p>    <p>Jarvis, A., H.I. Reuter, A. Nelson, E. Guevara. 2008. Hole-filled SRTM   for the globe Version 4, available from the CGIAR-CSI SRTM 90m Database:   <a href='http://srtm.csi.cgiar.org'>http://srtm.csi.cgiar.org</a>.</p>\", u'title': u'SRTM Digital Elevation Data Version 4', u'period': 0, u'system:visualization_0_name': u'Elevation', u'date_range': [950227200000.0, 951177600000.0], u'sample': u'https://mw1.google.com/ges/dd/images/SRTM90_V4_sample.png', u'link': u'srtm90_v4', u'provider': u'NASA / CGIAR', u'system:time_start': 950227200000, u'system:visualization_0_min': 0, u'system:asset_size': 18827626666, u'tags': [u'nasa', u'cgiar', u'srtm', u'elevation', u'topography', u'dem', u'geophysical'], u'system:visualization_0_bands': u'elevation'}}\n"
     ]
    }
   ],
   "source": [
    "info = srtm.getInfo()\n",
    "print(info)"
   ]
  },
  {
   "cell_type": "markdown",
   "metadata": {},
   "source": [
    "Display the image."
   ]
  },
  {
   "cell_type": "code",
   "execution_count": 5,
   "metadata": {
    "collapsed": false
   },
   "outputs": [
    {
     "data": {
      "text/html": [
       "<img src=\"https://earthengine.googleapis.com/api/thumb?thumbid=dc1e49122501a1223c0e36307aa39e08&token=7c3b0a4ed4613a2d77600af5d602406c\"/>"
      ],
      "text/plain": [
       "<IPython.core.display.Image object>"
      ]
     },
     "execution_count": 5,
     "metadata": {},
     "output_type": "execute_result"
    }
   ],
   "source": [
    "Image(url=srtm.getThumbUrl({'min':0, 'max':3000}))"
   ]
  },
  {
   "cell_type": "code",
   "execution_count": 32,
   "metadata": {
    "collapsed": false
   },
   "outputs": [],
   "source": [
    "foo = \"bar\""
   ]
  },
  {
   "cell_type": "markdown",
   "metadata": {
    "collapsed": true
   },
   "source": [
    "\n",
    "This next block instantiates our vector point - one XY coordinate location for Lewa, Kenya\n"
   ]
  },
  {
   "cell_type": "code",
   "execution_count": 33,
   "metadata": {
    "collapsed": false,
    "scrolled": false
   },
   "outputs": [
    {
     "ename": "NameError",
     "evalue": "name 'Map' is not defined",
     "output_type": "error",
     "traceback": [
      "\u001b[1;31m\u001b[0m",
      "\u001b[1;31mNameError\u001b[0mTraceback (most recent call last)",
      "\u001b[1;32m<ipython-input-33-5f8582a52442>\u001b[0m in \u001b[0;36m<module>\u001b[1;34m()\u001b[0m\n\u001b[0;32m      1\u001b[0m \u001b[0mlewaPt\u001b[0m \u001b[1;33m=\u001b[0m \u001b[0mee\u001b[0m\u001b[1;33m.\u001b[0m\u001b[0mGeometry\u001b[0m\u001b[1;33m.\u001b[0m\u001b[0mPoint\u001b[0m\u001b[1;33m(\u001b[0m\u001b[1;36m37.4\u001b[0m\u001b[1;33m,\u001b[0m \u001b[1;36m0.2\u001b[0m\u001b[1;33m)\u001b[0m\u001b[1;33m\u001b[0m\u001b[0m\n\u001b[1;32m----> 2\u001b[1;33m \u001b[0mMap\u001b[0m\u001b[1;33m.\u001b[0m\u001b[0madd\u001b[0m\u001b[1;33m(\u001b[0m\u001b[0mlewaPt\u001b[0m\u001b[1;33m)\u001b[0m\u001b[1;33m\u001b[0m\u001b[0m\n\u001b[0m\u001b[0;32m      3\u001b[0m \u001b[1;31m# print(lewaPt)\u001b[0m\u001b[1;33m\u001b[0m\u001b[1;33m\u001b[0m\u001b[0m\n\u001b[0;32m      4\u001b[0m \u001b[1;31m# print(lewaPt.metadata)\u001b[0m\u001b[1;33m\u001b[0m\u001b[1;33m\u001b[0m\u001b[0m\n\u001b[0;32m      5\u001b[0m \u001b[1;31m# print(lewaPt.geometry)\u001b[0m\u001b[1;33m\u001b[0m\u001b[1;33m\u001b[0m\u001b[0m\n",
      "\u001b[1;31mNameError\u001b[0m: name 'Map' is not defined"
     ]
    }
   ],
   "source": [
    "lewaPt = ee.Geometry.Point(37.4, 0.2)\n",
    "# Map.add(lewaPt)\n",
    "# print(lewaPt)\n",
    "# print(lewaPt.metadata)\n",
    "# print(lewaPt.geometry)\n",
    "# print(lewaPt.metadata)"
   ]
  },
  {
   "cell_type": "code",
   "execution_count": 34,
   "metadata": {
    "collapsed": false
   },
   "outputs": [
    {
     "ename": "SyntaxError",
     "evalue": "invalid syntax (<ipython-input-34-a6af90d08e94>, line 1)",
     "output_type": "error",
     "traceback": [
      "\u001b[1;36m  File \u001b[1;32m\"<ipython-input-34-a6af90d08e94>\"\u001b[1;36m, line \u001b[1;32m1\u001b[0m\n\u001b[1;33m    This next block instantiates\u001b[0m\n\u001b[1;37m            ^\u001b[0m\n\u001b[1;31mSyntaxError\u001b[0m\u001b[1;31m:\u001b[0m invalid syntax\n"
     ]
    }
   ],
   "source": [
    "This next block instantiates a polygon object based on a Fusion Table"
   ]
  },
  {
   "cell_type": "code",
   "execution_count": 35,
   "metadata": {
    "collapsed": false
   },
   "outputs": [
    {
     "ename": "EEException",
     "evalue": "Path for the asset is invalid. Folder names must be separated with '/', and at most 10 folders are allowed in the path. Names must contain only the following characters: A..Z, a..z, 0..9, '_' or '-'. Maximum length for a single folder or asset name is 100 characters.",
     "output_type": "error",
     "traceback": [
      "\u001b[1;31m\u001b[0m",
      "\u001b[1;31mEEException\u001b[0mTraceback (most recent call last)",
      "\u001b[1;32m<ipython-input-35-8064a29ca9eb>\u001b[0m in \u001b[0;36m<module>\u001b[1;34m()\u001b[0m\n\u001b[0;32m      1\u001b[0m \u001b[0mlewa\u001b[0m \u001b[1;33m=\u001b[0m \u001b[0mee\u001b[0m\u001b[1;33m.\u001b[0m\u001b[0mFeatureCollection\u001b[0m\u001b[1;33m(\u001b[0m\u001b[1;34m\"ft:1yrKHIrC4bnbgAP3l_ZCSm_0B_BCrI_hCm6p-RXnc\"\u001b[0m\u001b[1;33m)\u001b[0m\u001b[1;33m\u001b[0m\u001b[0m\n\u001b[1;32m----> 2\u001b[1;33m \u001b[0minfo\u001b[0m \u001b[1;33m=\u001b[0m \u001b[0mee\u001b[0m\u001b[1;33m.\u001b[0m\u001b[0mdata\u001b[0m\u001b[1;33m.\u001b[0m\u001b[0mgetInfo\u001b[0m\u001b[1;33m(\u001b[0m\u001b[0mlewa\u001b[0m\u001b[1;33m)\u001b[0m\u001b[1;33m\u001b[0m\u001b[0m\n\u001b[0m\u001b[0;32m      3\u001b[0m \u001b[1;32mprint\u001b[0m\u001b[1;33m(\u001b[0m\u001b[0mlen\u001b[0m\u001b[1;33m(\u001b[0m\u001b[0minfo\u001b[0m\u001b[1;33m)\u001b[0m\u001b[1;33m)\u001b[0m\u001b[1;33m\u001b[0m\u001b[0m\n\u001b[0;32m      4\u001b[0m \u001b[1;31m# Image(url=lewa.getThumbUrl())\u001b[0m\u001b[1;33m\u001b[0m\u001b[1;33m\u001b[0m\u001b[0m\n",
      "\u001b[1;32m/opt/conda/envs/python2/lib/python2.7/site-packages/ee/data.pyc\u001b[0m in \u001b[0;36mgetInfo\u001b[1;34m(asset_id)\u001b[0m\n\u001b[0;32m    153\u001b[0m     \u001b[0mThe\u001b[0m \u001b[0mvalue\u001b[0m \u001b[0mcall\u001b[0m \u001b[0mresults\u001b[0m\u001b[1;33m.\u001b[0m\u001b[1;33m\u001b[0m\u001b[0m\n\u001b[0;32m    154\u001b[0m   \"\"\"\n\u001b[1;32m--> 155\u001b[1;33m   \u001b[1;32mreturn\u001b[0m \u001b[0msend_\u001b[0m\u001b[1;33m(\u001b[0m\u001b[1;34m'/info'\u001b[0m\u001b[1;33m,\u001b[0m \u001b[1;33m{\u001b[0m\u001b[1;34m'id'\u001b[0m\u001b[1;33m:\u001b[0m \u001b[0masset_id\u001b[0m\u001b[1;33m}\u001b[0m\u001b[1;33m)\u001b[0m\u001b[1;33m\u001b[0m\u001b[0m\n\u001b[0m\u001b[0;32m    156\u001b[0m \u001b[1;33m\u001b[0m\u001b[0m\n\u001b[0;32m    157\u001b[0m \u001b[1;33m\u001b[0m\u001b[0m\n",
      "\u001b[1;32m/opt/conda/envs/python2/lib/python2.7/site-packages/ee/data.pyc\u001b[0m in \u001b[0;36msend_\u001b[1;34m(path, params, opt_method, opt_raw)\u001b[0m\n\u001b[0;32m    728\u001b[0m       \u001b[1;32mraise\u001b[0m \u001b[0mee_exception\u001b[0m\u001b[1;33m.\u001b[0m\u001b[0mEEException\u001b[0m\u001b[1;33m(\u001b[0m\u001b[1;34m'Invalid JSON: %s'\u001b[0m \u001b[1;33m%\u001b[0m \u001b[0mcontent\u001b[0m\u001b[1;33m)\u001b[0m\u001b[1;33m\u001b[0m\u001b[0m\n\u001b[0;32m    729\u001b[0m     \u001b[1;32mif\u001b[0m \u001b[1;34m'error'\u001b[0m \u001b[1;32min\u001b[0m \u001b[0mjson_content\u001b[0m\u001b[1;33m:\u001b[0m\u001b[1;33m\u001b[0m\u001b[0m\n\u001b[1;32m--> 730\u001b[1;33m       \u001b[1;32mraise\u001b[0m \u001b[0mee_exception\u001b[0m\u001b[1;33m.\u001b[0m\u001b[0mEEException\u001b[0m\u001b[1;33m(\u001b[0m\u001b[0mjson_content\u001b[0m\u001b[1;33m[\u001b[0m\u001b[1;34m'error'\u001b[0m\u001b[1;33m]\u001b[0m\u001b[1;33m[\u001b[0m\u001b[1;34m'message'\u001b[0m\u001b[1;33m]\u001b[0m\u001b[1;33m)\u001b[0m\u001b[1;33m\u001b[0m\u001b[0m\n\u001b[0m\u001b[0;32m    731\u001b[0m     \u001b[1;32mif\u001b[0m \u001b[1;34m'data'\u001b[0m \u001b[1;32mnot\u001b[0m \u001b[1;32min\u001b[0m \u001b[0mcontent\u001b[0m\u001b[1;33m:\u001b[0m\u001b[1;33m\u001b[0m\u001b[0m\n\u001b[0;32m    732\u001b[0m       \u001b[1;32mraise\u001b[0m \u001b[0mee_exception\u001b[0m\u001b[1;33m.\u001b[0m\u001b[0mEEException\u001b[0m\u001b[1;33m(\u001b[0m\u001b[1;34m'Malformed response: '\u001b[0m \u001b[1;33m+\u001b[0m \u001b[0mstr\u001b[0m\u001b[1;33m(\u001b[0m\u001b[0mcontent\u001b[0m\u001b[1;33m)\u001b[0m\u001b[1;33m)\u001b[0m\u001b[1;33m\u001b[0m\u001b[0m\n",
      "\u001b[1;31mEEException\u001b[0m: Path for the asset is invalid. Folder names must be separated with '/', and at most 10 folders are allowed in the path. Names must contain only the following characters: A..Z, a..z, 0..9, '_' or '-'. Maximum length for a single folder or asset name is 100 characters."
     ]
    }
   ],
   "source": [
    "lewa = ee.FeatureCollection(\"ft:1yrKHIrC4bnbgAP3l_ZCSm_0B_BCrI_hCm6p-RXnc\")\n",
    "info = ee.data.getInfo(lewa)\n",
    "# print(len(info))\n",
    "# Image(url=lewa.getThumbUrl())"
   ]
  },
  {
   "cell_type": "code",
   "execution_count": null,
   "metadata": {
    "collapsed": true
   },
   "outputs": [],
   "source": [
    "# Create a reference to the image collection\n",
    "l8 = ee.ImageCollection('LANDSAT/LC8_L1T_TOA')\n",
    "# Filter the collection down to a two week period\n",
    "filtered = l8.filterDate('2013-05-01', '2013-05-15');\n",
    "# Use the mosaic reducer, to select the most recent pixel in areas of overlap\n",
    "l8_image = filtered.mosaic()\n",
    "# Define a region roughly covering California\n",
    "point = ee.Geometry.Point(-118, 37)\n",
    "region_california = point.buffer(500000).bounds().getInfo()['coordinates']\n",
    "# And finally display the image.\n",
    "Image(url=l8_image.getThumbUrl({'region':region_california}))"
   ]
  }
 ],
 "metadata": {
  "anaconda-cloud": {},
  "kernelspec": {
   "display_name": "Python 2",
   "language": "python",
   "name": "python2"
  },
  "language_info": {
   "codemirror_mode": {
    "name": "ipython",
    "version": 2
   },
   "file_extension": ".py",
   "mimetype": "text/x-python",
   "name": "python",
   "nbconvert_exporter": "python",
   "pygments_lexer": "ipython2",
   "version": "2.7.12"
  }
 },
 "nbformat": 4,
 "nbformat_minor": 0
}
