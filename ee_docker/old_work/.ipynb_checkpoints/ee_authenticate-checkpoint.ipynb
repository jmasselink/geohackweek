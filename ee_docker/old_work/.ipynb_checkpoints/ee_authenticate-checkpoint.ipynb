{
 "cells": [
  {
   "cell_type": "code",
   "execution_count": 7,
   "metadata": {
    "collapsed": true
   },
   "outputs": [],
   "source": [
    "import ee\n",
    "from IPython.display import Image"
   ]
  },
  {
   "cell_type": "code",
   "execution_count": 8,
   "metadata": {
    "collapsed": false
   },
   "outputs": [],
   "source": [
    "ee.Initialize()"
   ]
  },
  {
   "cell_type": "code",
   "execution_count": 11,
   "metadata": {
    "collapsed": false
   },
   "outputs": [
    {
     "data": {
      "text/plain": [
       "<ee.image.Image at 0x7efd129f9190>"
      ]
     },
     "execution_count": 11,
     "metadata": {},
     "output_type": "execute_result"
    }
   ],
   "source": [
    "srtm = ee.Image(\"CGIAR/SRTM90_V4\")\n",
    "srtm"
   ]
  },
  {
   "cell_type": "code",
   "execution_count": 10,
   "metadata": {
    "collapsed": false
   },
   "outputs": [
    {
     "name": "stdout",
     "output_type": "stream",
     "text": [
      "{u'bands': [{u'crs': u'EPSG:4326', u'crs_transform': [0.000833333333333, 0.0, -180.0, 0.0, -0.000833333333333, 60.0], u'id': u'elevation', u'data_type': {u'max': 32767, u'type': u'PixelType', u'precision': u'int', u'min': -32768}, u'dimensions': [432000, 144000]}], u'version': 1481149844193000, u'type': u'Image', u'id': u'CGIAR/SRTM90_V4', u'properties': {u'system:time_end': 951177600000, u'system:visualization_0_max': 10000, u'thumb': u'https://mw1.google.com/ges/dd/images/SRTM90_V4_thumb.png', u'system:visualization_0_gamma': 1.6, u'provider_url': u'http://srtm.csi.cgiar.org/', u'description': u\"<p>The Shuttle Radar Topography Mission (SRTM, see    <a href='http://onlinelibrary.wiley.com/doi/10.1029/2005RG000183/full'>Farr   et al. 2007</a>) digital elevation dataset was originally produced   to provide consistent, high-quality elevation data at near global scope.   This version of the SRTM digital elevation data has been  processed to fill   data voids, and to facilitate its ease of use. The SRTM 90m has a resolution   of 90m at the equator. </p><p>This dataset contains one band, 'elevation'   (meters).</p><p>For the   creation of any reports, publications, new data sets, derived products,   or services resulting from the data set, users should cite:</p>    <p>Jarvis, A., H.I. Reuter, A. Nelson, E. Guevara. 2008. Hole-filled SRTM   for the globe Version 4, available from the CGIAR-CSI SRTM 90m Database:   <a href='http://srtm.csi.cgiar.org'>http://srtm.csi.cgiar.org</a>.</p>\", u'title': u'SRTM Digital Elevation Data Version 4', u'period': 0, u'system:visualization_0_name': u'Elevation', u'date_range': [950227200000.0, 951177600000.0], u'sample': u'https://mw1.google.com/ges/dd/images/SRTM90_V4_sample.png', u'link': u'srtm90_v4', u'provider': u'NASA / CGIAR', u'system:time_start': 950227200000, u'system:visualization_0_min': 0, u'system:asset_size': 18827626666, u'tags': [u'nasa', u'cgiar', u'srtm', u'elevation', u'topography', u'dem', u'geophysical'], u'system:visualization_0_bands': u'elevation'}}\n"
     ]
    }
   ],
   "source": [
    "info = srtm.getInfo()\n",
    "print(info)"
   ]
  },
  {
   "cell_type": "code",
   "execution_count": 12,
   "metadata": {
    "collapsed": false
   },
   "outputs": [
    {
     "data": {
      "text/html": [
       "<img src=\"https://earthengine.googleapis.com/api/thumb?thumbid=dc1e49122501a1223c0e36307aa39e08&token=b581fddb3fa33d88e10a6bd83df8def5\"/>"
      ],
      "text/plain": [
       "<IPython.core.display.Image object>"
      ]
     },
     "execution_count": 12,
     "metadata": {},
     "output_type": "execute_result"
    }
   ],
   "source": [
    "Image(url=srtm.getThumbUrl({'min':0, 'max':3000}))"
   ]
  },
  {
   "cell_type": "code",
   "execution_count": 15,
   "metadata": {
    "collapsed": false
   },
   "outputs": [
    {
     "data": {
      "text/plain": [
       "<ee.image.Image at 0x7efd131c1210>"
      ]
     },
     "execution_count": 15,
     "metadata": {},
     "output_type": "execute_result"
    }
   ],
   "source": [
    "landsat8 = ee.Image(\"LANDSAT/LC8_L1T_TOA/LC80010042014080LGN00\")\n",
    "landsat8"
   ]
  },
  {
   "cell_type": "code",
   "execution_count": 16,
   "metadata": {
    "collapsed": false
   },
   "outputs": [
    {
     "name": "stdout",
     "output_type": "stream",
     "text": [
      "{u'bands': [{u'crs': u'EPSG:32628', u'crs_transform': [30.0, 0.0, 338385.0, 0.0, -30.0, 8812815.0], u'id': u'B1', u'data_type': {u'type': u'PixelType', u'precision': u'float'}, u'dimensions': [9171, 9171]}, {u'crs': u'EPSG:32628', u'crs_transform': [30.0, 0.0, 338385.0, 0.0, -30.0, 8812815.0], u'id': u'B2', u'data_type': {u'type': u'PixelType', u'precision': u'float'}, u'dimensions': [9171, 9171]}, {u'crs': u'EPSG:32628', u'crs_transform': [30.0, 0.0, 338385.0, 0.0, -30.0, 8812815.0], u'id': u'B3', u'data_type': {u'type': u'PixelType', u'precision': u'float'}, u'dimensions': [9171, 9171]}, {u'crs': u'EPSG:32628', u'crs_transform': [30.0, 0.0, 338385.0, 0.0, -30.0, 8812815.0], u'id': u'B4', u'data_type': {u'type': u'PixelType', u'precision': u'float'}, u'dimensions': [9171, 9171]}, {u'crs': u'EPSG:32628', u'crs_transform': [30.0, 0.0, 338385.0, 0.0, -30.0, 8812815.0], u'id': u'B5', u'data_type': {u'type': u'PixelType', u'precision': u'float'}, u'dimensions': [9171, 9171]}, {u'crs': u'EPSG:32628', u'crs_transform': [30.0, 0.0, 338385.0, 0.0, -30.0, 8812815.0], u'id': u'B6', u'data_type': {u'type': u'PixelType', u'precision': u'float'}, u'dimensions': [9171, 9171]}, {u'crs': u'EPSG:32628', u'crs_transform': [30.0, 0.0, 338385.0, 0.0, -30.0, 8812815.0], u'id': u'B7', u'data_type': {u'type': u'PixelType', u'precision': u'float'}, u'dimensions': [9171, 9171]}, {u'crs': u'EPSG:32628', u'crs_transform': [15.0, 0.0, 338392.5, 0.0, -15.0, 8812807.5], u'id': u'B8', u'data_type': {u'type': u'PixelType', u'precision': u'float'}, u'dimensions': [18341, 18341]}, {u'crs': u'EPSG:32628', u'crs_transform': [30.0, 0.0, 338385.0, 0.0, -30.0, 8812815.0], u'id': u'B9', u'data_type': {u'type': u'PixelType', u'precision': u'float'}, u'dimensions': [9171, 9171]}, {u'crs': u'EPSG:32628', u'crs_transform': [30.0, 0.0, 338385.0, 0.0, -30.0, 8812815.0], u'id': u'B10', u'data_type': {u'type': u'PixelType', u'precision': u'float'}, u'dimensions': [9171, 9171]}, {u'crs': u'EPSG:32628', u'crs_transform': [30.0, 0.0, 338385.0, 0.0, -30.0, 8812815.0], u'id': u'B11', u'data_type': {u'type': u'PixelType', u'precision': u'float'}, u'dimensions': [9171, 9171]}, {u'crs': u'EPSG:32628', u'crs_transform': [30.0, 0.0, 338385.0, 0.0, -30.0, 8812815.0], u'id': u'BQA', u'data_type': {u'max': 65535, u'type': u'PixelType', u'precision': u'int', u'min': 0}, u'dimensions': [9171, 9171]}], u'version': 1490994564853000, u'type': u'Image', u'id': u'LANDSAT/LC8_L1T_TOA/LC80010042014080LGN00', u'properties': {u'REFLECTANCE_MINIMUM_BAND_9': -0.09998, u'THERMAL_LINES': 9171, u'EARTH_SUN_DISTANCE': 0.9961663, u'SCENE_CENTER_TIME': u'14:08:47.0352765Z', u'CORNER_LL_PROJECTION_Y_PRODUCT': 8537700.0, u'REQUEST_ID': u'0501605214917_00660', u'RADIANCE_MULT_BAND_7': 0.00051643, u'RADIANCE_MULT_BAND_6': 0.0015322, u'RADIANCE_MULT_BAND_5': 0.006161, u'RADIANCE_MULT_BAND_4': 0.010068, u'RADIANCE_MULT_BAND_3': 0.011939, u'RADIANCE_MULT_BAND_2': 0.012956, u'RADIANCE_MULT_BAND_1': 0.012653, u'GEOMETRIC_RMSE_MODEL': 30.293, u'QUANTIZE_CAL_MIN_BAND_7': 1, u'QUANTIZE_CAL_MIN_BAND_6': 1, u'QUANTIZE_CAL_MIN_BAND_5': 1, u'QUANTIZE_CAL_MIN_BAND_4': 1, u'QUANTIZE_CAL_MIN_BAND_3': 1, u'QUANTIZE_CAL_MIN_BAND_2': 1, u'RADIANCE_MULT_BAND_9': 0.0024079, u'RADIANCE_MULT_BAND_8': 0.011394, u'DATUM': u'WGS84', u'REFLECTANCE_MAXIMUM_BAND_8': 1.2107, u'CORNER_LR_LON_PRODUCT': -10.51667, u'REFLECTANCE_MAXIMUM_BAND_6': 1.2107, u'REFLECTANCE_MAXIMUM_BAND_7': 1.2107, u'REFLECTANCE_MAXIMUM_BAND_4': 1.2107, u'REFLECTANCE_MAXIMUM_BAND_5': 1.2107, u'REFLECTANCE_MAXIMUM_BAND_2': 1.2107, u'REFLECTANCE_MAXIMUM_BAND_3': 1.2107, u'REFLECTANCE_MAXIMUM_BAND_1': 1.2107, u'GROUND_CONTROL_POINTS_VERSION': 4, u'REFLECTANCE_ADD_BAND_9': -0.1, u'ELLIPSOID': u'WGS84', u'system:time_end': 1395410927035, u'REFLECTANCE_ADD_BAND_8': -0.1, u'RADIANCE_ADD_BAND_1': -63.26291, u'RADIANCE_MAXIMUM_BAND_10': 22.0018, u'RADIANCE_MAXIMUM_BAND_11': 22.0018, u'google:cloud_storage_path_md5': u'97c05aaf115bf37d23b0a39275b5d20d', u'BPF_NAME_OLI': u'LO8BPF20140321140748_20140321145334.01', u'GRID_CELL_SIZE_THERMAL': 30.0, u'RADIANCE_ADD_BAND_3': -59.69605, u'QUANTIZE_CAL_MAX_BAND_11': 65535, u'QUANTIZE_CAL_MAX_BAND_10': 65535, u'RADIANCE_ADD_BAND_2': -64.78199, u'RADIANCE_ADD_BAND_5': -30.805, u'system:asset_size': 1073838969, u'google:cloud_storage_path_bytes': 652844765, u'RADIANCE_ADD_BAND_4': -50.33907, u'RADIANCE_ADD_BAND_7': -2.58214, u'CORNER_UL_LAT_PRODUCT': 79.2866, u'WRS_PATH': 1, u'REFLECTANCE_MINIMUM_BAND_4': -0.09998, u'DATA_TYPE': u'L1T', u'FILE_NAME_BAND_QUALITY': u'LC80010042014080LGN00_BQA.TIF', u'QUANTIZE_CAL_MAX_BAND_5': 65535, u'QUANTIZE_CAL_MAX_BAND_4': 65535, u'QUANTIZE_CAL_MAX_BAND_7': 65535, u'QUANTIZE_CAL_MAX_BAND_6': 65535, u'QUANTIZE_CAL_MAX_BAND_1': 65535, u'QUANTIZE_CAL_MAX_BAND_3': 65535, u'QUANTIZE_CAL_MAX_BAND_2': 65535, u'QUANTIZE_CAL_MAX_BAND_9': 65535, u'QUANTIZE_CAL_MAX_BAND_8': 65535, u'REFLECTIVE_LINES': 9171, u'IMAGE_QUALITY_TIRS': 9, u'SPACECRAFT_ID': u'LANDSAT_8', u'STATION_ID': u'LGN', u'CPF_NAME': u'L8CPF20140101_20140331.05', u'CORNER_UR_LON_PRODUCT': -9.4981, u'google:cloud_storage_path': u'gs://earthengine-public/landsat/L8/001/004/LC80010042014080LGN00.tar.bz', u'REFLECTANCE_MULT_BAND_9': 2e-05, u'REFLECTANCE_MULT_BAND_8': 2e-05, u'QUANTIZE_CAL_MIN_BAND_11': 1, u'QUANTIZE_CAL_MIN_BAND_10': 1, u'CORNER_LL_LAT_PRODUCT': 76.84021, u'REFLECTANCE_MULT_BAND_1': 2e-05, u'REFLECTANCE_MULT_BAND_3': 2e-05, u'REFLECTANCE_MULT_BAND_2': 2e-05, u'REFLECTANCE_MULT_BAND_5': 2e-05, u'REFLECTANCE_MULT_BAND_4': 2e-05, u'REFLECTANCE_MULT_BAND_7': 2e-05, u'REFLECTANCE_MULT_BAND_6': 2e-05, u'WRS_ROW': 4, u'REFLECTANCE_MINIMUM_BAND_5': -0.09998, u'REFLECTANCE_MINIMUM_BAND_6': -0.09998, u'REFLECTANCE_MINIMUM_BAND_7': -0.09998, u'REFLECTANCE_MINIMUM_BAND_1': -0.09998, u'REFLECTANCE_MINIMUM_BAND_2': -0.09998, u'REFLECTANCE_MINIMUM_BAND_3': -0.09998, u'TARGET_WRS_PATH': 1, u'GEOMETRIC_RMSE_MODEL_X': 16.564, u'GEOMETRIC_RMSE_MODEL_Y': 25.363, u'THERMAL_SAMPLES': 9171, u'RADIANCE_MAXIMUM_BAND_8': 689.73553, u'RADIANCE_MAXIMUM_BAND_9': 145.75974, u'QUANTIZE_CAL_MIN_BAND_9': 1, u'RADIANCE_MAXIMUM_BAND_3': 722.7401, u'RADIANCE_MAXIMUM_BAND_1': 765.9241, u'RADIANCE_MAXIMUM_BAND_2': 784.3156, u'QUANTIZE_CAL_MIN_BAND_8': 1, u'RADIANCE_MAXIMUM_BAND_4': 609.4552, u'RADIANCE_MAXIMUM_BAND_5': 372.95618, u'RADIANCE_MAXIMUM_BAND_6': 92.75081, u'RADIANCE_MAXIMUM_BAND_7': 31.26199, u'DATE_ACQUIRED': u'2014-03-21', u'RLUT_FILE_NAME': u'L8RLUT20130211_20150302v10.h5', u'K2_CONSTANT_BAND_10': 1321.0789, u'LANDSAT_SCENE_ID': u'LC80010042014080LGN00', u'CORNER_LR_PROJECTION_Y_PRODUCT': 8537700.0, u'SUN_AZIMUTH': -165.32024, u'CORNER_LL_PROJECTION_X_PRODUCT': 338400.0, u'CORNER_UR_PROJECTION_Y_PRODUCT': 8812800.0, u'system:time_start': 1395410927035, u'QUANTIZE_CAL_MIN_BAND_1': 1, u'CLOUD_COVER_LAND': 11.15, u'BPF_NAME_TIRS': u'LT8BPF20140321140354_20140321145427.01', u'ELEVATION_SOURCE': u'GLS2000', u'GRID_CELL_SIZE_REFLECTIVE': 30.0, u'ORIENTATION': u'NORTH_UP', u'SENSOR_ID': u'OLI_TIRS', u'REFLECTANCE_MINIMUM_BAND_8': -0.09998, u'CORNER_LR_PROJECTION_X_PRODUCT': 613500.0, u'RADIANCE_MULT_BAND_11': 0.0003342, u'RADIANCE_MULT_BAND_10': 0.0003342, u'RADIANCE_MINIMUM_BAND_10': 0.10033, u'RADIANCE_MINIMUM_BAND_11': 0.10033, u'PANCHROMATIC_SAMPLES': 18341, u'ORIGIN': u'Image courtesy of the U.S. Geological Survey', u'TARGET_WRS_ROW': 4, u'UTM_ZONE': 28, u'PROCESSING_SOFTWARE_VERSION': u'LPGS_2.6.2', u'REFLECTANCE_MAXIMUM_BAND_9': 1.2107, u'CORNER_UL_PROJECTION_Y_PRODUCT': 8812800.0, u'SUN_ELEVATION': 11.895575, u'MAP_PROJECTION': u'UTM', u'IMAGE_QUALITY_OLI': 9, u'METADATA_FILE_NAME': u'LC80010042014080LGN00_MTL.txt', u'FILE_DATE': 1463920990000, u'RESAMPLING_OPTION': u'CUBIC_CONVOLUTION', u'CORNER_UR_LAT_PRODUCT': 79.33569, u'TIRS_SSM_MODEL': u'ACTUAL', u'system:index': u'LC80010042014080LGN00', u'PANCHROMATIC_LINES': 18341, u'NADIR_OFFNADIR': u'NADIR', u'CORNER_LR_LAT_PRODUCT': 76.87992, u'REFLECTIVE_SAMPLES': 9171, u'GRID_CELL_SIZE_PANCHROMATIC': 15.0, u'TIRS_SSM_POSITION_STATUS': u'NOMINAL', u'system:footprint': {u'type': u'LinearRing', u'coordinates': [[-16.115051544742382, 79.37986498113963], [-22.00405181139839, 78.06252656391948], [-16.038706226122365, 76.91984317207138], [-10.075451661482434, 78.11938071511756], [-16.115051544742382, 79.37986498113963]]}, u'GROUND_CONTROL_POINTS_MODEL': 24, u'RADIANCE_MINIMUM_BAND_6': -7.65939, u'RADIANCE_MINIMUM_BAND_7': -2.58163, u'RADIANCE_MINIMUM_BAND_4': -50.32901, u'RADIANCE_MINIMUM_BAND_5': -30.79884, u'RADIANCE_MINIMUM_BAND_2': -64.76904, u'RADIANCE_MINIMUM_BAND_3': -59.68411, u'FILE_NAME_BAND_5': u'LC80010042014080LGN00_B5.TIF', u'RADIANCE_MINIMUM_BAND_1': -63.25026, u'CLOUD_COVER': 1.26, u'FILE_NAME_BAND_9': u'LC80010042014080LGN00_B9.TIF', u'FILE_NAME_BAND_8': u'LC80010042014080LGN00_B8.TIF', u'RADIANCE_MINIMUM_BAND_8': -56.95858, u'RADIANCE_MINIMUM_BAND_9': -12.03689, u'RADIANCE_ADD_BAND_9': -12.03929, u'RADIANCE_ADD_BAND_8': -56.96998, u'CORNER_UL_PROJECTION_X_PRODUCT': 338400.0, u'FILE_NAME_BAND_11': u'LC80010042014080LGN00_B11.TIF', u'FILE_NAME_BAND_10': u'LC80010042014080LGN00_B10.TIF', u'REFLECTANCE_ADD_BAND_7': -0.1, u'REFLECTANCE_ADD_BAND_6': -0.1, u'REFLECTANCE_ADD_BAND_5': -0.1, u'REFLECTANCE_ADD_BAND_4': -0.1, u'REFLECTANCE_ADD_BAND_3': -0.1, u'REFLECTANCE_ADD_BAND_2': -0.1, u'REFLECTANCE_ADD_BAND_1': -0.1, u'RADIANCE_ADD_BAND_6': -7.66092, u'FILE_NAME_BAND_3': u'LC80010042014080LGN00_B3.TIF', u'FILE_NAME_BAND_2': u'LC80010042014080LGN00_B2.TIF', u'OUTPUT_FORMAT': u'GEOTIFF', u'FILE_NAME_BAND_1': u'LC80010042014080LGN00_B1.TIF', u'K1_CONSTANT_BAND_10': 774.8853, u'K1_CONSTANT_BAND_11': 480.8883, u'FILE_NAME_BAND_7': u'LC80010042014080LGN00_B7.TIF', u'CORNER_UL_LON_PRODUCT': -22.80941, u'FILE_NAME_BAND_6': u'LC80010042014080LGN00_B6.TIF', u'RADIANCE_ADD_BAND_11': 0.1, u'RADIANCE_ADD_BAND_10': 0.1, u'CORNER_UR_PROJECTION_X_PRODUCT': 613500.0, u'FILE_NAME_BAND_4': u'LC80010042014080LGN00_B4.TIF', u'catalog_cloud_cover': 0, u'catalog_image_quality1': 9, u'K2_CONSTANT_BAND_11': 1201.1442, u'ROLL_ANGLE': -0.001, u'CORNER_LL_LON_PRODUCT': -21.37035}}\n"
     ]
    }
   ],
   "source": [
    "l8info = landsat8.getInfo()\n",
    "print(l8info)"
   ]
  },
  {
   "cell_type": "code",
   "execution_count": 18,
   "metadata": {
    "collapsed": false
   },
   "outputs": [
    {
     "data": {
      "text/html": [
       "<img src=\"https://earthengine.googleapis.com/api/thumb?thumbid=cb010bd87eed49d09855478dd26cb417&token=87e4bfdf50c00b8a8c0e9ccd1ebf21ea\"/>"
      ],
      "text/plain": [
       "<IPython.core.display.Image object>"
      ]
     },
     "execution_count": 18,
     "metadata": {},
     "output_type": "execute_result"
    }
   ],
   "source": [
    "Image(url=landsat8.getThumbUrl({'min':0, 'max':1}))"
   ]
  },
  {
   "cell_type": "code",
   "execution_count": null,
   "metadata": {
    "collapsed": true
   },
   "outputs": [],
   "source": []
  }
 ],
 "metadata": {
  "kernelspec": {
   "display_name": "Python 2",
   "language": "python",
   "name": "python2"
  },
  "language_info": {
   "codemirror_mode": {
    "name": "ipython",
    "version": 2
   },
   "file_extension": ".py",
   "mimetype": "text/x-python",
   "name": "python",
   "nbconvert_exporter": "python",
   "pygments_lexer": "ipython2",
   "version": "2.7.12"
  }
 },
 "nbformat": 4,
 "nbformat_minor": 0
}
